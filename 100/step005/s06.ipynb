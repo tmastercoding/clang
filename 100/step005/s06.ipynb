{
 "cells": [
  {
   "cell_type": "code",
   "execution_count": 10,
   "metadata": {},
   "outputs": [
    {
     "name": "stdout",
     "output_type": "stream",
     "text": [
      "1 0 -1 -1 2 -1 -1 -1 -1 4 3 -1 -1 7 5 -1 -1 -1 -1 -1 -1 -1 -1 -1 -1 -1 0.0006542205810546875\n"
     ]
    }
   ],
   "source": [
    "import time\n",
    "\n",
    "def step06():\n",
    "    letter = 'a'\n",
    "    idx = ord(letter[0])\n",
    "\n",
    "    while idx < ord(letter[0]) + 26:\n",
    "        print(word.find(chr(idx)), end=\" \")\n",
    "        idx+=1\n",
    "\n",
    "word = input()\n",
    "\n",
    "start = time.time()\n",
    "\n",
    "step06()\n",
    "\n",
    "end = time.time()\n",
    "\n",
    "print(end-start)"
   ]
  },
  {
   "cell_type": "code",
   "execution_count": 9,
   "metadata": {},
   "outputs": [
    {
     "name": "stdout",
     "output_type": "stream",
     "text": [
      "[1, 0, -1, -1, 2, -1, -1, -1, -1, 4, 3, -1, -1, 7, 5, -1, -1, -1, -1, -1, -1, -1, -1, -1, -1, -1]\n",
      "0.00040 sec\n"
     ]
    }
   ],
   "source": [
    "import time\n",
    "\n",
    "def step06():\n",
    "    lower_alpha =  range(ord('a'), ord('z')+1)\n",
    "\n",
    "    result = []\n",
    "    for ch in lower_alpha:\n",
    "        result.append( text.find( chr(ch) ) )\n",
    "\n",
    "    print( result )\n",
    "\n",
    "text = input()\n",
    "\n",
    "start = time.time()\n",
    "\n",
    "step06()\n",
    "\n",
    "end = time.time()\n",
    "\n",
    "print( f'{end - start:.5f} sec' )\n"
   ]
  }
 ],
 "metadata": {
  "kernelspec": {
   "display_name": "py3.9.5",
   "language": "python",
   "name": "python3"
  },
  "language_info": {
   "codemirror_mode": {
    "name": "ipython",
    "version": 3
   },
   "file_extension": ".py",
   "mimetype": "text/x-python",
   "name": "python",
   "nbconvert_exporter": "python",
   "pygments_lexer": "ipython3",
   "version": "3.9.5"
  }
 },
 "nbformat": 4,
 "nbformat_minor": 2
}
