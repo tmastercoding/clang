{
 "cells": [
  {
   "cell_type": "code",
   "execution_count": 2,
   "metadata": {},
   "outputs": [
    {
     "name": "stdout",
     "output_type": "stream",
     "text": [
      "ac\n",
      "oo\n",
      "de\n"
     ]
    }
   ],
   "source": [
    "inputTimes = int(input())\n",
    "strArr = list()\n",
    "for _ in range(inputTimes):\n",
    "    temp = input()\n",
    "    strArr.append(temp)\n",
    "\n",
    "for temp in strArr:\n",
    "    print(temp[0]+temp[-1])"
   ]
  }
 ],
 "metadata": {
  "kernelspec": {
   "display_name": "py3.9.5",
   "language": "python",
   "name": "python3"
  },
  "language_info": {
   "codemirror_mode": {
    "name": "ipython",
    "version": 3
   },
   "file_extension": ".py",
   "mimetype": "text/x-python",
   "name": "python",
   "nbconvert_exporter": "python",
   "pygments_lexer": "ipython3",
   "version": "3.9.5"
  }
 },
 "nbformat": 4,
 "nbformat_minor": 2
}
