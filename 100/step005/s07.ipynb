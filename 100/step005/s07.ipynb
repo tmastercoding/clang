{
 "cells": [
  {
   "cell_type": "code",
   "execution_count": 4,
   "metadata": {},
   "outputs": [
    {
     "name": "stdout",
     "output_type": "stream",
     "text": [
      "aaabbbccc\n",
      "aaaadddd\n"
     ]
    }
   ],
   "source": [
    "cases = int(input())\n",
    "\n",
    "for _ in range(cases):\n",
    "    text = input()\n",
    "    repeat = int(text.split()[0])\n",
    "    string = text.split()[1]\n",
    "    for letter in string:\n",
    "        print(letter*repeat, end = \"\")\n",
    "    print()\n"
   ]
  },
  {
   "cell_type": "code",
   "execution_count": null,
   "metadata": {},
   "outputs": [],
   "source": [
    "times = input()\n",
    "\n",
    "lines = []\n",
    "for _ in  range( int(times) ):\n",
    "    line = input()\n",
    "    lines.append( line.split() )\n",
    "\n",
    "for line in lines:\n",
    "    count, text = line\n",
    "    for ch  in text:\n",
    "        print( int(count)*ch, end='' )\n",
    "    print()"
   ]
  }
 ],
 "metadata": {
  "kernelspec": {
   "display_name": "py3.9.5",
   "language": "python",
   "name": "python3"
  },
  "language_info": {
   "codemirror_mode": {
    "name": "ipython",
    "version": 3
   },
   "file_extension": ".py",
   "mimetype": "text/x-python",
   "name": "python",
   "nbconvert_exporter": "python",
   "pygments_lexer": "ipython3",
   "version": "3.9.5"
  }
 },
 "nbformat": 4,
 "nbformat_minor": 2
}
