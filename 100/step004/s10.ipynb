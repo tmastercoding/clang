{
 "cells": [
  {
   "cell_type": "code",
   "execution_count": null,
   "metadata": {},
   "outputs": [],
   "source": [
    "# 문제\n",
    "# 세준이는 기말고사를 망쳤다. \n",
    "# 세준이는 점수를 조작해서 집에 가져가기로 했다. \n",
    "# 일단 세준이는 자기 점수 중에 최댓값을 골랐다. \n",
    "# 이 값을 M이라고 한다. \n",
    "# 그리고 나서 모든 점수를 점수/M*100으로 고쳤다.\n",
    "\n",
    "# 예를 들어, 세준이의 최고점이 70이고, 수학점수가 50이었으면 \n",
    "# 수학점수는 50/70*100이 되어 71.43점이 된다.\n",
    "\n",
    "# 세준이의 성적을 위의 방법대로 새로 계산했을 때, \n",
    "# 새로운 평균을 구하는 프로그램을 작성하시오.\n",
    "\n",
    "# 입력\n",
    "# 첫째 줄에 시험 본 과목의 개수 N이 주어진다. \n",
    "# 이 값은 1000보다 작거나 같다. \n",
    "# 둘째 줄에 세준이의 현재 성적이 주어진다. \n",
    "# 이 값은 100보다 작거나 같은 음이 아닌 정수이고, \n",
    "# 적어도 하나의 값은 0보다 크다.\n",
    "\n",
    "# 출력\n",
    "# 첫째 줄에 새로운 평균을 출력한다. \n",
    "# 실제 정답과 출력값의 절대오차 또는 상대오차가 10-2 이하이면 정답이다."
   ]
  },
  {
   "cell_type": "code",
   "execution_count": 3,
   "metadata": {},
   "outputs": [
    {
     "name": "stdout",
     "output_type": "stream",
     "text": [
      "75.0\n"
     ]
    }
   ],
   "source": [
    "count = 3\n",
    "# inputs text\n",
    "input_text = input()\n",
    "\n",
    "# splits text and casts int\n",
    "scores = list(map(lambda x: int(x), input_text.split()))\n",
    "\n",
    "# get max\n",
    "max_score = max(scores)\n",
    "total = 0\n",
    "\n",
    "# apply formula\n",
    "for score in scores:\n",
    "    total += score/max_score*100\n",
    "\n",
    "# get avg\n",
    "avg = total/count\n",
    "\n",
    "# output\n",
    "print(avg)"
   ]
  }
 ],
 "metadata": {
  "kernelspec": {
   "display_name": "py3.9.5",
   "language": "python",
   "name": "python3"
  },
  "language_info": {
   "codemirror_mode": {
    "name": "ipython",
    "version": 3
   },
   "file_extension": ".py",
   "mimetype": "text/x-python",
   "name": "python",
   "nbconvert_exporter": "python",
   "pygments_lexer": "ipython3",
   "version": "3.9.5"
  }
 },
 "nbformat": 4,
 "nbformat_minor": 2
}
