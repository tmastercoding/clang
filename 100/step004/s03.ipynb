{
 "cells": [
  {
   "cell_type": "code",
   "execution_count": 3,
   "metadata": {},
   "outputs": [
    {
     "ename": "ValueError",
     "evalue": "max() arg is an empty sequence",
     "output_type": "error",
     "traceback": [
      "\u001b[0;31m---------------------------------------------------------------------------\u001b[0m",
      "\u001b[0;31mValueError\u001b[0m                                Traceback (most recent call last)",
      "\u001b[0;32m/var/folders/nr/d4ml_tqd4z91nyr3ryvm6xsr0000gn/T/ipykernel_13539/3431907671.py\u001b[0m in \u001b[0;36m<module>\u001b[0;34m\u001b[0m\n\u001b[1;32m     16\u001b[0m \u001b[0;34m\u001b[0m\u001b[0m\n\u001b[1;32m     17\u001b[0m \u001b[0mminVal\u001b[0m \u001b[0;34m=\u001b[0m \u001b[0mmin\u001b[0m\u001b[0;34m(\u001b[0m\u001b[0mnumbers_cpy\u001b[0m\u001b[0;34m)\u001b[0m\u001b[0;34m\u001b[0m\u001b[0;34m\u001b[0m\u001b[0m\n\u001b[0;32m---> 18\u001b[0;31m \u001b[0mmaxVal\u001b[0m \u001b[0;34m=\u001b[0m \u001b[0mmax\u001b[0m\u001b[0;34m(\u001b[0m\u001b[0mnumbers_cpy\u001b[0m\u001b[0;34m)\u001b[0m\u001b[0;34m\u001b[0m\u001b[0;34m\u001b[0m\u001b[0m\n\u001b[0m\u001b[1;32m     19\u001b[0m \u001b[0;31m# for num in numbers_cpy:\u001b[0m\u001b[0;34m\u001b[0m\u001b[0;34m\u001b[0m\u001b[0;34m\u001b[0m\u001b[0m\n\u001b[1;32m     20\u001b[0m \u001b[0;31m#     if num < minVal:\u001b[0m\u001b[0;34m\u001b[0m\u001b[0;34m\u001b[0m\u001b[0;34m\u001b[0m\u001b[0m\n",
      "\u001b[0;31mValueError\u001b[0m: max() arg is an empty sequence"
     ]
    }
   ],
   "source": [
    "# get size\n",
    "size = int(input())\n",
    "# numbers = input().split(maxsplit=size)\n",
    "\n",
    "# split into list\n",
    "numbers = input().split(maxsplit=size)\n",
    "\n",
    "# numbers_cpy = []\n",
    "# for num in numbers:\n",
    "#     numbers_cpy.append( int(num) )\n",
    "\n",
    "# typecast to int\n",
    "numbers_cpy = map( lambda x : int(x), numbers )\n",
    "\n",
    "# print(numbers_cpy)\n",
    "\n",
    "# get min and max\n",
    "minVal = int(numbers[0])\n",
    "maxVal = int(numbers[0])\n",
    "\n",
    "for num in numbers_cpy:\n",
    "    if num < minVal:\n",
    "        minVal = num\n",
    "    if num > maxVal:\n",
    "        maxVal = num\n",
    "\n",
    "# output\n",
    "print(minVal, maxVal)\n",
    "\n",
    "# numbers_cpy = list(numbers_cpy)\n",
    "# print( numbers_cpy )\n",
    "# print( min(numbers_cpy), max(numbers_cpy))"
   ]
  },
  {
   "cell_type": "code",
   "execution_count": 4,
   "metadata": {},
   "outputs": [
    {
     "data": {
      "text/plain": [
       "(1, 5)"
      ]
     },
     "execution_count": 4,
     "metadata": {},
     "output_type": "execute_result"
    }
   ],
   "source": [
    "import numpy as np\n",
    "\n",
    "# get size\n",
    "size = int(input())\n",
    "# numbers = input().split(maxsplit=size)\n",
    "\n",
    "# get input into list\n",
    "numbers = input().split(maxsplit=size)\n",
    "\n",
    "# create np array and typecast to int\n",
    "numbers =  np.array( numbers ).astype(int)\n",
    "\n",
    "# print min and max\n",
    "print(numbers.min(), numbers.max())"
   ]
  },
  {
   "cell_type": "code",
   "execution_count": null,
   "metadata": {},
   "outputs": [],
   "source": []
  }
 ],
 "metadata": {
  "kernelspec": {
   "display_name": "py3.9.5",
   "language": "python",
   "name": "python3"
  },
  "language_info": {
   "codemirror_mode": {
    "name": "ipython",
    "version": 3
   },
   "file_extension": ".py",
   "mimetype": "text/x-python",
   "name": "python",
   "nbconvert_exporter": "python",
   "pygments_lexer": "ipython3",
   "version": "3.9.5"
  }
 },
 "nbformat": 4,
 "nbformat_minor": 2
}
