{
 "cells": [
  {
   "cell_type": "code",
   "execution_count": null,
   "metadata": {},
   "outputs": [],
   "source": [
    "# 도현이는 바구니를 총 N개 가지고 있고, \n",
    "# 각각의 바구니에는 1번부터 N번까지 번호가 매겨져 있다.\n",
    "# 바구니에는 공이 1개씩 들어있고, \n",
    "# 처음에는 바구니에 적혀있는 번호와 같은 번호가 적힌 공이 들어있다.\n",
    "\n",
    "# 도현이는 앞으로 M번 공을 바꾸려고 한다. \n",
    "# 도현이는 공을 바꿀 바구니 2개를 선택하고, \n",
    "# 두 바구니에 들어있는 공을 서로 교환한다.\n",
    "\n",
    "# 공을 어떻게 바꿀지가 주어졌을 때, \n",
    "# M번 공을 바꾼 이후에 각 바구니에 어떤 공이 들어있는지 구하는 프로그램을 작성하시오.\n",
    "\n",
    "# Input\n",
    "# 첫째 줄에 N (1 ≤ N ≤ 100)과 M (1 ≤ M ≤ 100)이 주어진다.\n",
    "\n",
    "# 둘째 줄부터 M개의 줄에 걸쳐서 공을 교환할 방법이 주어진다. \n",
    "# 각 방법은 두 정수 i j로 이루어져 있으며, \n",
    "# i번 바구니와 j번 바구니에 들어있는 공을 교환한다는 뜻이다. (1 ≤ i ≤ j ≤ N)\n",
    "\n",
    "# 도현이는 입력으로 주어진 순서대로 공을 교환한다.\n",
    "\n",
    "# Output\n",
    "# 1번 바구니부터 N번 바구니에 들어있는 공의 번호를 공백으로 구분해 출력한다.\n",
    "\n",
    "# Example Input\n",
    "# 5 4\n",
    "# 1 2\n",
    "# 3 4\n",
    "# 1 4\n",
    "# 2 2\n",
    "\n",
    "# Example Output\n",
    "# 3 1 4 2 5"
   ]
  },
  {
   "cell_type": "code",
   "execution_count": 1,
   "metadata": {},
   "outputs": [
    {
     "name": "stdout",
     "output_type": "stream",
     "text": [
      "3 1 4 2 5 \n"
     ]
    }
   ],
   "source": [
    "# declare variables\n",
    "sizeBasket = 0\n",
    "noOfSwitch = 0\n",
    "tempSrc = 0\n",
    "tempDest = 0\n",
    "tempBall = 0\n",
    "idx = 0\n",
    "\n",
    "# input for var\n",
    "buffer = input().split()\n",
    "sizeBasket = int(buffer[0])\n",
    "noOfSwitch = int(buffer[1])\n",
    "\n",
    "# create and set dictionary\n",
    "# {basket number: ball number}\n",
    "baskets = dict()\n",
    "for key in range(1, sizeBasket+1):\n",
    "    baskets[key] = key\n",
    "\n",
    "\n",
    "# loop for noOfSwitch\n",
    "while idx < noOfSwitch:    \n",
    "    # input for tempVar\n",
    "    buffer = input()\n",
    "    tempSrc = int(buffer.split(maxsplit = 2)[0])\n",
    "    tempDest = int(buffer.split(maxsplit = 2)[1])\n",
    "    # switch\n",
    "    tempBall = int(baskets[tempDest])\n",
    "    baskets[tempDest] = int(baskets[tempSrc])\n",
    "    baskets[tempSrc] = tempBall\n",
    "    idx+=1\n",
    "# output\n",
    "for val in baskets.values():\n",
    "    print(val, end = ' ')\n",
    "\n",
    "print()"
   ]
  },
  {
   "cell_type": "code",
   "execution_count": 15,
   "metadata": {},
   "outputs": [
    {
     "data": {
      "text/plain": [
       "{'a': 1, 'b': 2, 'c': 3}"
      ]
     },
     "execution_count": 15,
     "metadata": {},
     "output_type": "execute_result"
    }
   ],
   "source": [
    "a = [ 'a', 'b', 'c']\n",
    "b = [ 1, 2, 3]\n",
    "dict(zip(a, b))"
   ]
  },
  {
   "cell_type": "code",
   "execution_count": null,
   "metadata": {},
   "outputs": [],
   "source": [
    "n = 6\n",
    "\n",
    "basket = dict(zip( list(range(1,n)), list(range(1,n)) ))\n",
    "\n",
    "\n",
    "def swap( basket, a, b ):\n",
    "    temp = basket[ a ]\n",
    "    basket[ a ] = basket[ b ]\n",
    "    basket[ b ] = temp\n",
    "\n",
    "    return basket\n",
    "\n",
    "while True:\n",
    "    one, other = input().split()\n",
    "\n",
    "    basket = swap( basket, int( one ), int( other ) )\n",
    "    n-= 1\n",
    "    if n < 0:  break\n",
    "\n",
    "print( basket )"
   ]
  },
  {
   "cell_type": "code",
   "execution_count": 1,
   "metadata": {},
   "outputs": [
    {
     "ename": "NameError",
     "evalue": "name 'baskets' is not defined",
     "output_type": "error",
     "traceback": [
      "\u001b[0;31m---------------------------------------------------------------------------\u001b[0m",
      "\u001b[0;31mNameError\u001b[0m                                 Traceback (most recent call last)",
      "\u001b[0;32m/var/folders/nr/d4ml_tqd4z91nyr3ryvm6xsr0000gn/T/ipykernel_89873/4234824118.py\u001b[0m in \u001b[0;36m<module>\u001b[0;34m\u001b[0m\n\u001b[1;32m     29\u001b[0m \u001b[0;34m\u001b[0m\u001b[0m\n\u001b[1;32m     30\u001b[0m \u001b[0;31m# output\u001b[0m\u001b[0;34m\u001b[0m\u001b[0;34m\u001b[0m\u001b[0;34m\u001b[0m\u001b[0m\n\u001b[0;32m---> 31\u001b[0;31m \u001b[0;32mfor\u001b[0m \u001b[0mb\u001b[0m \u001b[0;32min\u001b[0m \u001b[0mbaskets\u001b[0m\u001b[0;34m.\u001b[0m\u001b[0mvalues\u001b[0m\u001b[0;34m(\u001b[0m\u001b[0;34m)\u001b[0m\u001b[0;34m:\u001b[0m\u001b[0;34m\u001b[0m\u001b[0;34m\u001b[0m\u001b[0m\n\u001b[0m\u001b[1;32m     32\u001b[0m     \u001b[0mprint\u001b[0m\u001b[0;34m(\u001b[0m\u001b[0mb\u001b[0m\u001b[0;34m,\u001b[0m \u001b[0mend\u001b[0m \u001b[0;34m=\u001b[0m \u001b[0;34m' '\u001b[0m\u001b[0;34m)\u001b[0m\u001b[0;34m\u001b[0m\u001b[0;34m\u001b[0m\u001b[0m\n\u001b[1;32m     33\u001b[0m \u001b[0mprint\u001b[0m\u001b[0;34m(\u001b[0m\u001b[0;34m)\u001b[0m\u001b[0;34m\u001b[0m\u001b[0;34m\u001b[0m\u001b[0m\n",
      "\u001b[0;31mNameError\u001b[0m: name 'baskets' is not defined"
     ]
    }
   ],
   "source": [
    "# input for var\n",
    "buffer = input().split()\n",
    "sizeBasket = int(buffer[0])\n",
    "noOfSwitch = int(buffer[1])\n",
    "\n",
    "# declare variable\n",
    "idx = noOfSwitch\n",
    "\n",
    "# zip to dict\n",
    "basket = dict(zip( list(range(1,sizeBasket+1)), list(range(1,sizeBasket+1)) ))\n",
    "\n",
    "# swap function\n",
    "def swap( basket, a, b ):\n",
    "    temp = int(basket[ a ])\n",
    "    basket[ a ] = int(basket[ b ])\n",
    "    basket[ b ] = temp\n",
    "    return basket\n",
    "\n",
    "# loop for sizeBasket\n",
    "while True:\n",
    "    # get input\n",
    "    one, other = input().split()\n",
    "\n",
    "    # swap\n",
    "    basket = swap( basket, int( one ), int( other ) )\n",
    "    \n",
    "    idx-= 1\n",
    "    if idx <= 0:  break\n",
    "\n",
    "# output\n",
    "for b in basket.values():\n",
    "    print(b, end = ' ')\n",
    "print()"
   ]
  }
 ],
 "metadata": {
  "kernelspec": {
   "display_name": "py3.9.5",
   "language": "python",
   "name": "python3"
  },
  "language_info": {
   "codemirror_mode": {
    "name": "ipython",
    "version": 3
   },
   "file_extension": ".py",
   "mimetype": "text/x-python",
   "name": "python",
   "nbconvert_exporter": "python",
   "pygments_lexer": "ipython3",
   "version": "3.9.5"
  }
 },
 "nbformat": 4,
 "nbformat_minor": 2
}
