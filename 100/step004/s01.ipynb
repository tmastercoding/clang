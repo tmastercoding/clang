{
 "cells": [
  {
   "cell_type": "markdown",
   "metadata": {},
   "source": [
    "# input"
   ]
  },
  {
   "cell_type": "code",
   "execution_count": 3,
   "metadata": {},
   "outputs": [],
   "source": [
    "size = int(input()) \n",
    "\n",
    "#  verify to value, integer and 1 ≤ N ≤ 100\n",
    "while True:\n",
    "    if not((1 <= size) and (size <= 100)):\n",
    "        print(\"Input int between(including) 1 and 100.\")\n",
    "        size = int(input())\n",
    "    else:\n",
    "        break"
   ]
  },
  {
   "cell_type": "code",
   "execution_count": 4,
   "metadata": {},
   "outputs": [],
   "source": [
    "values = []\n",
    "idx = 0\n",
    "while( True ):\n",
    "    if idx > size:\n",
    "        break\n",
    "    value = input()\n",
    "    idx+=1\n",
    "    # verify to value, integer\n",
    "    # can just comp char - not neccessary\n",
    "    \n",
    "    # append values list\n",
    "    values.append(value)"
   ]
  },
  {
   "cell_type": "code",
   "execution_count": 2,
   "metadata": {},
   "outputs": [
    {
     "name": "stdout",
     "output_type": "stream",
     "text": [
      "2\n"
     ]
    }
   ],
   "source": [
    "num_range = input()\n",
    "\n",
    "num_range = int(num_range)\n",
    "\n",
    "values = []\n",
    "while( bool(num_range) ):\n",
    "\n",
    "    value = input()\n",
    "    values.append( value )\n",
    "\n",
    "    num_range-=1\n",
    "\n",
    "check_value = input()\n",
    "\n",
    "count = values.count(check_value)\n",
    "\n",
    "print( count )\n",
    " "
   ]
  },
  {
   "cell_type": "code",
   "execution_count": 1,
   "metadata": {},
   "outputs": [
    {
     "name": "stdout",
     "output_type": "stream",
     "text": [
      "['1', '1', '2', '3', '1']\n",
      "3\n"
     ]
    }
   ],
   "source": [
    "num_range = input()\n",
    "\n",
    "num_range = int(num_range)\n",
    "\n",
    "value = input()\n",
    "\n",
    "values = value.split(' ', maxsplit=num_range )[:num_range]\n",
    "\n",
    "print( values )\n",
    "\n",
    "check_value = input()\n",
    "\n",
    "count = values.count(check_value)\n",
    "\n",
    "print( count )"
   ]
  },
  {
   "cell_type": "code",
   "execution_count": null,
   "metadata": {},
   "outputs": [],
   "source": [
    "check_value = int(input())\n",
    "\n",
    "#  verify to value, integer\n",
    "while True:\n",
    "    if (-100 <= check_value) and (check_value <= 100):\n",
    "       break\n",
    "    else:\n",
    "        check_value = int(input()) "
   ]
  },
  {
   "cell_type": "code",
   "execution_count": null,
   "metadata": {},
   "outputs": [],
   "source": [
    "count = 0\n",
    "for value in values:\n",
    "    if( check_value is value ):\n",
    "        count+=1\n",
    "\n",
    "print( count )"
   ]
  },
  {
   "cell_type": "code",
   "execution_count": 10,
   "metadata": {},
   "outputs": [
    {
     "name": "stdout",
     "output_type": "stream",
     "text": [
      "5\n",
      "['1', '1', '2', '3', '4']\n",
      "2\n"
     ]
    }
   ],
   "source": [
    "size = int(input()) \n",
    "\n",
    "#  verify to value, integer and 1 ≤ N ≤ 100\n",
    "while True:\n",
    "    if not((1 <= size) and (size <= 100)):\n",
    "        print(\"Input int between(including) 1 and 100.\")\n",
    "        size = int(input())\n",
    "    else:\n",
    "        break\n",
    "\n",
    "print(size)\n",
    "\n",
    "values = []\n",
    "idx = 0\n",
    "while( True ):\n",
    "    if idx >= size:\n",
    "        break\n",
    "    value = input()\n",
    "    idx+=1\n",
    "    # verify to value, integer\n",
    "    # can just comp char - not neccessary\n",
    "    \n",
    "    # append values list\n",
    "    values.append(value)\n",
    "print(values)\n",
    "\n",
    "check_value = int(input())\n",
    "\n",
    "#  verify to value, integer\n",
    "while True:\n",
    "    if (-100 <= check_value) and (check_value <= 100):\n",
    "       break\n",
    "    else:\n",
    "        check_value = int(input()) \n",
    "\n",
    "count = values.count(str(check_value))\n",
    "\n",
    "print( count )"
   ]
  },
  {
   "cell_type": "code",
   "execution_count": null,
   "metadata": {},
   "outputs": [],
   "source": []
  },
  {
   "cell_type": "markdown",
   "metadata": {},
   "source": []
  }
 ],
 "metadata": {
  "kernelspec": {
   "display_name": "py3.9.5",
   "language": "python",
   "name": "python3"
  },
  "language_info": {
   "codemirror_mode": {
    "name": "ipython",
    "version": 3
   },
   "file_extension": ".py",
   "mimetype": "text/x-python",
   "name": "python",
   "nbconvert_exporter": "python",
   "pygments_lexer": "ipython3",
   "version": "3.9.5"
  }
 },
 "nbformat": 4,
 "nbformat_minor": 2
}
