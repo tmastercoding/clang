{
 "cells": [
  {
   "cell_type": "code",
   "execution_count": 4,
   "metadata": {},
   "outputs": [
    {
     "data": {
      "text/plain": [
       "1"
      ]
     },
     "execution_count": 4,
     "metadata": {},
     "output_type": "execute_result"
    }
   ],
   "source": [
    "attendance = dict()\n",
    "for num in range(5):\n",
    "    attendance[num+1] = 0\n",
    "\n",
    "idx = 0\n",
    "\n",
    "isPresent = lambda temp : attendance.get(temp) + 1\n",
    "\n",
    "attendance = isPresent(int(input()))\n",
    "\n",
    "attendance\n",
    "\n",
    "# falseList = list()\n",
    "\n",
    "# for key, val in attendance.items():\n",
    "#     if not val:\n",
    "#         falseList.append(key)\n",
    "\n",
    "# if falseList[0] < falseList[1]:\n",
    "#     print(falseList[0], falseList[1])\n",
    "# else:\n",
    "#     print(falseList[1], falseList[0])\n"
   ]
  },
  {
   "cell_type": "code",
   "execution_count": 9,
   "metadata": {},
   "outputs": [
    {
     "name": "stdout",
     "output_type": "stream",
     "text": [
      "4\n",
      "5\n"
     ]
    }
   ],
   "source": [
    "total = 5\n",
    "count = 3\n",
    "\n",
    "# create dict\n",
    "stds = dict( map( lambda x: (x, False), range( total ) ) )\n",
    "\n",
    "# loop input\n",
    "while True:\n",
    "    no = int(input())\n",
    "    stds[no-1] = True\n",
    "\n",
    "    count -= 1\n",
    "    if count < 1: break\n",
    "\n",
    "# filter dict only False\n",
    "stds_no = tuple(filter( lambda x:  not stds[x], stds.keys() ) )\n",
    "# output\n",
    "print( *map( lambda x: x+1, stds_no), sep = '\\n')"
   ]
  },
  {
   "cell_type": "code",
   "execution_count": 28,
   "metadata": {},
   "outputs": [
    {
     "name": "stdout",
     "output_type": "stream",
     "text": [
      "4\n",
      "5\n"
     ]
    }
   ],
   "source": [
    "\n",
    "# stds = dict( map( lambda x: (x, False), range( 5 ) ) )\n",
    "\n",
    "# while True:\n",
    "#     no = int(input())\n",
    "#     stds[no-1] = True\n",
    "\n",
    "#     count -= 1\n",
    "#     if count < 1: break\n",
    "total = 5\n",
    "count = 3\n",
    "\n",
    "# import \n",
    "import numpy as np\n",
    "\n",
    "# get np list of 0s\n",
    "stds_np = np.zeros( total )\n",
    "# print( stds_np ) \n",
    "\n",
    "# loop input\n",
    "while True:\n",
    "    no = int(input())\n",
    "    stds_np[no-1] = 1\n",
    "\n",
    "    count -= 1\n",
    "    if count < 1: break\n",
    "\n",
    "\n",
    "# print(stds_np)\n",
    "# print( stds_np )\n",
    "# list(map( lambda x: x+1, np.where( stds_np < 1)))\n",
    "# lambda x: x+1, np.where( stds_np < 1)\n",
    "\n",
    "# output\n",
    "for idx in range(1, total+1):\n",
    "    if not stds_np[idx-1]:\n",
    "        print(idx)"
   ]
  }
 ],
 "metadata": {
  "kernelspec": {
   "display_name": "py3.9.5",
   "language": "python",
   "name": "python3"
  },
  "language_info": {
   "codemirror_mode": {
    "name": "ipython",
    "version": 3
   },
   "file_extension": ".py",
   "mimetype": "text/x-python",
   "name": "python",
   "nbconvert_exporter": "python",
   "pygments_lexer": "ipython3",
   "version": "3.9.5"
  }
 },
 "nbformat": 4,
 "nbformat_minor": 2
}
