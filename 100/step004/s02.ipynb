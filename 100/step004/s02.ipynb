{
 "cells": [
  {
   "cell_type": "code",
   "execution_count": 7,
   "metadata": {},
   "outputs": [
    {
     "name": "stdout",
     "output_type": "stream",
     "text": [
      "Please input 5integers.\n",
      "1 2 3 "
     ]
    }
   ],
   "source": [
    "while True:\n",
    "    buffer = input()\n",
    "    size = int(buffer.split(' ')[0])\n",
    "    numLimit = int(buffer.split(' ')[1])\n",
    "    if (1<= size) and (numLimit <= 10000):\n",
    "        break\n",
    "    print(\"Please input a number greater(including) than 1 and a number smaller (including) than 10000\")\n",
    "\n",
    "\n",
    "while True:\n",
    "    buffer = input()\n",
    "    numList = buffer.split(' ')\n",
    "    if len(numList) is size:\n",
    "        break\n",
    "    print(\"Please input \" + str(size) + \" integers.\")\n",
    "\n",
    "for num in numList:\n",
    "    if int(num) < numLimit:\n",
    "        print(num, end = ' ')\n"
   ]
  },
  {
   "cell_type": "code",
   "execution_count": 15,
   "metadata": {},
   "outputs": [
    {
     "data": {
      "text/plain": [
       "array([1, 2, 3, 4])"
      ]
     },
     "execution_count": 15,
     "metadata": {},
     "output_type": "execute_result"
    }
   ],
   "source": [
    "import numpy as np\n",
    "\n",
    "size, num = input().split()\n",
    "\n",
    "\n",
    "numbers = input().split(maxsplit=10)\n",
    "\n",
    "numbers_np = np.array(numbers)\n",
    "numbers_np = numbers_np.astype(int)\n",
    "results = list(numbers_np[ numbers_np < int(num) ])\n",
    "\n",
    "print( results )"
   ]
  },
  {
   "cell_type": "code",
   "execution_count": null,
   "metadata": {},
   "outputs": [],
   "source": []
  }
 ],
 "metadata": {
  "kernelspec": {
   "display_name": "py3.9.5",
   "language": "python",
   "name": "python3"
  },
  "language_info": {
   "codemirror_mode": {
    "name": "ipython",
    "version": 3
   },
   "file_extension": ".py",
   "mimetype": "text/x-python",
   "name": "python",
   "nbconvert_exporter": "python",
   "pygments_lexer": "ipython3",
   "version": "3.9.5"
  }
 },
 "nbformat": 4,
 "nbformat_minor": 2
}
