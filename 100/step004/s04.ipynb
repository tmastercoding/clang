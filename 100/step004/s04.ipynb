{
 "cells": [
  {
   "cell_type": "code",
   "execution_count": 3,
   "metadata": {},
   "outputs": [],
   "source": [
    "# given 9 distinct numbers\n",
    "# output maximum number and its pos\n",
    "\n",
    "# input for temp\n",
    "temp = int(input())\n",
    "\n",
    "# assign temp to max\n",
    "max = temp\n",
    "\n",
    "# assign values\n",
    "maxPos = 1\n",
    "pos = 1\n",
    "\n",
    "# loop 8 times\n",
    "while pos != 9:\n",
    "    # get input\n",
    "    temp = int(input())\n",
    "    \n",
    "    # assign vals if\n",
    "    if temp > max:\n",
    "        maxPos = pos+1\n",
    "        max = temp\n",
    "    pos+=1\n",
    "\n",
    "# output \n",
    "print(max)\n",
    "print(maxPos)"
   ]
  },
  {
   "cell_type": "code",
   "execution_count": null,
   "metadata": {},
   "outputs": [],
   "source": []
  }
 ],
 "metadata": {
  "kernelspec": {
   "display_name": "py3.9.5",
   "language": "python",
   "name": "python3"
  },
  "language_info": {
   "codemirror_mode": {
    "name": "ipython",
    "version": 3
   },
   "file_extension": ".py",
   "mimetype": "text/x-python",
   "name": "python",
   "nbconvert_exporter": "python",
   "pygments_lexer": "ipython3",
   "version": "3.9.5"
  }
 },
 "nbformat": 4,
 "nbformat_minor": 2
}
