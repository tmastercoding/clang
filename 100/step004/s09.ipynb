{
 "cells": [
  {
   "cell_type": "code",
   "execution_count": null,
   "metadata": {},
   "outputs": [],
   "source": [
    "# 도현이는 바구니를 총 N개 가지고 있고, \n",
    "# 각각의 바구니에는 1번부터 N번까지 번호가 순서대로 적혀져 있다. \n",
    "# 바구니는 일렬로 놓여져 있고, \n",
    " \n",
    "# 도현이는 앞으로 M번 바구니의 순서를 역순으로 만들려고 한다.\n",
    "# 도현이는 한 번 순서를 역순으로 바꿀 때, \n",
    "# 순서를 역순으로 만들 범위를 정하고, \n",
    "# 그 범위에 들어있는 바구니의 순서를 역순으로 만든다.\n",
    "\n",
    "# 바구니의 순서를 어떻게 바꿀지 주어졌을 때, \n",
    "# M번 바구니의 순서를 역순으로 만든 다음, \n",
    "# 바구니에 적혀있는 번호를 가장 왼쪽 바구니부터 출력하는 프로그램을 작성하시오.\n",
    "\n",
    "# 첫째 줄에 N (1 ≤ N ≤ 100)과 M (1 ≤ M ≤ 100)이 주어진다.\n",
    "# 둘째 줄부터 M개의 줄에는 바구니의 순서를 역순으로 만드는 방법이 주어진다. \n",
    "# 방법은 i j로 나타내고, \n",
    "# 왼쪽으로부터 i번째 바구니부터 j번째 바구니의 순서를 역순으로 만든다는 뜻이다. (1 ≤ i ≤ j ≤ N)\n",
    "\n",
    "# 도현이는 입력으로 주어진 순서대로 바구니의 순서를 바꾼다.\n",
    "\n",
    "# Input:\n",
    "# 5 4 -> 1 2 3 4 5\n",
    "# 1 2 -> 2 1 3 4 5\n",
    "# 3 4 -> 2 1 4 3 5\n",
    "# 1 4 -> 3 4 1 2 5\n",
    "# 2 2 -> 3 4 1 2 5"
   ]
  },
  {
   "cell_type": "code",
   "execution_count": 14,
   "metadata": {},
   "outputs": [],
   "source": [
    "# def reverse(start, end, array):\n",
    "#     length = end-start+1\n",
    "#     # 2-1 + 1 = 2\n",
    "#     for i in range(int(length/2)):\n",
    "#         # swap\n",
    "\n",
    "#         temp = array[i]\n",
    "#         array[i] = array[-(i+1)]\n",
    "#         # array[0] = array[-1]\n",
    "#         array[-(i+1)] = temp\n",
    "\n"
   ]
  },
  {
   "cell_type": "code",
   "execution_count": 22,
   "metadata": {},
   "outputs": [
    {
     "name": "stdout",
     "output_type": "stream",
     "text": [
      "[1, 2, 3]\n"
     ]
    },
    {
     "data": {
      "text/plain": [
       "[3, 2, 1, 4, 5]"
      ]
     },
     "execution_count": 22,
     "metadata": {},
     "output_type": "execute_result"
    }
   ],
   "source": []
  },
  {
   "cell_type": "code",
   "execution_count": 28,
   "metadata": {},
   "outputs": [
    {
     "name": "stdout",
     "output_type": "stream",
     "text": [
      "[3, 4, 1, 2, 5]\n"
     ]
    }
   ],
   "source": [
    "# reverses part of arr\n",
    "def reverse(start, end, array):\n",
    "    # temp list \n",
    "    rangeList = array[start-1:end]\n",
    "\n",
    "    size = len(rangeList)\n",
    "    \n",
    "    # loops for pairs\n",
    "    for i in range( int(size/2) ):\n",
    "\n",
    "        # swaps\n",
    "        temp = rangeList[i]\n",
    "        rangeList[i] = rangeList[-i - 1]\n",
    "        rangeList[-i - 1] = temp\n",
    "\n",
    "    # puts temp list to arr\n",
    "    array[start-1:end] = rangeList\n",
    "\n",
    "basketSize = 5\n",
    "commandSize = 4\n",
    "\n",
    "# set up for arr\n",
    "baskets = list( range (1, basketSize + 1 ) )\n",
    "buffer = str()\n",
    "\n",
    "# repeats func with input\n",
    "for i in range(commandSize):\n",
    "    start, end = input(buffer).split() \n",
    "    \n",
    "    reverse(int(start), int(end), baskets)\n",
    "\n",
    "print(baskets)"
   ]
  },
  {
   "cell_type": "code",
   "execution_count": 13,
   "metadata": {},
   "outputs": [
    {
     "name": "stdout",
     "output_type": "stream",
     "text": [
      "[1, 2, 3, 4, 5]\n",
      "[2, 1]\n",
      "[2, 1, 3, 4, 5]\n",
      "[4, 3]\n",
      "[2, 1, 4, 3, 5]\n",
      "[3, 4, 1, 2]\n",
      "[3, 4, 1, 2, 5]\n",
      "[4]\n",
      "[3, 4, 1, 2, 5]\n"
     ]
    }
   ],
   "source": [
    "\n",
    "# size, commands = input().split()\n",
    "\n",
    "# size = int( size )\n",
    "# commands = int( commands )\n",
    "\n",
    "size = 5\n",
    "commands = 4\n",
    "baskets = list(range(1,size+1))\n",
    "\n",
    "while bool(commands):\n",
    "    start, end = input().split()\n",
    "\n",
    "    start = int( start ) -1\n",
    "    end = int( end )\n",
    "\n",
    "    print( baskets )\n",
    "\n",
    "    temp =  sorted(enumerate(baskets[ start : end ]), key=lambda x: x[0],reverse=True)\n",
    "\n",
    "    temp = list(map( lambda x: x[1], temp ))\n",
    "    # temp = dict(map( lambda x: x[1], temp )).values()\n",
    "    print( temp )\n",
    "    baskets[start:end] = temp\n",
    "\n",
    "    commands -= 1\n",
    "\n",
    "print( baskets )"
   ]
  },
  {
   "cell_type": "code",
   "execution_count": 7,
   "metadata": {},
   "outputs": [
    {
     "name": "stdout",
     "output_type": "stream",
     "text": [
      "[1, 2, 3, 4, 5] \n",
      " (5, 4) \n",
      " [['1', '2'], ['3', '4'], ['1', '4'], ['2', '2']]\n"
     ]
    }
   ],
   "source": [
    "\n",
    "first_line = '5 4'\n",
    "items, times = first_line.split()\n",
    "\n",
    "items = int( items )\n",
    "times = int( times )\n",
    "\n",
    "origin = list(range( 1, items+1, 1 ))\n",
    "\n",
    "input_text = \\\n",
    "'''1 2\n",
    "3 4\n",
    "1 4\n",
    "2 2'''\n",
    "\n",
    "ways_list = list(map( lambda x : x.split(), input_text.split('\\n')))\n",
    "\n",
    "print( origin, '\\n', ( items, times ), '\\n', ways_list )"
   ]
  },
  {
   "cell_type": "code",
   "execution_count": 19,
   "metadata": {},
   "outputs": [
    {
     "name": "stdout",
     "output_type": "stream",
     "text": [
      " >>> reverse_part :  [2, 1]\n",
      " >>> target :  [2, 1, 3, 4, 5]\n",
      " >>> reverse_part :  [4, 3]\n",
      " >>> target :  [2, 1, 4, 3, 5]\n",
      " >>> reverse_part :  [3, 4, 1, 2]\n",
      " >>> target :  [3, 4, 1, 2, 5]\n",
      " >>> reverse_part :  [4]\n",
      " >>> target :  [3, 4, 1, 2, 5]\n"
     ]
    }
   ],
   "source": [
    "target = origin.copy()\n",
    "\n",
    "\n",
    "for way in ways_list:\n",
    "    start, end =  way\n",
    "    start = int( start )\n",
    "    end = int( end )\n",
    "\n",
    "    target[ start-1 : end ]\n",
    "\n",
    "    reverse_part  = sorted( enumerate(target[ start-1 : end ]), key=lambda x: x[0],  reverse=True )\n",
    "\n",
    "    reverse_part = list(map( lambda x: x[1], reverse_part ))\n",
    "\n",
    "    target[ start-1 : end ] = reverse_part\n",
    "\n",
    "    print( f' >>> reverse_part :  {reverse_part}')\n",
    "    print( f' >>> target :  {target}')\n"
   ]
  }
 ],
 "metadata": {
  "kernelspec": {
   "display_name": "py3.9.5",
   "language": "python",
   "name": "python3"
  },
  "language_info": {
   "codemirror_mode": {
    "name": "ipython",
    "version": 3
   },
   "file_extension": ".py",
   "mimetype": "text/x-python",
   "name": "python",
   "nbconvert_exporter": "python",
   "pygments_lexer": "ipython3",
   "version": "3.9.5"
  }
 },
 "nbformat": 4,
 "nbformat_minor": 2
}
