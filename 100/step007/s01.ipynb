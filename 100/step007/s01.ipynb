{
 "cells": [
  {
   "cell_type": "code",
   "execution_count": null,
   "metadata": {},
   "outputs": [],
   "source": [
    "# 문제\n",
    "# N*M크기의 두 행렬 A와 B가 주어졌을 때, \n",
    "# 두 행렬을 더하는 프로그램을 작성하시오.\n",
    "\n",
    "# 입력\n",
    "# 첫째 줄에 행렬의 크기 N 과 M이 주어진다. \n",
    "# 둘째 줄부터 N개의 줄에 행렬 A의 원소 M개가 차례대로 주어진다. \n",
    "# 이어서 N개의 줄에 행렬 B의 원소 M개가 차례대로 주어진다. \n",
    "# N과 M은 100보다 작거나 같고, 행렬의 원소는 절댓값이 100보다 작거나 같은 정수이다.\n",
    "\n",
    "# 출력\n",
    "# 첫째 줄부터 N개의 줄에 행렬 A와 B를 더한 행렬을 출력한다. \n",
    "# 행렬의 각 원소는 공백으로 구분한다.\n",
    "\n",
    "# 예제 입력 1 \n",
    "# 3 3\n",
    "# 1 1 1\n",
    "# 2 2 2\n",
    "# 0 1 0\n",
    "# 3 3 3\n",
    "# 4 4 4\n",
    "# 5 5 100\n",
    "# 예제 출력 1 \n",
    "# 4 4 4\n",
    "# 6 6 6\n",
    "# 5 6 100"
   ]
  },
  {
   "cell_type": "code",
   "execution_count": 6,
   "metadata": {},
   "outputs": [
    {
     "name": "stdout",
     "output_type": "stream",
     "text": [
      "4 4 4 \n",
      "6 6 6 \n",
      "5 6 100 \n"
     ]
    }
   ],
   "source": [
    "row = 3\n",
    "col = 3\n",
    "\n",
    "matrix1 = list()\n",
    "matrix2 = list()\n",
    "\n",
    "for _ in range(row):\n",
    "    matrix1.append(list(map(lambda x: int(x), input().split() )))\n",
    "\n",
    "for idx in range(row):\n",
    "    matrix2.append(list(map(lambda x: int(x), input().split() )))\n",
    "\n",
    "for idx, row in enumerate(matrix1):\n",
    "    for jdx, val in enumerate(row):\n",
    "        print(val + matrix2[idx][jdx], end=' ')\n",
    "    print()"
   ]
  },
  {
   "cell_type": "code",
   "execution_count": 10,
   "metadata": {},
   "outputs": [
    {
     "name": "stdout",
     "output_type": "stream",
     "text": [
      "['1', '1', '1'] ['3', '3', '3']\n",
      "['2', '2', '2'] ['4', '4', '4']\n",
      "['0', '1', '0'] ['5', '5', '100']\n",
      "[4, 4, 4]\n",
      "[6, 6, 6]\n",
      "[5, 6, 100]\n"
     ]
    }
   ],
   "source": [
    "n, m = input().split()\n",
    "n, m = int(n), int(m)\n",
    "\n",
    "matrix = []\n",
    "for _ in range(2):\n",
    "    matrix_one = []\n",
    "    for _ in range(n):\n",
    "        row = input().split()\n",
    "        matrix_one.append(row)\n",
    "    matrix.append(matrix_one)\n",
    "\n",
    "# print( matrix )\n",
    "\n",
    "def matrix_sum( m1, m2 ):\n",
    "    results = []\n",
    "    for pre, post in zip( m1, m2 ):\n",
    "        print( pre, post )\n",
    "        results.append(list(map( lambda x: int(x[0])+int(x[1]), zip( pre, post))))\n",
    "    # print( results )\n",
    "    return results\n",
    "\n",
    "results = matrix_sum( matrix[0], matrix[1] )\n",
    "print(*results, sep='\\n')"
   ]
  },
  {
   "cell_type": "code",
   "execution_count": 11,
   "metadata": {},
   "outputs": [
    {
     "data": {
      "text/plain": [
       "5"
      ]
     },
     "execution_count": 11,
     "metadata": {},
     "output_type": "execute_result"
    }
   ],
   "source": [
    "sum( ( 1, 4 ) )"
   ]
  }
 ],
 "metadata": {
  "kernelspec": {
   "display_name": "py3.9.5",
   "language": "python",
   "name": "python3"
  },
  "language_info": {
   "codemirror_mode": {
    "name": "ipython",
    "version": 3
   },
   "file_extension": ".py",
   "mimetype": "text/x-python",
   "name": "python",
   "nbconvert_exporter": "python",
   "pygments_lexer": "ipython3",
   "version": "3.9.5"
  }
 },
 "nbformat": 4,
 "nbformat_minor": 2
}
