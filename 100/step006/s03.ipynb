{
 "cells": [
  {
   "cell_type": "code",
   "execution_count": 58,
   "metadata": {},
   "outputs": [
    {
     "name": "stdout",
     "output_type": "stream",
     "text": [
      "*****    \n",
      "******   \n",
      "*******  \n",
      "******** \n",
      "*********\n",
      "*********\n",
      "*********\n",
      "*********\n",
      "*********\n"
     ]
    }
   ],
   "source": [
    "size = 5\n",
    "row = size*2-1\n",
    "col = size*2-1\n",
    "\n",
    "for x in range(col):\n",
    "    for y in range(row):\n",
    "        if x+size > y:\n",
    "            print(\"*\", end = '')\n",
    "        else:\n",
    "            print(' ', end = '')\n",
    "\n",
    "            \n",
    "    print()"
   ]
  },
  {
   "cell_type": "code",
   "execution_count": 96,
   "metadata": {},
   "outputs": [
    {
     "name": "stdout",
     "output_type": "stream",
     "text": [
      "*00        \n",
      "*10*11       \n",
      "*20*21*22      \n",
      "*30*31*32*33     \n",
      "*40*41*42*43*44    \n",
      "*50*51*52*53*54*55   \n",
      "*60*61*62*63*64*65*66  \n",
      "*70*71*72*73*74*75*76*77 \n",
      "*80*81*82*83*84*85*86*87*88\n"
     ]
    }
   ],
   "source": [
    "size = 5\n",
    "row = size*2-1\n",
    "col = size*2-1\n",
    "\n",
    "'''\n",
    "y  x 0 1 2\n",
    "0    * * *\n",
    "1    * * *\n",
    "2    * * *\n",
    "'''\n",
    "\n",
    "for y in range(row):\n",
    "    for x in range(col):\n",
    "        if y+1 > x:\n",
    "            print(\"*\"+str(y) + str(x), end = '')\n",
    "        else:\n",
    "            print(\" \", end = '')\n",
    "    print()"
   ]
  },
  {
   "cell_type": "code",
   "execution_count": 97,
   "metadata": {},
   "outputs": [
    {
     "name": "stdout",
     "output_type": "stream",
     "text": [
      "*00*01*02*03*04*05*06*07*08\n",
      " 10*11*12*13*14*15*16*17*18\n",
      " 20 21*22*23*24*25*26*27*28\n",
      " 30 31 32*33*34*35*36*37*38\n",
      " 40 41 42 43*44*45*46*47*48\n",
      " 50 51 52 53 54*55*56*57*58\n",
      " 60 61 62 63 64 65*66*67*68\n",
      " 70 71 72 73 74 75 76*77*78\n",
      " 80 81 82 83 84 85 86 87*88\n"
     ]
    }
   ],
   "source": [
    "size = 5\n",
    "row = size*2-1\n",
    "col = size*2-1\n",
    "\n",
    "'''\n",
    "y  x 0 1 2\n",
    "0    * * *\n",
    "1    * * *\n",
    "2    * * *\n",
    "'''\n",
    "\n",
    "for y in range(row):\n",
    "    for x in range(col):\n",
    "        if y-1 < x:\n",
    "            print(\"*\"+str(y) + str(x), end = '')\n",
    "        else:\n",
    "            print(\" \"+str(y) + str(x), end = '')\n",
    "    print()"
   ]
  },
  {
   "cell_type": "code",
   "execution_count": 100,
   "metadata": {},
   "outputs": [
    {
     "name": "stdout",
     "output_type": "stream",
     "text": [
      "*00*01*02*03 04\n",
      "*10*11*12 13 14\n",
      "*20*21 22 23 24\n",
      "*30 31 32 33 34\n",
      " 40 41 42 43 44\n"
     ]
    }
   ],
   "source": [
    "size = 3\n",
    "row = size*2-1\n",
    "col = size*2-1\n",
    "\n",
    "'''\n",
    "y  x 0 1 2\n",
    "0    * * *\n",
    "1    * * *\n",
    "2    * * *\n",
    "'''\n",
    "\n",
    "for y in range(row):\n",
    "    for x in range(col):\n",
    "        if size+1-y > x:\n",
    "            print(\"*\"+str(y) + str(x), end = '')\n",
    "        else:\n",
    "            print(\" \"+str(y) + str(x), end = '')\n",
    "    print()"
   ]
  },
  {
   "cell_type": "code",
   "execution_count": 121,
   "metadata": {},
   "outputs": [
    {
     "name": "stdout",
     "output_type": "stream",
     "text": [
      " 00 01*02\n",
      " 10*11*12\n",
      "*20*21*22\n"
     ]
    }
   ],
   "source": [
    "size = 2\n",
    "row = size*2-1\n",
    "col = size*2-1\n",
    "\n",
    "'''\n",
    "y  x 0 1 2\n",
    "0    * * *\n",
    "1    * * *\n",
    "2    * * *\n",
    "'''\n",
    "\n",
    "for y in range(row):\n",
    "    for x in range(col):\n",
    "        if size-1-y < x:\n",
    "            print(\"*\"+str(y) + str(x), end = '')\n",
    "        else:\n",
    "            print(\" \"+str(y) + str(x), end = '')\n",
    "    print()"
   ]
  },
  {
   "cell_type": "code",
   "execution_count": 129,
   "metadata": {},
   "outputs": [
    {
     "name": "stdout",
     "output_type": "stream",
     "text": [
      "  *  \n",
      " *** \n",
      "*****\n"
     ]
    }
   ],
   "source": [
    "size = 3\n",
    "\n",
    "for row in range(size-1, -1, -1):\n",
    "    for col in range(size*2-1):\n",
    "        if row>col:\n",
    "            print(\" \", end = '')\n",
    "        elif size*2-1 > row+col:\n",
    "            print(\"*\", end = '')\n",
    "        \n",
    "    print()\n"
   ]
  },
  {
   "cell_type": "code",
   "execution_count": 186,
   "metadata": {},
   "outputs": [
    {
     "name": "stdout",
     "output_type": "stream",
     "text": [
      "      *\n",
      "     ***\n",
      "    *****\n",
      "   *******\n",
      "  *********\n",
      " ***********\n",
      "*************\n",
      " ***********\n",
      "  *********\n",
      "   *******\n",
      "    *****\n",
      "     ***\n",
      "      *\n"
     ]
    }
   ],
   "source": [
    "size = int(input())\n",
    "length = size*2-2\n",
    "for row in range(length, -1, -1):\n",
    "    for col in range(length+1):\n",
    "        if row-size+1>col:\n",
    "            print(\" \", end = '')\n",
    "        elif length-row-size+1>col:\n",
    "            print(\" \", end = '')\n",
    "        elif( length+size > length-row+col) and (length+size > row+col):\n",
    "            print(\"*\", end = '')\n",
    "        \n",
    "    print()\n"
   ]
  }
 ],
 "metadata": {
  "language_info": {
   "name": "python"
  }
 },
 "nbformat": 4,
 "nbformat_minor": 2
}
