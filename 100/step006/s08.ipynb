{
 "cells": [
  {
   "cell_type": "code",
   "execution_count": null,
   "metadata": {},
   "outputs": [],
   "source": [
    "# 문제\n",
    "# 인하대학교 컴퓨터공학과를 졸업하기 위해서는, \n",
    "# 전공평점이 3.3 이상이거나 졸업고사를 통과해야 한다. \n",
    "# 그런데 아뿔싸, 치훈이는 깜빡하고 졸업고사를 응시하지 않았다는 사실을 깨달았다!\n",
    "\n",
    "# 치훈이의 전공평점을 계산해주는 프로그램을 작성해보자.\n",
    "\n",
    "# 전공평점은 전공과목별 (학점 × 과목평점)의 합을 학점의 총합으로 나눈 값이다.\n",
    "\n",
    "# 인하대학교 컴퓨터공학과의 등급에 따른 과목평점은 다음 표와 같다.\n",
    "\n",
    "# A+\t4.5\n",
    "# A0\t4.0\n",
    "# B+\t3.5\n",
    "# B0\t3.0\n",
    "# C+\t2.5\n",
    "# C0\t2.0\n",
    "# D+\t1.5\n",
    "# D0\t1.0\n",
    "# F\t0.0\n",
    "# P/F 과목의 경우 등급이 P또는 F로 표시되는데, 등급이 P인 과목은 계산에서 제외해야 한다.\n",
    "\n",
    "# 과연 치훈이는 무사히 졸업할 수 있을까?\n",
    "\n",
    "# 입력\n",
    "# 20줄에 걸쳐 치훈이가 수강한 전공과목의 과목명, 학점, 등급이 공백으로 구분되어 주어진다.\n",
    "\n",
    "# 출력\n",
    "# 치훈이의 전공평점을 출력한다.\n",
    "\n",
    "# 정답과의 절대오차 또는 상대오차가 \n",
    "# \\(10^{-4}\\) 이하이면 정답으로 인정한다.\n",
    "\n",
    "# 제한\n",
    "# 1 ≤ 과목명의 길이 ≤ 50\n",
    "# 과목명은 알파벳 대소문자 또는 숫자로만 이루어져 있으며, 띄어쓰기 없이 주어진다. 입력으로 주어지는 모든 과목명은 서로 다르다.\n",
    "# 학점은 1.0,2.0,3.0,4.0중 하나이다.\n",
    "# 등급은 A+,A0,B+,B0,C+,C0,D+,D0,F,P중 하나이다.\n",
    "# 적어도 한 과목은 등급이 P가 아님이 보장된다.\n",
    "# 예제 입력 1 \n",
    "# ObjectOrientedProgramming1 3.0 A+\n",
    "# IntroductiontoComputerEngineering 3.0 A+\n",
    "# ObjectOrientedProgramming2 3.0 A0\n",
    "# CreativeComputerEngineeringDesign 3.0 A+\n",
    "# AssemblyLanguage 3.0 A+\n",
    "# InternetProgramming 3.0 B0\n",
    "# ApplicationProgramminginJava 3.0 A0\n",
    "# SystemProgramming 3.0 B0\n",
    "# OperatingSystem 3.0 B0\n",
    "# WirelessCommunicationsandNetworking 3.0 C+\n",
    "# LogicCircuits 3.0 B0\n",
    "# DataStructure 4.0 A+\n",
    "# MicroprocessorApplication 3.0 B+\n",
    "# EmbeddedSoftware 3.0 C0\n",
    "# ComputerSecurity 3.0 D+\n",
    "# Database 3.0 C+\n",
    "# Algorithm 3.0 B0\n",
    "# CapstoneDesigninCSE 3.0 B+\n",
    "# CompilerDesign 3.0 D0\n",
    "# ProblemSolving 4.0 P\n",
    "# 예제 출력 1 \n",
    "# 3.284483\n",
    "\n",
    "# 예제 입력 2 \n",
    "# BruteForce 3.0 F\n",
    "# Greedy 1.0 F\n",
    "# DivideandConquer 2.0 F\n",
    "# DynamicProgramming 3.0 F\n",
    "# DepthFirstSearch 4.0 F\n",
    "# BreadthFirstSearch 3.0 F\n",
    "# ShortestPath 4.0 F\n",
    "# DisjointSet 2.0 F\n",
    "# MinimumSpanningTree 2.0 F\n",
    "# TopologicalSorting 1.0 F\n",
    "# LeastCommonAncestor 2.0 F\n",
    "# SegmentTree 4.0 F\n",
    "# EulerTourTechnique 3.0 F\n",
    "# StronglyConnectedComponent 2.0 F\n",
    "# BipartiteMatching 2.0 F\n",
    "# MaximumFlowProblem 3.0 F\n",
    "# SuffixArray 1.0 F\n",
    "# HeavyLightDecomposition 4.0 F\n",
    "# CentroidDecomposition 3.0 F\n",
    "# SplayTree 1.0 F"
   ]
  },
  {
   "cell_type": "code",
   "execution_count": 71,
   "metadata": {},
   "outputs": [],
   "source": [
    "test1 = (\n",
    "'ObjectOrientedProgramming1 3.0 A+',\n",
    "'IntroductiontoComputerEngineering 3.0 A+',\n",
    "'ObjectOrientedProgramming2 3.0 A0',\n",
    "'CreativeComputerEngineeringDesign 3.0 A+',\n",
    "'AssemblyLanguage 3.0 A+',\n",
    "'InternetProgramming 3.0 B0',\n",
    "'ApplicationProgramminginJava 3.0 A0',\n",
    "'SystemProgramming 3.0 B0',\n",
    "'OperatingSystem 3.0 B0',\n",
    "'WirelessCommunicationsandNetworking 3.0 C+',\n",
    "'LogicCircuits 3.0 B0',\n",
    "'DataStructure 4.0 A+',\n",
    "'MicroprocessorApplication 3.0 B+',\n",
    "'EmbeddedSoftware 3.0 C0',\n",
    "'ComputerSecurity 3.0 D+',\n",
    "'Database 3.0 C+',\n",
    "'Algorithm 3.0 B0',\n",
    "'CapstoneDesigninCSE 3.0 B+',\n",
    "'CompilerDesign 3.0 D0',\n",
    "'ProblemSolving 4.0 P'\n",
    ")\n",
    "\n",
    "test2 = \\\n",
    "'''BruteForce 3.0 F\n",
    "Greedy 1.0 F\n",
    "DivideandConquer 2.0 F\n",
    "DynamicProgramming 3.0 F\n",
    "DepthFirstSearch 4.0 F\n",
    "BreadthFirstSearch 3.0 F\n",
    "ShortestPath 4.0 F\n",
    "DisjointSet 2.0 F\n",
    "MinimumSpanningTree 2.0 F\n",
    "TopologicalSorting 1.0 F\n",
    "LeastCommonAncestor 2.0 F\n",
    "SegmentTree 4.0 F\n",
    "EulerTourTechnique 3.0 F\n",
    "StronglyConnectedComponent 2.0 F\n",
    "BipartiteMatching 2.0 F\n",
    "MaximumFlowProblem 3.0 F\n",
    "SuffixArray 1.0 F\n",
    "HeavyLightDecomposition 4.0 F\n",
    "CentroidDecomposition 3.0 F\n",
    "SplayTree 1.0 F'''"
   ]
  },
  {
   "cell_type": "code",
   "execution_count": 73,
   "metadata": {},
   "outputs": [
    {
     "name": "stdout",
     "output_type": "stream",
     "text": [
      "3.0 0.0\n",
      "1.0 0.0\n",
      "2.0 0.0\n",
      "3.0 0.0\n",
      "4.0 0.0\n",
      "3.0 0.0\n",
      "4.0 0.0\n",
      "2.0 0.0\n",
      "2.0 0.0\n",
      "1.0 0.0\n",
      "2.0 0.0\n",
      "4.0 0.0\n",
      "3.0 0.0\n",
      "2.0 0.0\n",
      "2.0 0.0\n",
      "3.0 0.0\n",
      "1.0 0.0\n",
      "4.0 0.0\n",
      "3.0 0.0\n",
      "1.0 0.0\n",
      "0.0\n"
     ]
    }
   ],
   "source": [
    "markScheme = {\n",
    "    'A+':\t4.5,\n",
    "    'A0':\t4.0,\n",
    "    'B+':\t3.5,\n",
    "    'B0':\t3.0,\n",
    "    'C+':\t2.5,\n",
    "    'C0':\t2.0,\n",
    "    'D+':\t1.5,\n",
    "    'D0':   1.0,\n",
    "    'F':\t0.0\n",
    "}\n",
    "sumMark = 0\n",
    "sumScore = 0\n",
    "subjects = 20\n",
    "\n",
    "test2 = test2.split('\\n')\n",
    "\n",
    "for line in test2:\n",
    "    tempList = line.split()[1:]\n",
    "    if tempList[1] != 'P':\n",
    "        sumMark+=float(tempList[0])\n",
    "        print(float(tempList[0]), markScheme[tempList[1]])\n",
    "        sumScore += float(tempList[0]) * markScheme[tempList[1]]\n",
    "        \n",
    "\n",
    "print(sumScore/sumMark)"
   ]
  },
  {
   "cell_type": "code",
   "execution_count": 41,
   "metadata": {},
   "outputs": [
    {
     "data": {
      "text/plain": [
       "(['ObjectOrientedProgramming1', '3.0', 'A+'],\n",
       " ['IntroductiontoComputerEngineering', '3.0', 'A+'],\n",
       " ['ObjectOrientedProgramming2', '3.0', 'A0'],\n",
       " ['CreativeComputerEngineeringDesign', '3.0', 'A+'],\n",
       " ['AssemblyLanguage', '3.0', 'A+'],\n",
       " ['InternetProgramming', '3.0', 'B0'],\n",
       " ['ApplicationProgramminginJava', '3.0', 'A0'],\n",
       " ['SystemProgramming', '3.0', 'B0'],\n",
       " ['OperatingSystem', '3.0', 'B0'],\n",
       " ['WirelessCommunicationsandNetworking', '3.0', 'C+'],\n",
       " ['LogicCircuits', '3.0', 'B0'],\n",
       " ['DataStructure', '4.0', 'A+'],\n",
       " ['MicroprocessorApplication', '3.0', 'B+'],\n",
       " ['EmbeddedSoftware', '3.0', 'C0'],\n",
       " ['ComputerSecurity', '3.0', 'D+'],\n",
       " ['Database', '3.0', 'C+'],\n",
       " ['Algorithm', '3.0', 'B0'],\n",
       " ['CapstoneDesigninCSE', '3.0', 'B+'],\n",
       " ['CompilerDesign', '3.0', 'D0'],\n",
       " ['ProblemSolving', '4.0', 'P'])"
      ]
     },
     "execution_count": 41,
     "metadata": {},
     "output_type": "execute_result"
    }
   ],
   "source": [
    "scores = {\n",
    "    'A+' : 4.5,\n",
    "    'A0' : 4.0,\n",
    "    'B+' : 3.5,\n",
    "    'B0' : 3.0,\n",
    "    'C+' : 2.5,\n",
    "    'C0' : 2.0,\n",
    "    'D+' : 1.5,\n",
    "    'D0' : 1.0,\n",
    "    'F' : 0.0,\n",
    "}\n"
   ]
  },
  {
   "cell_type": "code",
   "execution_count": null,
   "metadata": {},
   "outputs": [],
   "source": [
    "text = \\\n",
    "'''ObjectOrientedProgramming1 3.0 A+\n",
    "IntroductiontoComputerEngineering 3.0 A+\n",
    "ObjectOrientedProgramming2 3.0 A0\n",
    "CreativeComputerEngineeringDesign 3.0 A+\n",
    "AssemblyLanguage 3.0 A+\n",
    "InternetProgramming 3.0 B0\n",
    "ApplicationProgramminginJava 3.0 A0\n",
    "SystemProgramming 3.0 B0\n",
    "OperatingSystem 3.0 B0\n",
    "WirelessCommunicationsandNetworking 3.0 C+\n",
    "LogicCircuits 3.0 B0\n",
    "DataStructure 4.0 A+\n",
    "MicroprocessorApplication 3.0 B+\n",
    "EmbeddedSoftware 3.0 C0\n",
    "ComputerSecurity 3.0 D+\n",
    "Database 3.0 C+\n",
    "Algorithm 3.0 B0\n",
    "CapstoneDesigninCSE 3.0 B+\n",
    "CompilerDesign 3.0 D0\n",
    "ProblemSolving 4.0 P'''"
   ]
  },
  {
   "cell_type": "code",
   "execution_count": 42,
   "metadata": {},
   "outputs": [
    {
     "data": {
      "text/plain": [
       "(['ObjectOrientedProgramming1', '3.0', 'A+'],\n",
       " ['IntroductiontoComputerEngineering', '3.0', 'A+'],\n",
       " ['ObjectOrientedProgramming2', '3.0', 'A0'],\n",
       " ['CreativeComputerEngineeringDesign', '3.0', 'A+'],\n",
       " ['AssemblyLanguage', '3.0', 'A+'],\n",
       " ['InternetProgramming', '3.0', 'B0'],\n",
       " ['ApplicationProgramminginJava', '3.0', 'A0'],\n",
       " ['SystemProgramming', '3.0', 'B0'],\n",
       " ['OperatingSystem', '3.0', 'B0'],\n",
       " ['WirelessCommunicationsandNetworking', '3.0', 'C+'],\n",
       " ['LogicCircuits', '3.0', 'B0'],\n",
       " ['DataStructure', '4.0', 'A+'],\n",
       " ['MicroprocessorApplication', '3.0', 'B+'],\n",
       " ['EmbeddedSoftware', '3.0', 'C0'],\n",
       " ['ComputerSecurity', '3.0', 'D+'],\n",
       " ['Database', '3.0', 'C+'],\n",
       " ['Algorithm', '3.0', 'B0'],\n",
       " ['CapstoneDesigninCSE', '3.0', 'B+'],\n",
       " ['CompilerDesign', '3.0', 'D0'],\n",
       " ['ProblemSolving', '4.0', 'P'])"
      ]
     },
     "execution_count": 42,
     "metadata": {},
     "output_type": "execute_result"
    }
   ],
   "source": [
    "\n",
    "data = tuple(map(lambda x: x.split(), text.split('\\n')))\n",
    "data"
   ]
  },
  {
   "cell_type": "code",
   "execution_count": 44,
   "metadata": {},
   "outputs": [
    {
     "data": {
      "text/plain": [
       "3.2844827586206895"
      ]
     },
     "execution_count": 44,
     "metadata": {},
     "output_type": "execute_result"
    }
   ],
   "source": [
    "\n",
    "results = map( lambda x: float(x[1])*(scores.get(x[2]) if bool(scores.get(x[2])) else 0.0), data)\n",
    "total_grade = map( lambda x: float(x[1])  if bool(scores.get(x[2])) else 0.0, data)\n",
    "sum(results) / sum(total_grade)"
   ]
  },
  {
   "cell_type": "code",
   "execution_count": 69,
   "metadata": {},
   "outputs": [
    {
     "data": {
      "text/plain": [
       "[(13.5, 3.0),\n",
       " (13.5, 3.0),\n",
       " (12.0, 3.0),\n",
       " (13.5, 3.0),\n",
       " (13.5, 3.0),\n",
       " (9.0, 3.0),\n",
       " (12.0, 3.0),\n",
       " (9.0, 3.0),\n",
       " (9.0, 3.0),\n",
       " (7.5, 3.0),\n",
       " (9.0, 3.0),\n",
       " (18.0, 4.0),\n",
       " (10.5, 3.0),\n",
       " (6.0, 3.0),\n",
       " (4.5, 3.0),\n",
       " (7.5, 3.0),\n",
       " (9.0, 3.0),\n",
       " (10.5, 3.0),\n",
       " (3.0, 3.0),\n",
       " (0.0, 0.0)]"
      ]
     },
     "execution_count": 69,
     "metadata": {},
     "output_type": "execute_result"
    }
   ],
   "source": [
    "results  = list(map( lambda x: ((float(x[1])*(scores.get(x[2]) if bool(scores.get(x[2])) else 0.0), (float(x[1]) if bool(scores.get(x[2])) else 0.0))), data))\n",
    "results"
   ]
  },
  {
   "cell_type": "code",
   "execution_count": null,
   "metadata": {},
   "outputs": [],
   "source": [
    "results_dict = dict(map( lambda x: (\n",
    "                            float(x[1])*(scores.get(x[2]) if bool(scores.get(x[2])) else 0.0),\n",
    "                            float(x[1]) if bool(scores.get(x[2])) else 0.0\n",
    "                        )\n",
    "                        , data))\n",
    "print( results_dict )\n",
    "sum(results_dict.keys())/sum(results_dict.values())"
   ]
  }
 ],
 "metadata": {
  "kernelspec": {
   "display_name": "py3.9.5",
   "language": "python",
   "name": "python3"
  },
  "language_info": {
   "codemirror_mode": {
    "name": "ipython",
    "version": 3
   },
   "file_extension": ".py",
   "mimetype": "text/x-python",
   "name": "python",
   "nbconvert_exporter": "python",
   "pygments_lexer": "ipython3",
   "version": "3.9.5"
  }
 },
 "nbformat": 4,
 "nbformat_minor": 2
}
