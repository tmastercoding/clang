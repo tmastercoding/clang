{
 "cells": [
  {
   "cell_type": "code",
   "execution_count": 18,
   "metadata": {},
   "outputs": [
    {
     "name": "stdout",
     "output_type": "stream",
     "text": [
      "1\n"
     ]
    }
   ],
   "source": [
    "word = input()\n",
    "size = len(word)\n",
    "isPalindrome = True\n",
    "\n",
    "for idx in range(size//2):\n",
    "    if word[idx] != word[size - idx - 1]:\n",
    "        isPalindrome = False \n",
    "        break\n",
    "\n",
    "print(int(isPalindrome))"
   ]
  },
  {
   "cell_type": "code",
   "execution_count": 15,
   "metadata": {},
   "outputs": [
    {
     "name": "stdout",
     "output_type": "stream",
     "text": [
      "108\n",
      "-109\n",
      "0\n",
      "101\n",
      "-102\n",
      "0\n",
      "1\n"
     ]
    }
   ],
   "source": [
    "word = input()\n",
    "size = len(word)\n",
    "isPalindrome = True\n",
    "\n",
    "for idx in range(size//2):\n",
    "    if bool(ord(word[idx]) & ~ord(word[size - idx - 1])):\n",
    "        isPalindrome = False \n",
    "        break\n",
    "\n",
    "print(int(isPalindrome))"
   ]
  },
  {
   "cell_type": "code",
   "execution_count": null,
   "metadata": {},
   "outputs": [],
   "source": [
    "a -> 110\n",
    "!a  -> 001\n",
    "a & !a -> 0\n",
    "\n",
    "not bool(a & !a)"
   ]
  },
  {
   "cell_type": "code",
   "execution_count": null,
   "metadata": {},
   "outputs": [],
   "source": []
  }
 ],
 "metadata": {
  "kernelspec": {
   "display_name": "py3.9.5",
   "language": "python",
   "name": "python3"
  },
  "language_info": {
   "codemirror_mode": {
    "name": "ipython",
    "version": 3
   },
   "file_extension": ".py",
   "mimetype": "text/x-python",
   "name": "python",
   "nbconvert_exporter": "python",
   "pygments_lexer": "ipython3",
   "version": "3.9.5"
  }
 },
 "nbformat": 4,
 "nbformat_minor": 2
}
