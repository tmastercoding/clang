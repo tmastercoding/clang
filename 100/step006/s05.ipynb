{
 "cells": [
  {
   "cell_type": "code",
   "execution_count": 11,
   "metadata": {},
   "outputs": [
    {
     "name": "stdout",
     "output_type": "stream",
     "text": [
      "mississipi\n",
      "{'s', 'i', 'm', 'p'}\n",
      "[0, 1, 2, 3]\n"
     ]
    }
   ],
   "source": [
    "text = \"Mississipi\".lower()\n",
    "\n",
    "print(text)\n",
    "textSet = set(text)\n",
    "print(textSet)\n",
    "\n",
    "# textSet, len(textSet)\n",
    "textList = list()\n",
    "fo\n",
    "print(textList)\n",
    "# zip(textSet, len(textSet))\n",
    "\n",
    "alphabet = dict()\n",
    "\n",
    "\n",
    "# alphabet.update({\":\"})"
   ]
  },
  {
   "cell_type": "code",
   "execution_count": 25,
   "metadata": {},
   "outputs": [
    {
     "name": "stdout",
     "output_type": "stream",
     "text": [
      "f\n"
     ]
    }
   ],
   "source": [
    "text = \"Mississipi\".lower()\n",
    "\n",
    "keys = set(text)\n",
    "alphabet = dict(zip(keys, [0,] * len( keys )))\n",
    "\n",
    "for letter in text:\n",
    "    alphabet[letter] += 1\n",
    "\n",
    "output = []\n",
    "\n",
    "for key in keys:\n",
    "    if alphabet[key] == max(alphabet.values()):\n",
    "        output.append(key)\n",
    "\n",
    "print(\"?\") if len(output) > 1 else print(output[0])"
   ]
  },
  {
   "cell_type": "code",
   "execution_count": 100,
   "metadata": {},
   "outputs": [
    {
     "name": "stdout",
     "output_type": "stream",
     "text": [
      "Counter({'i': 4, 's': 4, 'm': 1, 'p': 1})\n",
      "?\n"
     ]
    }
   ],
   "source": [
    "from collections import Counter\n",
    "\n",
    "text = \"Mississipi\".lower()\n",
    "\n",
    "c = Counter( text )\n",
    "print(c)\n",
    "\n",
    "# max_value = max(c.values())\n",
    "\n",
    "# results = list(filter( lambda x: c[x] == max_value, c ))\n",
    "# print( \"?\" if bool(len( results ) & ~1) else results[0].upper() )\n",
    "\n",
    "print( '?' if len(c.most_common(2)) > 1 else c.most_common(1) )"
   ]
  },
  {
   "cell_type": "code",
   "execution_count": 96,
   "metadata": {},
   "outputs": [
    {
     "data": {
      "text/plain": [
       "5"
      ]
     },
     "execution_count": 96,
     "metadata": {},
     "output_type": "execute_result"
    }
   ],
   "source": [
    "smpl = 'sssssaaa'\n",
    "smpl = list( smpl )\n",
    "smpl.count('s')"
   ]
  },
  {
   "cell_type": "code",
   "execution_count": 83,
   "metadata": {},
   "outputs": [
    {
     "data": {
      "text/plain": [
       "{'a': 4, 'c': 1, 'f': 1, 'p': 1}"
      ]
     },
     "execution_count": 83,
     "metadata": {},
     "output_type": "execute_result"
    }
   ],
   "source": [
    "d = {\n",
    "    'a' : 2\n",
    "}\n",
    "\n",
    "d.get('c') \n",
    "d.update({'c':1})\n",
    "d\n",
    "d.get('a')\n",
    "d.update({\n",
    "    'a':d.get('a')+1\n",
    "    })\n",
    "d\n",
    "d.update({\n",
    "    'f': d.get('f') + 1 if type(d.get('f')) == int else 1\n",
    "    })\n",
    "d.get( 'p', 0 )\n",
    "d.update({\n",
    "    'p': d.get('p', 0)+1    \n",
    "})\n",
    "d\n",
    "d.update({\n",
    "    'a': d.get('a', 0)+1    \n",
    "})\n",
    "d"
   ]
  },
  {
   "cell_type": "code",
   "execution_count": 98,
   "metadata": {},
   "outputs": [
    {
     "name": "stdout",
     "output_type": "stream",
     "text": [
      "{'s': 4, 'i': 4, 'm': 1, 'p': 1}\n"
     ]
    }
   ],
   "source": [
    "from functools import reduce\n",
    "\n",
    "text = \"Mississipi\".lower()\n",
    "alphabet = dict.fromkeys(set(text), 0)\n",
    "\n",
    "for k in text: \n",
    "    alphabet.update({\n",
    "            k:alphabet.get(k,0) +1\n",
    "    })\n",
    "\n",
    "# reduce(lambda x: alphabet.update({x:alphabet.get(x, 0)+1}), text)\n",
    "# print(list(result))\n",
    "\n",
    "print( alphabet )"
   ]
  }
 ],
 "metadata": {
  "kernelspec": {
   "display_name": "py3.9.5",
   "language": "python",
   "name": "python3"
  },
  "language_info": {
   "codemirror_mode": {
    "name": "ipython",
    "version": 3
   },
   "file_extension": ".py",
   "mimetype": "text/x-python",
   "name": "python",
   "nbconvert_exporter": "python",
   "pygments_lexer": "ipython3",
   "version": "3.9.5"
  }
 },
 "nbformat": 4,
 "nbformat_minor": 2
}
