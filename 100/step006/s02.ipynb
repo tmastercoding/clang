{
 "cells": [
  {
   "cell_type": "code",
   "execution_count": null,
   "metadata": {},
   "outputs": [],
   "source": [
    "# 동혁이는 오래된 창고를 뒤지다가 낡은 체스판과 피스를 발견했다.\n",
    "\n",
    "# 체스판의 먼지를 털어내고 걸레로 닦으니 그럭저럭 쓸만한 체스판이 되었다. \n",
    "# 하지만, 검정색 피스는 모두 있었으나, \n",
    "# 흰색 피스는 개수가 올바르지 않았다.\n",
    "\n",
    "# 체스는 총 16개의 피스를 사용하며, \n",
    "# 킹 1개, 퀸 1개, 룩 2개, \n",
    "# 비숍 2개, 나이트 2개, 폰 8개로 구성되어 있다.\n",
    "\n",
    "# 동혁이가 발견한 흰색 피스의 개수가 주어졌을 때,\n",
    "# 몇 개를 더하거나 빼야 올바른 세트가 되는지 구하는 프로그램을 작성하시오.\n",
    "\n",
    "# 입력\n",
    "# 첫째 줄에 동혁이가 찾은 흰색 킹,\n",
    "# 퀸, 룩, 비숍, 나이트, 폰의 개수가 주어진다. \n",
    "# 이 값은 0보다 크거나 같고 10보다 작거나 같은 정수이다.\n",
    "\n",
    "# 출력\n",
    "# 첫째 줄에 입력에서 주어진 순서대로 몇 개의 피스를 더하거나 빼야 되는지를 출력한다.\n",
    "# 만약 수가 양수라면 동혁이는 그 개수 만큼 피스를 더해야 하는 것이고, \n",
    "#음수라면 제거해야 하는 것이다.\n",
    "\n",
    "# 예제 입력 1 \n",
    "# 0 1 2 2 2 7\n",
    "# 예제 출력 1 \n",
    "# 1 0 0 0 0 1"
   ]
  },
  {
   "cell_type": "code",
   "execution_count": 5,
   "metadata": {},
   "outputs": [
    {
     "name": "stdout",
     "output_type": "stream",
     "text": [
      "-1 0 0 1 0 7 "
     ]
    }
   ],
   "source": [
    "correct = [1, 1, 2, 2, 2, 8]\n",
    "pieces = list(input().split())\n",
    "\n",
    "for idx in range(len(correct)):\n",
    "    print(correct[idx]- int(pieces[idx]), end = ' ')"
   ]
  },
  {
   "cell_type": "code",
   "execution_count": null,
   "metadata": {},
   "outputs": [],
   "source": [
    "# chess\n",
    "\n",
    "# 킹 1개, 퀸 1개, 룩 2개, 비숍 2개, 나이트 2개, 폰 8개\n",
    "\n",
    "original_state = [1, 1, 2, 2, 2, 8]\n",
    "current_state = input( ).split()\n",
    "different_state = list( map( lambda x: x[0] - int(x[1]), zip(original_state, current_state) ))\n",
    "\n",
    "print( different_state )"
   ]
  },
  {
   "cell_type": "code",
   "execution_count": null,
   "metadata": {},
   "outputs": [],
   "source": []
  }
 ],
 "metadata": {
  "kernelspec": {
   "display_name": "py3.9.5",
   "language": "python",
   "name": "python3"
  },
  "language_info": {
   "codemirror_mode": {
    "name": "ipython",
    "version": 3
   },
   "file_extension": ".py",
   "mimetype": "text/x-python",
   "name": "python",
   "nbconvert_exporter": "python",
   "pygments_lexer": "ipython3",
   "version": "3.9.5"
  }
 },
 "nbformat": 4,
 "nbformat_minor": 2
}
