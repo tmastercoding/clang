{
 "cells": [
  {
   "cell_type": "code",
   "execution_count": 13,
   "metadata": {},
   "outputs": [
    {
     "name": "stdout",
     "output_type": "stream",
     "text": [
      "lj\n",
      "1\n"
     ]
    }
   ],
   "source": [
    "croat = [\"c=\", \"c-\", \"dz=\", \"d-\", \"lj\", \"nj\", \"s=\", \"z=\"]\n",
    "count = 0\n",
    "\n",
    "text = input()\n",
    "\n",
    "for idx in range(len(text)-1):\n",
    "    for token in croat:\n",
    "        if (text[idx] + text[idx+1]) == token or(idx < len(text)-3 and (text[idx] + text[idx+1] + text[idx+2]) == token) :\n",
    "\n",
    "            print((text[idx] + text[idx+1]))\n",
    "            count += 1\n",
    "            break\n",
    "\n",
    "print(count)"
   ]
  },
  {
   "cell_type": "code",
   "execution_count": 43,
   "metadata": {},
   "outputs": [
    {
     "name": "stdout",
     "output_type": "stream",
     "text": [
      "3\n"
     ]
    },
    {
     "data": {
      "text/plain": [
       "'ak'"
      ]
     },
     "execution_count": 43,
     "metadata": {},
     "output_type": "execute_result"
    }
   ],
   "source": [
    "chs = {\n",
    "    'c=': 0, \n",
    "    'c-': 0, \n",
    "    'dz=': 0, \n",
    "    'd-': 0, \n",
    "    'lj': 0, \n",
    "    'nj': 0, \n",
    "    's=': 0, \n",
    "    'z=': 0\n",
    "}\n",
    "text = input()\n",
    "\n",
    "for ch in chs.keys():\n",
    "    chs[ch] = text.count(ch)\n",
    "    text = text.replace(ch, '.')\n",
    "\n",
    "text = text.replace('.', '')\n",
    "print( sum(chs.values()) + len( text ))\n",
    "text"
   ]
  }
 ],
 "metadata": {
  "kernelspec": {
   "display_name": "py3.9.5",
   "language": "python",
   "name": "python3"
  },
  "language_info": {
   "codemirror_mode": {
    "name": "ipython",
    "version": 3
   },
   "file_extension": ".py",
   "mimetype": "text/x-python",
   "name": "python",
   "nbconvert_exporter": "python",
   "pygments_lexer": "ipython3",
   "version": "3.9.5"
  }
 },
 "nbformat": 4,
 "nbformat_minor": 2
}
