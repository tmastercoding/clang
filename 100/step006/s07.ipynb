{
 "cells": [
  {
   "cell_type": "code",
   "execution_count": 32,
   "metadata": {},
   "outputs": [],
   "source": [
    "tests1  = (\n",
    "    'happy',\n",
    "    'new',\n",
    "    'year'\n",
    ")\n",
    "\n",
    "tests2  = (\n",
    "    'aba',\n",
    "    'abab',\n",
    "    'abcabc',\n",
    "    'a'\n",
    ")\n",
    "\n",
    "tests3  = (\n",
    "    'ab',\n",
    "    'aa',\n",
    "    'aca',\n",
    "    'ba',\n",
    "    'bb'\n",
    ")\n",
    "\n",
    "tests4  = (\n",
    "    'yzyzy',\n",
    "    'zyzyz'\n",
    ")\n",
    "\n",
    "tests5  = (\n",
    "    'z',\n",
    ")\n",
    "\n",
    "tests6 = (\n",
    "    'aaa',\n",
    "    'aaazbz',\n",
    "    'babb',\n",
    "    'aazz',\n",
    "    'azbz',\n",
    "    'aabbaa',\n",
    "    'abacc',\n",
    "    'aba',\n",
    "    'zzaz',\n",
    ")\n"
   ]
  },
  {
   "cell_type": "code",
   "execution_count": 39,
   "metadata": {},
   "outputs": [
    {
     "name": "stdout",
     "output_type": "stream",
     "text": [
      "2\n"
     ]
    }
   ],
   "source": [
    "# size = input()\n",
    "# if size.isdigit():\n",
    "#     size = int(size)\n",
    "# else:\n",
    "#     print(\"only input integers\")\n",
    "\n",
    "# tests = [ input() for _ in range(size)]\n",
    "\n",
    "\n",
    "tests = tests6\n",
    "count = 0\n",
    "\n",
    "for word in tests:\n",
    "    # temp = []\n",
    "    ch_dict = dict()\n",
    "    is_group = True\n",
    "    for idx, ch in enumerate(word):\n",
    "        if ch_dict.get(ch) == None or abs(ch_dict.get(ch) - idx) == 1:\n",
    "            ch_dict.update( {\n",
    "                ch : idx \n",
    "            })\n",
    "        else:\n",
    "            is_group = False\n",
    "            break\n",
    "        # print(idx)\n",
    "        # print(ch_dict)\n",
    "    if is_group:\n",
    "        count+=1\n",
    "    # print()\n",
    "print(count)"
   ]
  },
  {
   "cell_type": "code",
   "execution_count": 44,
   "metadata": {},
   "outputs": [
    {
     "name": "stdout",
     "output_type": "stream",
     "text": [
      "2\n"
     ]
    }
   ],
   "source": [
    "size = int(input())\n",
    "\n",
    "count = 0\n",
    "\n",
    "tests = tests6\n",
    "\n",
    "for line in tests:\n",
    "    # word = input()\n",
    "    isGroup = True\n",
    "    bufferChar = ''\n",
    "    foundLetters = []\n",
    "    \n",
    "    for ch in line:\n",
    "        if bufferChar != ch:\n",
    "            if ch in foundLetters:\n",
    "                isGroup = False\n",
    "                break\n",
    "            else:\n",
    "                foundLetters.append(ch)\n",
    "                bufferChar = ch\n",
    "    \n",
    "    if isGroup:\n",
    "        count += 1\n",
    "\n",
    "print(count)\n",
    "\n"
   ]
  },
  {
   "cell_type": "code",
   "execution_count": 23,
   "metadata": {},
   "outputs": [
    {
     "name": "stdout",
     "output_type": "stream",
     "text": [
      "0 z\n",
      "z\n",
      "1 z\n",
      "a\n",
      "2 a\n",
      "z\n",
      "3 z\n"
     ]
    }
   ],
   "source": [
    "size = 3\n",
    "\n",
    "# for _ in range(size):\n",
    "wordDict = dict()\n",
    "text = tests[-1]\n",
    "\n",
    "for ch in enumerate(text):\n",
    "    wordDict[ch[0]] = ch[1]\n",
    "\n",
    "isGroup = True\n",
    "\n",
    "for key, val in wordDict.items():\n",
    "    # is prevVal equal to cur?\n",
    "    if key > 0:\n",
    "        if val in wordDict.values():\n",
    "            print(val)\n",
    "\n",
    "    print(key, val)"
   ]
  },
  {
   "cell_type": "code",
   "execution_count": 1,
   "metadata": {},
   "outputs": [
    {
     "name": "stdout",
     "output_type": "stream",
     "text": [
      "{'apple'}\n"
     ]
    }
   ],
   "source": [
    "thisset = {'apple', 'apple'}\n",
    "\n",
    "print(thisset)"
   ]
  }
 ],
 "metadata": {
  "kernelspec": {
   "display_name": "py3.9.5",
   "language": "python",
   "name": "python3"
  },
  "language_info": {
   "codemirror_mode": {
    "name": "ipython",
    "version": 3
   },
   "file_extension": ".py",
   "mimetype": "text/x-python",
   "name": "python",
   "nbconvert_exporter": "python",
   "pygments_lexer": "ipython3",
   "version": "3.9.5"
  }
 },
 "nbformat": 4,
 "nbformat_minor": 2
}
