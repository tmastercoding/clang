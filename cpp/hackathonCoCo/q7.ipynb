{
 "cells": [
  {
   "cell_type": "code",
   "execution_count": 6,
   "metadata": {},
   "outputs": [
    {
     "name": "stdout",
     "output_type": "stream",
     "text": [
      "6\n"
     ]
    }
   ],
   "source": [
    "# numOfTypes = 0\n",
    "numOfTypes = int(input())\n",
    "\n",
    "# targetVal = 0\n",
    "targetVal = int(input())\n",
    "\n",
    "typeList = []\n",
    "typeList = input().split()\n",
    "count = 0\n",
    "\n",
    "for value in typeList:\n",
    "    count += targetVal//int(value)\n",
    "    targetVal %= int(value)\n",
    "\n",
    "print(count)"
   ]
  },
  {
   "cell_type": "code",
   "execution_count": 10,
   "metadata": {},
   "outputs": [
    {
     "name": "stdout",
     "output_type": "stream",
     "text": [
      "3\n"
     ]
    }
   ],
   "source": [
    "# numOfTypes = 0\n",
    "numOfTypes = int(input())\n",
    "\n",
    "# targetVal = 0\n",
    "targetVal = int(input())\n",
    "\n",
    "typeList = []\n",
    "typeList = input().split()\n",
    "\n",
    "min_count = 0\n",
    "\n",
    "for idx in range(numOfTypes):\n",
    "    temp_target = targetVal\n",
    "    count = 0\n",
    "    for jdx in range(idx, numOfTypes):\n",
    "        count += temp_target//int(typeList[jdx])\n",
    "        temp_target %= int(typeList[jdx])\n",
    "    if count < min_count:\n",
    "        min_count = count\n",
    "    elif idx == 0:\n",
    "        min_count = count\n",
    "    \n",
    "print(min_count)"
   ]
  },
  {
   "cell_type": "code",
   "execution_count": 2,
   "metadata": {},
   "outputs": [
    {
     "name": "stdout",
     "output_type": "stream",
     "text": [
      "6\n"
     ]
    }
   ],
   "source": [
    "categoryOfCoin  = int( input() )\n",
    "targetValue = int(input())\n",
    "availableCoin:list\n",
    "\n",
    "while True:\n",
    "    availableCoin = input().split()\n",
    "    if( len(availableCoin) == categoryOfCoin ):\n",
    "        break\n",
    "        \n",
    "count = 0\n",
    "for value in availableCoin:\n",
    "    count += targetValue // int(value)\n",
    "    targetValue %= int(value)\n",
    "\n",
    "print( count )"
   ]
  }
 ],
 "metadata": {
  "kernelspec": {
   "display_name": "py3.9.5",
   "language": "python",
   "name": "python3"
  },
  "language_info": {
   "codemirror_mode": {
    "name": "ipython",
    "version": 3
   },
   "file_extension": ".py",
   "mimetype": "text/x-python",
   "name": "python",
   "nbconvert_exporter": "python",
   "pygments_lexer": "ipython3",
   "version": "3.9.5"
  }
 },
 "nbformat": 4,
 "nbformat_minor": 2
}
