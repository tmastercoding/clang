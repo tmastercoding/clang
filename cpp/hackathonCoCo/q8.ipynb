{
 "cells": [
  {
   "cell_type": "code",
   "execution_count": 25,
   "metadata": {},
   "outputs": [
    {
     "name": "stdout",
     "output_type": "stream",
     "text": [
      "2\n",
      "2\n",
      "2\n",
      "29\n",
      "2\n",
      "2\n",
      "2\n",
      "5\n",
      "7\n",
      "dict_items([(2, 3), (29, 1)])\n",
      "dict_items([(2, 3), (5, 1), (7, 1)])\n"
     ]
    }
   ],
   "source": [
    "def isPrime(num):\n",
    "    count = 0\n",
    "    for factor in range(2, num):\n",
    "        if not num % factor:\n",
    "            count = 1\n",
    "            break\n",
    "    return not count\n",
    "\n",
    "def primeFactor(num):\n",
    "    factor = 2\n",
    "\n",
    "    factorList = list()\n",
    "\n",
    "    while num != 1:\n",
    "        if(isPrime(factor)):\n",
    "            if not num%factor:\n",
    "                factorList.append(factor)\n",
    "                num //= factor\n",
    "                continue\n",
    "        factor+=1\n",
    "    return factorList\n",
    "\n",
    "def convert(factorList, factorDict):\n",
    "    count = 0\n",
    "    temp = factorList[0]\n",
    "    for factor in factorList:\n",
    "        print(factor)\n",
    "        if temp == factor:\n",
    "            count+=1\n",
    "        else:\n",
    "            factorDict[temp] = count\n",
    "            count = 1\n",
    "            temp = factor\n",
    "    else:\n",
    "        factorDict[temp] = count\n",
    "\n",
    "workerList = primeFactor(232)\n",
    "workerDict = dict()\n",
    "jobList = primeFactor(280)\n",
    "jobDict = dict()\n",
    "\n",
    "convert(workerList, workerDict)\n",
    "convert(jobList, jobDict)\n",
    "\n",
    "print(workerDict.items())\n",
    "print(jobDict.items())"
   ]
  },
  {
   "cell_type": "code",
   "execution_count": null,
   "metadata": {},
   "outputs": [],
   "source": [
    "f\n"
   ]
  }
 ],
 "metadata": {
  "kernelspec": {
   "display_name": "py3.9.5",
   "language": "python",
   "name": "python3"
  },
  "language_info": {
   "codemirror_mode": {
    "name": "ipython",
    "version": 3
   },
   "file_extension": ".py",
   "mimetype": "text/x-python",
   "name": "python",
   "nbconvert_exporter": "python",
   "pygments_lexer": "ipython3",
   "version": "3.9.5"
  }
 },
 "nbformat": 4,
 "nbformat_minor": 2
}
