{
 "cells": [
  {
   "cell_type": "code",
   "execution_count": null,
   "metadata": {},
   "outputs": [],
   "source": [
    "'''\n",
    "Problem statement:\n",
    "You\\'ve just been hired as a junior data analyst for the UN,\n",
    "and your first task is to redo old hunger statistics.\n",
    "\n",
    "You are given the Hungriness Index™ of a random set of N individuals. \n",
    "This is an integer that ranges from 0-100, inclusive, describing how hungry somebody is. \n",
    "Can you find the percentage of people with a Hungriness Index™ equal to or less to 60?\n",
    "\n",
    "The percentage is always guaranteed to be a whole number.\n",
    "\n",
    "Input Specification:\n",
    "N (int): the number of people in the set\n",
    "The next N lines contain a Hungriness Index™\n",
    "\n",
    "\n",
    "Output:\n",
    "An integer from 0-100; \n",
    "the percentage of people with a Hungriness Index™ less than or equal to 60\n",
    "\n",
    "Example Case:\n",
    "Input Data:\n",
    "5\n",
    "100\n",
    "80\n",
    "60\n",
    "40\n",
    "20\n",
    "\n",
    "Output:\n",
    "60\n",
    "'''"
   ]
  },
  {
   "cell_type": "code",
   "execution_count": 7,
   "metadata": {},
   "outputs": [
    {
     "name": "stdout",
     "output_type": "stream",
     "text": [
      "60\n"
     ]
    }
   ],
   "source": [
    "numOfPeople = 0\n",
    "numOfPeople = int(input())\n",
    "\n",
    "hungry = 0\n",
    "tempVal = 0\n",
    "for idx in range(numOfPeople):\n",
    "    tempVal = int(input())\n",
    "    if tempVal <= 60:\n",
    "        hungry+=1\n",
    "\n",
    "print(int(hungry/numOfPeople * 100))"
   ]
  }
 ],
 "metadata": {
  "kernelspec": {
   "display_name": "py3.9.5",
   "language": "python",
   "name": "python3"
  },
  "language_info": {
   "codemirror_mode": {
    "name": "ipython",
    "version": 3
   },
   "file_extension": ".py",
   "mimetype": "text/x-python",
   "name": "python",
   "nbconvert_exporter": "python",
   "pygments_lexer": "ipython3",
   "version": "3.9.5"
  }
 },
 "nbformat": 4,
 "nbformat_minor": 2
}
