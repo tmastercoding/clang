{
 "cells": [
  {
   "cell_type": "code",
   "execution_count": 16,
   "metadata": {},
   "outputs": [
    {
     "name": "stdout",
     "output_type": "stream",
     "text": [
      "1\n",
      "-500.0\n"
     ]
    }
   ],
   "source": [
    "def getAvgWage(numOfSal, curList, ):\n",
    "    total = 0\n",
    "    for _ in range(numOfSal):\n",
    "        wage, currency = input().split()\n",
    "        wage = int(wage)\n",
    "        for name, value in curList:\n",
    "            if currency == name:\n",
    "                total += wage/value\n",
    "            elif currency == \"HKD\":\n",
    "                total += wage\n",
    "    avg = total/numOfSal\n",
    "    return avg\n",
    "\n",
    "numOfCur = 0\n",
    "numOfCur = int(input())\n",
    "curList = []\n",
    "\n",
    "for _ in range(numOfCur):\n",
    "    currency, amount = input().split()\n",
    "    curList.append([currency, float(amount)])\n",
    "\n",
    "numOfSal = int(input())\n",
    "wAvg = getAvgWage(numOfSal, curList)\n",
    "mAvg = getAvgWage(numOfSal, curList)\n",
    "\n",
    "dif = mAvg - wAvg\n",
    "if dif < 0:\n",
    "    dif *= -1\n",
    "\n",
    "print(dif)"
   ]
  },
  {
   "cell_type": "code",
   "execution_count": 17,
   "metadata": {},
   "outputs": [
    {
     "ename": "KeyboardInterrupt",
     "evalue": "Interrupted by user",
     "output_type": "error",
     "traceback": [
      "\u001b[0;31m---------------------------------------------------------------------------\u001b[0m",
      "\u001b[0;31mKeyboardInterrupt\u001b[0m                         Traceback (most recent call last)",
      "\u001b[0;32m/var/folders/nr/d4ml_tqd4z91nyr3ryvm6xsr0000gn/T/ipykernel_10267/2899707800.py\u001b[0m in \u001b[0;36m<module>\u001b[0;34m\u001b[0m\n\u001b[1;32m     10\u001b[0m \u001b[0;34m\u001b[0m\u001b[0m\n\u001b[1;32m     11\u001b[0m \u001b[0mnumOfCur\u001b[0m \u001b[0;34m=\u001b[0m \u001b[0;36m0\u001b[0m\u001b[0;34m\u001b[0m\u001b[0;34m\u001b[0m\u001b[0m\n\u001b[0;32m---> 12\u001b[0;31m \u001b[0mnumOfCur\u001b[0m \u001b[0;34m=\u001b[0m \u001b[0mint\u001b[0m\u001b[0;34m(\u001b[0m\u001b[0minput\u001b[0m\u001b[0;34m(\u001b[0m\u001b[0;34m)\u001b[0m\u001b[0;34m)\u001b[0m\u001b[0;34m\u001b[0m\u001b[0;34m\u001b[0m\u001b[0m\n\u001b[0m\u001b[1;32m     13\u001b[0m curDict = {\n\u001b[1;32m     14\u001b[0m     \u001b[0;34m\"HKD\"\u001b[0m\u001b[0;34m:\u001b[0m \u001b[0;36m1\u001b[0m\u001b[0;34m\u001b[0m\u001b[0;34m\u001b[0m\u001b[0m\n",
      "\u001b[0;32m~/.pyenv/versions/3.9.5/envs/py3.9.5/lib/python3.9/site-packages/ipykernel/kernelbase.py\u001b[0m in \u001b[0;36mraw_input\u001b[0;34m(self, prompt)\u001b[0m\n\u001b[1;32m    979\u001b[0m                 \u001b[0;34m\"raw_input was called, but this frontend does not support input requests.\"\u001b[0m\u001b[0;34m\u001b[0m\u001b[0;34m\u001b[0m\u001b[0m\n\u001b[1;32m    980\u001b[0m             )\n\u001b[0;32m--> 981\u001b[0;31m         return self._input_request(\n\u001b[0m\u001b[1;32m    982\u001b[0m             \u001b[0mstr\u001b[0m\u001b[0;34m(\u001b[0m\u001b[0mprompt\u001b[0m\u001b[0;34m)\u001b[0m\u001b[0;34m,\u001b[0m\u001b[0;34m\u001b[0m\u001b[0;34m\u001b[0m\u001b[0m\n\u001b[1;32m    983\u001b[0m             \u001b[0mself\u001b[0m\u001b[0;34m.\u001b[0m\u001b[0m_parent_ident\u001b[0m\u001b[0;34m[\u001b[0m\u001b[0;34m\"shell\"\u001b[0m\u001b[0;34m]\u001b[0m\u001b[0;34m,\u001b[0m\u001b[0;34m\u001b[0m\u001b[0;34m\u001b[0m\u001b[0m\n",
      "\u001b[0;32m~/.pyenv/versions/3.9.5/envs/py3.9.5/lib/python3.9/site-packages/ipykernel/kernelbase.py\u001b[0m in \u001b[0;36m_input_request\u001b[0;34m(self, prompt, ident, parent, password)\u001b[0m\n\u001b[1;32m   1024\u001b[0m             \u001b[0;32mexcept\u001b[0m \u001b[0mKeyboardInterrupt\u001b[0m\u001b[0;34m:\u001b[0m\u001b[0;34m\u001b[0m\u001b[0;34m\u001b[0m\u001b[0m\n\u001b[1;32m   1025\u001b[0m                 \u001b[0;31m# re-raise KeyboardInterrupt, to truncate traceback\u001b[0m\u001b[0;34m\u001b[0m\u001b[0;34m\u001b[0m\u001b[0;34m\u001b[0m\u001b[0m\n\u001b[0;32m-> 1026\u001b[0;31m                 \u001b[0;32mraise\u001b[0m \u001b[0mKeyboardInterrupt\u001b[0m\u001b[0;34m(\u001b[0m\u001b[0;34m\"Interrupted by user\"\u001b[0m\u001b[0;34m)\u001b[0m \u001b[0;32mfrom\u001b[0m \u001b[0;32mNone\u001b[0m\u001b[0;34m\u001b[0m\u001b[0;34m\u001b[0m\u001b[0m\n\u001b[0m\u001b[1;32m   1027\u001b[0m             \u001b[0;32mexcept\u001b[0m \u001b[0mException\u001b[0m\u001b[0;34m:\u001b[0m\u001b[0;34m\u001b[0m\u001b[0;34m\u001b[0m\u001b[0m\n\u001b[1;32m   1028\u001b[0m                 \u001b[0mself\u001b[0m\u001b[0;34m.\u001b[0m\u001b[0mlog\u001b[0m\u001b[0;34m.\u001b[0m\u001b[0mwarning\u001b[0m\u001b[0;34m(\u001b[0m\u001b[0;34m\"Invalid Message:\"\u001b[0m\u001b[0;34m,\u001b[0m \u001b[0mexc_info\u001b[0m\u001b[0;34m=\u001b[0m\u001b[0;32mTrue\u001b[0m\u001b[0;34m)\u001b[0m\u001b[0;34m\u001b[0m\u001b[0;34m\u001b[0m\u001b[0m\n",
      "\u001b[0;31mKeyboardInterrupt\u001b[0m: Interrupted by user"
     ]
    }
   ],
   "source": [
    "def getAvgWage(numOfSal, curDict):\n",
    "    total = 0\n",
    "    for _ in range(numOfSal):\n",
    "        wage, currency = input().split()\n",
    "        wage = int(wage)\n",
    "        total += wage / curDict[currency]\n",
    "\n",
    "    avg = total/numOfSal\n",
    "    return avg\n",
    "\n",
    "numOfCur = 0\n",
    "numOfCur = int(input())\n",
    "curDict = {\n",
    "    \"HKD\": 1\n",
    "}\n",
    "for _ in range(numOfCur):\n",
    "    currency, amount = input().split()\n",
    "    curDict[currency] = float(amount)\n",
    "\n",
    "numOfSal = int(input())\n",
    "print(abs(getAvgWage(numOfSal, curDict) - getAvgWage(numOfSal, curDict)))"
   ]
  },
  {
   "cell_type": "code",
   "execution_count": 19,
   "metadata": {},
   "outputs": [
    {
     "name": "stdout",
     "output_type": "stream",
     "text": [
      "500 EUR\n",
      "2000 HKD\n",
      "3000 HKD\n",
      "400 EUR\n",
      "2500 HKD\n",
      "2000 HKD\n",
      "500\n"
     ]
    }
   ],
   "source": [
    "## input currency\n",
    "currencySize = int(input(''))\n",
    "\n",
    "currencyDict = {}\n",
    "\n",
    "for _ in range( currencySize ):\n",
    "    current, amount = input().split()\n",
    "    currencyDict.update( {current: float( amount)})\n",
    "\n",
    "## input salaries\n",
    "salarySize = int(input())\n",
    "\n",
    "def getTotal( salarySize:int ):\n",
    "    sum = 0\n",
    "\n",
    "    for idx in range( salarySize ):\n",
    "        amount, current = input().split()\n",
    "\n",
    "        print( amount, current )\n",
    "\n",
    "        if( current == 'HKD' ):\n",
    "            sum += float(amount)\n",
    "        else:\n",
    "            sum += ( int(amount)  / currencyDict.get(current) )\n",
    "    return sum; \n",
    "\n",
    "print( int(abs((getTotal(salarySize) - getTotal(salarySize)) / salarySize)))\n"
   ]
  },
  {
   "cell_type": "code",
   "execution_count": null,
   "metadata": {},
   "outputs": [],
   "source": [
    "3 /2 + 5 /2\n",
    "( 3 + 5 ) / 2"
   ]
  },
  {
   "cell_type": "code",
   "execution_count": null,
   "metadata": {},
   "outputs": [],
   "source": [
    "## input currency\n",
    "currencySize = 0\n",
    "\n",
    "currencySize = int(input())\n",
    "\n",
    "currencyList = []\n",
    "\n",
    "for idx in range( currencySize ):\n",
    "    current, amount = input().split()\n",
    "    currencyList.append( [ current, int(amount) ] )"
   ]
  }
 ],
 "metadata": {
  "kernelspec": {
   "display_name": "py3.9.5",
   "language": "python",
   "name": "python3"
  },
  "language_info": {
   "codemirror_mode": {
    "name": "ipython",
    "version": 3
   },
   "file_extension": ".py",
   "mimetype": "text/x-python",
   "name": "python",
   "nbconvert_exporter": "python",
   "pygments_lexer": "ipython3",
   "version": "3.9.5"
  }
 },
 "nbformat": 4,
 "nbformat_minor": 2
}
