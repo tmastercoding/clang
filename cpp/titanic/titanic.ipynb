{
 "cells": [
  {
   "cell_type": "code",
   "execution_count": 6,
   "metadata": {},
   "outputs": [],
   "source": [
    "# read file\n",
    "\n",
    "f = open(\"./titanic.csv\", \"r\")\n",
    "\n",
    "data = [\n",
    "        [],\n",
    "        ]\n",
    "\n",
    "lines = [\"\"]\n",
    "for line in f: \n",
    "    lines.append(line)\n",
    "\n",
    "for line in lines:\n",
    "    print(line.split(','))\n",
    "\n",
    "f.close()\n",
    "# put data into 2d array with dict inside\n",
    "\n",
    "# print array"
   ]
  },
  {
   "cell_type": "code",
   "execution_count": null,
   "metadata": {},
   "outputs": [],
   "source": []
  }
 ],
 "metadata": {
  "kernelspec": {
   "display_name": "py3.9.5",
   "language": "python",
   "name": "python3"
  },
  "language_info": {
   "codemirror_mode": {
    "name": "ipython",
    "version": 3
   },
   "file_extension": ".py",
   "mimetype": "text/x-python",
   "name": "python",
   "nbconvert_exporter": "python",
   "pygments_lexer": "ipython3",
   "version": "3.9.5"
  }
 },
 "nbformat": 4,
 "nbformat_minor": 2
}
