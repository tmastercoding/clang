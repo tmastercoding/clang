{
 "cells": [
  {
   "cell_type": "code",
   "execution_count": 58,
   "metadata": {},
   "outputs": [
    {
     "name": "stdout",
     "output_type": "stream",
     "text": [
      "[['#include', '<iostream>'], ['using', 'namespace', 'std;'], [], ['//', 'break'], ['void', 'ex00();'], [], ['//', 'continue'], ['void', 'ex01();'], [], ['//', 'break', 'in', 'while', 'loop'], ['void', 'ex02();'], [], ['//', 'continue', 'in', 'while', 'loop'], ['void', 'ex03();'], [], ['int', 'main(){'], ['//', 'break'], ['//', 'ex00();'], [], ['//', 'continue'], ['//', 'ex01();'], [], ['//', 'break', 'in', 'while', 'loop'], ['//', 'ex02();'], [], ['//', 'continue', 'in', 'while', 'loop'], ['ex03();'], [], ['return', '0;'], ['}'], [], ['//', 'break'], ['void', 'ex00(){'], ['//', 'loop', 'if', 'number', 'is', 'less', 'than', 'ten', 'while', 'increasing', 'number', 'each', 'time'], ['for(int', 'number', '=', '0;', 'number', '<', '10;', 'number++){'], ['//', 'if', 'number', 'is', '4'], ['if(number', '==', '4){'], ['//', 'end', 'the', 'whole', 'loop', 'completely'], ['break;'], ['}'], [], ['//', 'print', 'the', 'number'], ['cout', '<<', 'number', '<<', 'endl;'], ['}'], ['}'], [], ['//', 'continue'], ['void', 'ex01(){'], ['//', 'loop', 'if', 'number', 'is', 'less', 'than', 'ten', 'while', 'increasing', 'number', 'each', 'time'], ['for(int', 'number', '=', '0;', 'number', '<', '10;', 'number++){'], ['//', 'if', 'number', 'is', '4'], ['if(number', '==', '4){'], ['//', 'skip', 'this', 'cycle', 'of', 'the', 'loop'], ['continue;'], ['}'], [], ['//', 'print', 'the', 'number'], ['cout', '<<', 'number', '<<', 'endl;'], ['}'], ['}'], [], ['//', 'break', 'in', 'while', 'loop'], ['void', 'ex02(){'], ['int', 'number', '=', '0;'], [], ['//', 'while', 'number', 'is', 'less', 'than', '10'], ['while(number', '<', '10){'], ['//', 'if', 'number', 'is', '4'], ['if(number', '==', '4){'], ['//', 'end', 'the', 'loop', 'completely'], ['break;'], ['}'], [], ['//', 'print', 'the', 'number'], ['cout', '<<', 'number', '<<', 'endl;'], [], ['//', 'add', '1', 'to', 'the', 'number'], ['number++;'], ['}'], ['}'], [], ['//', 'continue', 'in', 'while', 'loop'], ['void', 'ex03(){'], ['int', 'number', '=', '0;'], [], ['//', 'while', 'number', 'is', 'less', 'than', '10'], ['while(number', '<', '10){'], ['//', 'if', 'number', 'is', '4'], ['if(number', '==', '4){'], ['//', 'add', '1', 'to', 'number,', 'since'], ['//', 'there', 'will', 'be', 'an', 'infinite', 'loop', 'otherwise'], ['number++;'], [], ['//', 'skip', 'this', 'loop'], ['continue;'], ['}'], [], ['//', 'print', 'number'], ['cout', '<<', 'number', '<<', 'endl;'], [], ['//', 'add', '1', 'to', 'number'], ['number++;'], ['}'], ['}']]\n"
     ]
    }
   ],
   "source": [
    "# open file\n",
    "with open('./files/testFile.txt') as f:\n",
    "    # put all lines into list\n",
    "    lines = []\n",
    "    lines = f.readlines()\n",
    "\n",
    "# cast list into tuple\n",
    "lines = tuple(lines)\n",
    "\n",
    "# get rid of all new lines\n",
    "for line in lines:\n",
    "    line = line.replace('\\n', '')\n",
    "    # print(line)\n",
    "# create list called header\n",
    "header = []\n",
    "\n",
    "# idx\n",
    "idx = 0\n",
    "\n",
    "# loop through lines for header\n",
    "for line in lines:\n",
    "    # if #include exists in line\n",
    "    if(line.find('#include')!= -1):\n",
    "        # add line to header\n",
    "        header.append(lines[idx])\n",
    "    # if using namespace exists in line\n",
    "    elif(line.find('using namespace')!= -1):\n",
    "        # add line to header\n",
    "        header.append(lines[idx])\n",
    "    # increase index\n",
    "    idx+=1\n",
    "\n",
    "# cast header into tuple\n",
    "header = tuple(header)\n",
    "\n",
    "# for line in header:\n",
    "#     print(line)\n",
    "\n",
    "\n",
    "prototypes = []\n",
    "# idx\n",
    "idx = 0\n",
    "\n",
    "\n",
    "# loop through lines for prototypes\n",
    "for line in lines:\n",
    "    # if #include exists in line\n",
    "    if (line.find('void')!= -1) and (line.find('();') != -1):\n",
    "        # add line to header\n",
    "        prototypes.append(lines[idx])\n",
    "\n",
    "    # increase index\n",
    "    idx+=1\n",
    "\n",
    "print(prototypes)"
   ]
  }
 ],
 "metadata": {
  "kernelspec": {
   "display_name": "py3.9.5",
   "language": "python",
   "name": "python3"
  },
  "language_info": {
   "codemirror_mode": {
    "name": "ipython",
    "version": 3
   },
   "file_extension": ".py",
   "mimetype": "text/x-python",
   "name": "python",
   "nbconvert_exporter": "python",
   "pygments_lexer": "ipython3",
   "version": "3.9.5"
  },
  "orig_nbformat": 4
 },
 "nbformat": 4,
 "nbformat_minor": 2
}
