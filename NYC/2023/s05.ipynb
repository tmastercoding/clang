{
 "cells": [
  {
   "cell_type": "code",
   "execution_count": 1,
   "metadata": {},
   "outputs": [],
   "source": [
    "#    ABCDEFG\n",
    "# 0: 1111110 -> 126\n",
    "# 1: 0110000 -> 48\n",
    "# 2: 1101101 -> 126\n",
    "# 3: 1111001 -> 126\n",
    "# 4: 0110011 -> 126\n",
    "# 5: 1011011 -> 126\n",
    "# 6: 1011111 -> 126\n",
    "# 7: 1110000 -> 126\n",
    "# 8: 1111111 -> 126\n",
    "# 9: 1111011 -> 126"
   ]
  },
  {
   "cell_type": "code",
   "execution_count": 188,
   "metadata": {},
   "outputs": [
    {
     "name": "stdout",
     "output_type": "stream",
     "text": [
      "127 126\n",
      "127 126\n",
      "127 126\n",
      "127 126\n",
      "127 126\n",
      "127 126\n",
      "127 126\n",
      "127 126\n",
      "127 126\n",
      "127 126\n",
      "127 109\n",
      "127 109\n",
      "127 109\n",
      "127 109\n",
      "127 109\n",
      "127 109\n",
      "127 109\n",
      "127 109\n",
      "127 109\n",
      "127 109\n",
      "case: 1\n",
      "   - pre:  {'0'} post:  {'2'}\n",
      "1\n",
      "2 "
     ]
    }
   ],
   "source": [
    "from functools import reduce \n",
    "\n",
    "def binToInt(data: str):\n",
    "    return reduce(lambda acc, cur: acc*2 + int(cur), data, 0)\n",
    "\n",
    "segments = {\n",
    "    '0': '1111110',\n",
    "    '1': '0110000',    \n",
    "    '2': '1101101',\n",
    "    '3': '1111001',\n",
    "    '4': '0110011',\n",
    "    '5': '1011011',\n",
    "    '6': '1011111',\n",
    "    '7': '1110000',\n",
    "    '8': '1111111',\n",
    "    '9': '1111011',\n",
    "}\n",
    "\n",
    "mask = input().split()\n",
    "caseSize = int(input())\n",
    "cases = []\n",
    "for _ in range(caseSize):\n",
    "    temp = input()\n",
    "    cases.append(temp.split())\n",
    "    \n",
    "def getPossible(data: str, order: int):\n",
    "    possibleSet = set()\n",
    "    if mask[order] == '1111111':\n",
    "        isWorking = True\n",
    "    else:\n",
    "        isWorking = False\n",
    "\n",
    "    for key, val in segments.items():\n",
    "        # print(key + \":\", binToInt(val))\n",
    "        if not isWorking:\n",
    "            maskVal = binToInt(val) & binToInt(data) #& binToInt(mask)\n",
    "            if  maskVal == binToInt(data):\n",
    "                possibleSet.add(key)\n",
    "        else:\n",
    "            maskVal = binToInt(mask[order]) & binToInt(data)\n",
    "            print(binToInt(mask[order]), )\n",
    "            if maskVal == binToInt(val):\n",
    "                possibleSet.add(key)\n",
    "        # print(key, bin(andMaskVal))\n",
    "\n",
    "        \n",
    "\n",
    "    return possibleSet\n",
    "\n",
    "\n",
    "\n",
    "# cases = [\n",
    "#     ['0000110', '0011111'],\n",
    "#     ['0000110', '0010000'],\n",
    "#     ['0000110', '0011111']\n",
    "# ]\n",
    "\n",
    "cnt = 0\n",
    "\n",
    "td = []\n",
    "\n",
    "for case in cases:\n",
    "    pre, post = case\n",
    "    preList = getPossible(pre, 0)\n",
    "    postList = getPossible(post, 1)\n",
    "    cnt += 1\n",
    "    print(f\"case: {cnt}\")\n",
    "    print(\"   - pre: \", preList, \"post: \", postList)\n",
    "    td.append(postList)\n",
    "\n",
    "if len(preList) > 0:\n",
    "    intersect = set()\n",
    "    intersect = reduce(lambda x, y: x & y, td)   \n",
    "    postVal = max(intersect)\n",
    "\n",
    "print(len(preList))\n",
    "for preVal in preList:\n",
    "    print(int(preVal + postVal), end = ' ')"
   ]
  },
  {
   "cell_type": "code",
   "execution_count": 87,
   "metadata": {},
   "outputs": [],
   "source": [
    "td = {\n",
    "    '0': ['6', '8'],\n",
    "    '1': ['0', '1', '3', '4', '5', '6', '7', '8', '9'],\n",
    "    '2': ['6', '8']\n",
    "}\n",
    "\n",
    "temp = set()\n",
    "\n",
    "for idx in range(1, 3):\n",
    "    temp.intersection(set(td[str(idx-1)]), set(td[str(idx)]))"
   ]
  },
  {
   "cell_type": "code",
   "execution_count": 99,
   "metadata": {},
   "outputs": [
    {
     "name": "stdout",
     "output_type": "stream",
     "text": [
      "{'6', '8'}\n"
     ]
    },
    {
     "data": {
      "text/plain": [
       "'8'"
      ]
     },
     "execution_count": 99,
     "metadata": {},
     "output_type": "execute_result"
    }
   ],
   "source": [
    "td = (\n",
    "    ['6', '8'],\n",
    "    ['0', '1', '3', '4', '5', '6', '7', '8', '9'],\n",
    "    ['6', '8']\n",
    ")\n",
    "\n",
    "# 각 리스트를 집합으로 변환\n",
    "set1 = set(td[0])\n",
    "set2 = set(td[1])\n",
    "set3 = set(td[2])\n",
    "\n",
    "# 교집합 구하기\n",
    "intersection = set1 & set2 & set3\n",
    "\n",
    "print(intersection)\n",
    "\n",
    "max(intersection)"
   ]
  },
  {
   "cell_type": "code",
   "execution_count": 166,
   "metadata": {},
   "outputs": [
    {
     "name": "stdout",
     "output_type": "stream",
     "text": [
      "1111111 1111110\n",
      "0b1111110\n",
      "0b110000\n"
     ]
    }
   ],
   "source": [
    "\n",
    "from functools import reduce \n",
    "\n",
    "def binToInt(data: str):\n",
    "    return reduce(lambda acc, cur: acc*2 + int(cur), data, 0)\n",
    "\n",
    "segments = {\n",
    "    '0': '1111110',\n",
    "    '1': '0110000',    \n",
    "    '2': '1101101',\n",
    "    '3': '1111001',\n",
    "    '4': '0110011',\n",
    "    '5': '1011011',\n",
    "    '6': '1011111',\n",
    "    '7': '1110000',\n",
    "    '8': '1111111',\n",
    "    '9': '1111011',\n",
    "}\n",
    "\n",
    "cases = [\n",
    "    ['1111110', '1101101'],\n",
    "    ['0000110', '0010000'],\n",
    "    ['0000110', '1101101']\n",
    "]\n",
    "\n",
    "mask = ['1111111', '0011111']\n",
    "\n",
    "\n",
    "print(mask[0], cases[0][0])\n",
    "maskval = binToInt(mask[0]) & binToInt(cases[0][0])\n",
    "print(bin(maskval))\n",
    "\n",
    "maskval = maskval&binToInt(segments[''])\n",
    "print(bin(maskval))\n",
    "\n",
    "if(maskval == binToInt(cases[0][0])):\n",
    "    print('sadf')\n",
    "\n"
   ]
  },
  {
   "cell_type": "code",
   "execution_count": 40,
   "metadata": {},
   "outputs": [
    {
     "data": {
      "text/plain": [
       "2"
      ]
     },
     "execution_count": 40,
     "metadata": {},
     "output_type": "execute_result"
    }
   ],
   "source": [
    "int('02')"
   ]
  }
 ],
 "metadata": {
  "kernelspec": {
   "display_name": "py3.9.5",
   "language": "python",
   "name": "python3"
  },
  "language_info": {
   "codemirror_mode": {
    "name": "ipython",
    "version": 3
   },
   "file_extension": ".py",
   "mimetype": "text/x-python",
   "name": "python",
   "nbconvert_exporter": "python",
   "pygments_lexer": "ipython3",
   "version": "3.9.5"
  }
 },
 "nbformat": 4,
 "nbformat_minor": 2
}
