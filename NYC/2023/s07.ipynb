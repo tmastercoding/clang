{
 "cells": [
  {
   "cell_type": "code",
   "execution_count": null,
   "metadata": {},
   "outputs": [],
   "source": [
    "### Problem\n",
    "# N monsters\n",
    "# M knights\n",
    "# M >= N\n",
    "# Send N consecutive knights to fight\n",
    "# M - N + 1 ways to select knights\n",
    "\n",
    "# ice and fire type \n",
    "# if types different attack same\n",
    "# if types same attack/2 (round down)\n",
    "\n",
    "# knights choose 1 monster and attack once\n",
    "# success = all monsters' hp <= 0\n",
    "\n",
    "### INPUT\n",
    "# N M (first row)\n",
    "# Following rows: monster_type monster_hp\n",
    "# monster_type = 0 = fire, 1 = ice\n",
    "# Following rows: knight_type knight_attack\n",
    "# knight_type = 0 = fire, 1 = ice\n",
    "\n",
    "### OUTPUT\n",
    "# String showing each knight groups' success\n",
    "# if 1, success, if 0 fail"
   ]
  },
  {
   "cell_type": "code",
   "execution_count": 45,
   "metadata": {},
   "outputs": [
    {
     "name": "stdout",
     "output_type": "stream",
     "text": [
      "[[0, 7], [1, 10]]\n",
      "[[1, 7], [0, 15], [0, 10], [1, 5]]\n"
     ]
    }
   ],
   "source": [
    "case1 = '''2 4\n",
    "0 7\n",
    "1 10\n",
    "1 7\n",
    "0 15\n",
    "0 10\n",
    "1 5'''\n",
    "\n",
    "# split lines\n",
    "lines = case1.split('\\n')\n",
    "\n",
    "# cast to int\n",
    "lines = list(map(lambda x: list(map(lambda y: int(y), x.split())), lines))\n",
    "mSize, kSize = lines[0]\n",
    "\n",
    "# assign lists\n",
    "monsters = lines[1: mSize+1]\n",
    "knights = lines[mSize+1:]\n",
    "\n",
    "print(monsters)\n",
    "print(knights)"
   ]
  },
  {
   "cell_type": "code",
   "execution_count": 53,
   "metadata": {},
   "outputs": [
    {
     "data": {
      "text/plain": [
       "[[([1, 7], [0, 15]), ([0, 15], [1, 7])],\n",
       " [([0, 15], [0, 10]), ([0, 10], [0, 15])],\n",
       " [([0, 10], [1, 5]), ([1, 5], [0, 10])]]"
      ]
     },
     "execution_count": 53,
     "metadata": {},
     "output_type": "execute_result"
    }
   ],
   "source": [
    "from itertools import permutations\n",
    "# get possible teams\n",
    "# permutatopms\n",
    "teamSize = kSize - mSize + 1\n",
    "teams = []\n",
    "for idx in range(teamSize):\n",
    "    teams.append(list(permutations(knights[idx: idx+mSize], mSize)))\n",
    "\n",
    "teams"
   ]
  },
  {
   "cell_type": "code",
   "execution_count": 105,
   "metadata": {},
   "outputs": [
    {
     "name": "stdout",
     "output_type": "stream",
     "text": [
      "110"
     ]
    }
   ],
   "source": [
    "# for team in teams:\n",
    "for team in teams:\n",
    "    for perm in team:\n",
    "        isNotKill = False\n",
    "        \n",
    "        for idx in range(mSize):\n",
    "            if isNotKill:\n",
    "                break\n",
    "\n",
    "            # if type different\n",
    "            # print(monsters[idx][0], perm[idx][0])\n",
    "            if monsters[idx][0] ^ perm[idx][0]:\n",
    "                # print('Dif: ' + str(perm[idx][1] - perm[idx][1]))\n",
    "                if (monsters[idx][1] - perm[idx][1]) > 0:\n",
    "                    isNotKill = True\n",
    "                    break\n",
    "            else:\n",
    "                # print('Same: ' + str(monsters[idx][1] - int(perm[idx][1]/2)))\n",
    "                if (monsters[idx][1] - int(perm[idx][1]/2)) > 0:\n",
    "                    isNotKill = True\n",
    "                    break\n",
    "        if not isNotKill:\n",
    "            print('1', end='')\n",
    "            break\n",
    "    else:\n",
    "        print('0', end='')\n",
    "            "
   ]
  },
  {
   "cell_type": "code",
   "execution_count": 108,
   "metadata": {},
   "outputs": [
    {
     "name": "stdout",
     "output_type": "stream",
     "text": [
      "110"
     ]
    }
   ],
   "source": [
    "### VER 1\n",
    "\n",
    "case1 = '''2 4\n",
    "0 7\n",
    "1 10\n",
    "1 7\n",
    "0 15\n",
    "0 10\n",
    "1 5'''\n",
    "\n",
    "# split lines\n",
    "lines = case1.split('\\n')\n",
    "\n",
    "# cast to int\n",
    "lines = list(map(lambda x: list(map(lambda y: int(y), x.split())), lines))\n",
    "mSize,   = lines[0]\n",
    "\n",
    "# assign lists\n",
    "monsters = lines[1: mSize+1]\n",
    "knights = lines[mSize+1:]\n",
    "\n",
    "from itertools import permutations\n",
    "# get possible teams +\n",
    "# permutations\n",
    "teamSize = kSize - mSize + 1\n",
    "teams = []\n",
    "for idx in range(teamSize):\n",
    "    teams.append(list(permutations(knights[idx: idx+mSize], mSize)))\n",
    "\n",
    "# for team in teams:\n",
    "for team in teams:\n",
    "    for perm in team:\n",
    "        isNotKill = False\n",
    "\n",
    "        for idx in range(mSize):\n",
    "            # if type same\n",
    "            if monsters[idx][0] ^ perm[idx][0]:\n",
    "                if (monsters[idx][1] - perm[idx][1]) > 0:\n",
    "                    isNotKill = True\n",
    "                    break\n",
    "            else:\n",
    "                if (monsters[idx][1] - int(perm[idx][1]/2)) > 0:\n",
    "                    isNotKill = True\n",
    "                    break\n",
    "        if not isNotKill:\n",
    "            print('1', end='')\n",
    "            break\n",
    "    else:\n",
    "        print('0', end='')"
   ]
  },
  {
   "cell_type": "code",
   "execution_count": null,
   "metadata": {},
   "outputs": [],
   "source": [
    "# 0 7 \n",
    "# 1 10\n",
    "# 1 7\n",
    "# 0 15\n",
    "# 0 10\n",
    "# 1 5\n",
    "\n",
    "# 0 7  # 1 7\n",
    "# 1 10 # 0 15"
   ]
  }
 ],
 "metadata": {
  "kernelspec": {
   "display_name": "py3.9.5",
   "language": "python",
   "name": "python3"
  },
  "language_info": {
   "codemirror_mode": {
    "name": "ipython",
    "version": 3
   },
   "file_extension": ".py",
   "mimetype": "text/x-python",
   "name": "python",
   "nbconvert_exporter": "python",
   "pygments_lexer": "ipython3",
   "version": "3.9.5"
  }
 },
 "nbformat": 4,
 "nbformat_minor": 2
}
