{
 "cells": [
  {
   "cell_type": "code",
   "execution_count": 62,
   "metadata": {},
   "outputs": [
    {
     "name": "stdout",
     "output_type": "stream",
     "text": [
      "6\n"
     ]
    }
   ],
   "source": [
    "diceM = 6\n",
    "diceN = 4\n",
    "\n",
    "from random import randint\n",
    "\n",
    "num = 6\n",
    "\n",
    "# dice_m_numbers = range(1,5)\n",
    "\n",
    "print(num)\n",
    "if num == 5:\n",
    "    newRoll = randint(1, diceM)\n",
    "    if newRoll in range(1, int(diceM/2+1)):\n",
    "        num = 1\n",
    "    else:\n",
    "        num = 2\n",
    "elif num == 6:\n",
    "    newRoll = randint(1, diceM)\n",
    "    if newRoll in range(1, int(diceM/2+1)):\n",
    "        num = 3\n",
    "    else:\n",
    "        num = 4\n"
   ]
  },
  {
   "cell_type": "code",
   "execution_count": 108,
   "metadata": {},
   "outputs": [
    {
     "name": "stdout",
     "output_type": "stream",
     "text": [
      "5\n"
     ]
    }
   ],
   "source": [
    "diceM = 6\n",
    "diceN = 4\n",
    "\n",
    "def getHCF(pre, post):  \n",
    "    hcf = 1      \n",
    "    for idx in range(1, post+1):\n",
    "        if (not(post % idx)) and (not(pre % idx)):\n",
    "            if idx > hcf:\n",
    "                hcf = idx\n",
    "    return hcf\n",
    "\n",
    "print(getHCF(10, 5))"
   ]
  },
  {
   "cell_type": "code",
   "execution_count": 132,
   "metadata": {},
   "outputs": [
    {
     "data": {
      "text/plain": [
       "2"
      ]
     },
     "execution_count": 132,
     "metadata": {},
     "output_type": "execute_result"
    }
   ],
   "source": [
    "def gcd(a, b):\n",
    "    while b:\n",
    "        a, b = b, a % b\n",
    "        # print( f'a, b = {a}, {b}')\n",
    "    return a\n",
    "\n",
    "gcd(4, 6)"
   ]
  },
  {
   "cell_type": "code",
   "execution_count": 115,
   "metadata": {},
   "outputs": [
    {
     "data": {
      "text/plain": [
       "4"
      ]
     },
     "execution_count": 115,
     "metadata": {},
     "output_type": "execute_result"
    }
   ],
   "source": [
    "import math\n",
    "\n",
    "math.gcd(4, 12)"
   ]
  },
  {
   "cell_type": "code",
   "execution_count": 133,
   "metadata": {},
   "outputs": [
    {
     "name": "stdout",
     "output_type": "stream",
     "text": [
      "YES\n"
     ]
    }
   ],
   "source": [
    "m, n = (6, 4)\n",
    "\n",
    "def isPos(m, n):\n",
    "    g= gcd(m, n)\n",
    "    return (g+1)/(m*g) == 1/n\n",
    "\n",
    "if isPos(m , n):\n",
    "    print('YES')\n",
    "else:\n",
    "    print('NO')"
   ]
  },
  {
   "cell_type": "code",
   "execution_count": 143,
   "metadata": {},
   "outputs": [
    {
     "name": "stdout",
     "output_type": "stream",
     "text": [
      "YES\n",
      "NO\n"
     ]
    }
   ],
   "source": [
    "import math\n",
    "\n",
    "size = int(input())\n",
    "for _ in range(size):\n",
    "    m, n = map(lambda x: int(x), input().split())\n",
    "\n",
    "    g = math.gcd(m, n)\n",
    "    if (g+1)/(m*g) == 1/n:\n",
    "        print('YES')\n",
    "    else:\n",
    "        print('NO')\n"
   ]
  },
  {
   "cell_type": "code",
   "execution_count": 2,
   "metadata": {},
   "outputs": [
    {
     "name": "stdout",
     "output_type": "stream",
     "text": [
      "YES\n",
      "NO\n"
     ]
    }
   ],
   "source": [
    "import math\n",
    "\n",
    "size = int(input())\n",
    "numbers = []\n",
    "\n",
    "\n",
    "for _ in range(size):\n",
    "    m, n = map(lambda x: int(x), input().split())\n",
    "    numbers.append([m, n])\n",
    "\n",
    "for idx in range(size):\n",
    "    if (g+1)/(numbers[idx][0]*g) == 1/numbers[idx][1]:\n",
    "        print('YES')\n",
    "    else:\n",
    "        print('NO')\n"
   ]
  }
 ],
 "metadata": {
  "kernelspec": {
   "display_name": "py3.9.5",
   "language": "python",
   "name": "python3"
  },
  "language_info": {
   "codemirror_mode": {
    "name": "ipython",
    "version": 3
   },
   "file_extension": ".py",
   "mimetype": "text/x-python",
   "name": "python",
   "nbconvert_exporter": "python",
   "pygments_lexer": "ipython3",
   "version": "3.9.5"
  }
 },
 "nbformat": 4,
 "nbformat_minor": 2
}
