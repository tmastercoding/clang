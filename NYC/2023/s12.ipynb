{
 "cells": [
  {
   "cell_type": "code",
   "execution_count": 40,
   "metadata": {},
   "outputs": [
    {
     "name": "stdout",
     "output_type": "stream",
     "text": [
      "[1]\n"
     ]
    },
    {
     "ename": "IndexError",
     "evalue": "list index out of range",
     "output_type": "error",
     "traceback": [
      "\u001b[0;31m---------------------------------------------------------------------------\u001b[0m",
      "\u001b[0;31mIndexError\u001b[0m                                Traceback (most recent call last)",
      "\u001b[0;32m/var/folders/nr/d4ml_tqd4z91nyr3ryvm6xsr0000gn/T/ipykernel_78882/1161731137.py\u001b[0m in \u001b[0;36m<module>\u001b[0;34m\u001b[0m\n\u001b[1;32m     32\u001b[0m         \u001b[0;31m#     break\u001b[0m\u001b[0;34m\u001b[0m\u001b[0;34m\u001b[0m\u001b[0;34m\u001b[0m\u001b[0m\n\u001b[1;32m     33\u001b[0m \u001b[0;34m\u001b[0m\u001b[0m\n\u001b[0;32m---> 34\u001b[0;31m         \u001b[0msatisfaction\u001b[0m \u001b[0;34m=\u001b[0m \u001b[0mgetSatisfaction\u001b[0m\u001b[0;34m(\u001b[0m\u001b[0mtemp\u001b[0m\u001b[0;34m,\u001b[0m \u001b[0msize\u001b[0m\u001b[0;34m)\u001b[0m\u001b[0;34m\u001b[0m\u001b[0;34m\u001b[0m\u001b[0m\n\u001b[0m\u001b[1;32m     35\u001b[0m         \u001b[0mprint\u001b[0m\u001b[0;34m(\u001b[0m\u001b[0midx\u001b[0m\u001b[0;34m,\u001b[0m \u001b[0mjdx\u001b[0m\u001b[0;34m,\u001b[0m \u001b[0mtemp\u001b[0m\u001b[0;34m,\u001b[0m \u001b[0msatisfaction\u001b[0m\u001b[0;34m)\u001b[0m\u001b[0;34m\u001b[0m\u001b[0;34m\u001b[0m\u001b[0m\n\u001b[1;32m     36\u001b[0m         \u001b[0;32mif\u001b[0m  \u001b[0msatisfaction\u001b[0m \u001b[0;34m>=\u001b[0m \u001b[0mmaxSatisfaction\u001b[0m\u001b[0;34m:\u001b[0m\u001b[0;34m\u001b[0m\u001b[0;34m\u001b[0m\u001b[0m\n",
      "\u001b[0;32m/var/folders/nr/d4ml_tqd4z91nyr3ryvm6xsr0000gn/T/ipykernel_78882/1161731137.py\u001b[0m in \u001b[0;36mgetSatisfaction\u001b[0;34m(players, size)\u001b[0m\n\u001b[1;32m      7\u001b[0m     \u001b[0;32mfor\u001b[0m \u001b[0midx\u001b[0m \u001b[0;32min\u001b[0m \u001b[0mrange\u001b[0m\u001b[0;34m(\u001b[0m\u001b[0msize\u001b[0m\u001b[0;34m)\u001b[0m\u001b[0;34m:\u001b[0m\u001b[0;34m\u001b[0m\u001b[0;34m\u001b[0m\u001b[0m\n\u001b[1;32m      8\u001b[0m         \u001b[0;32mfor\u001b[0m \u001b[0mjdx\u001b[0m \u001b[0;32min\u001b[0m \u001b[0mrange\u001b[0m\u001b[0;34m(\u001b[0m\u001b[0midx\u001b[0m\u001b[0;34m+\u001b[0m\u001b[0;36m1\u001b[0m\u001b[0;34m,\u001b[0m \u001b[0msize\u001b[0m\u001b[0;34m)\u001b[0m\u001b[0;34m:\u001b[0m\u001b[0;34m\u001b[0m\u001b[0;34m\u001b[0m\u001b[0m\n\u001b[0;32m----> 9\u001b[0;31m             \u001b[0;32mif\u001b[0m \u001b[0mplayers\u001b[0m\u001b[0;34m[\u001b[0m\u001b[0midx\u001b[0m\u001b[0;34m]\u001b[0m \u001b[0;34m>\u001b[0m \u001b[0mplayers\u001b[0m\u001b[0;34m[\u001b[0m\u001b[0mjdx\u001b[0m\u001b[0;34m]\u001b[0m\u001b[0;34m:\u001b[0m\u001b[0;34m\u001b[0m\u001b[0;34m\u001b[0m\u001b[0m\n\u001b[0m\u001b[1;32m     10\u001b[0m                 \u001b[0msatisfaction\u001b[0m \u001b[0;34m+=\u001b[0m \u001b[0;36m1\u001b[0m\u001b[0;34m\u001b[0m\u001b[0;34m\u001b[0m\u001b[0m\n\u001b[1;32m     11\u001b[0m     \u001b[0;32mreturn\u001b[0m \u001b[0msatisfaction\u001b[0m\u001b[0;34m\u001b[0m\u001b[0;34m\u001b[0m\u001b[0m\n",
      "\u001b[0;31mIndexError\u001b[0m: list index out of range"
     ]
    }
   ],
   "source": [
    "from functools import reduce\n",
    "\n",
    "players = [3, 4, 1]\n",
    "size = 3\n",
    "\n",
    "def getSatisfaction(players, size):\n",
    "    print(players)\n",
    "    satisfaction = 0\n",
    "    for idx in range(size):\n",
    "        for jdx in range(idx+1, size):\n",
    "            if players[idx] > players[jdx]: \n",
    "                satisfaction += 1\n",
    "    return satisfaction\n",
    "\n",
    "addVal = -2\n",
    "\n",
    "maxSatisfaction = 0\n",
    "maxStart = -1\n",
    "maxEnd = -1\n",
    "for idx in range(size):\n",
    "    for jdx in range(idx, size):\n",
    "        # print(idx, jdx)\n",
    "        # isNegative = False\n",
    "        # for kdx in range(idx, jdx+1):\n",
    "        #     if (temp[kdx] + addVal) < 0:\n",
    "        #         isNegative = True\n",
    "        #         break\n",
    "        #     temp[kdx]+= addVal\n",
    "        temp = list(map(lambda x: x+addVal, players[idx:jdx+1] ))\n",
    "        filterTemp = reduce(lambda x: x if x < 0, temp)\n",
    "        if len(filterTemp) > 0:\n",
    "            continue\n",
    "        # if isNegative:\n",
    "        #     break        \n",
    "\n",
    "        satisfaction = getSatisfaction(temp, size)\n",
    "        print(idx, jdx, temp, satisfaction)\n",
    "        if  satisfaction >= maxSatisfaction:\n",
    "            maxStart = idx\n",
    "            maxEnd = jdx\n",
    "            maxSatisfaction =satisfaction\n",
    "\n",
    "print(maxStart+1, maxEnd+1)\n",
    "\n",
    "dec = reduce( lambda acc, cur: acc * 2 +int(cur) ,data , 0 )\n"
   ]
  },
  {
   "cell_type": "code",
   "execution_count": 97,
   "metadata": {},
   "outputs": [
    {
     "data": {
      "text/plain": [
       "True"
      ]
     },
     "execution_count": 97,
     "metadata": {},
     "output_type": "execute_result"
    }
   ],
   "source": [
    "from functools import reduce\n",
    "\n",
    "a = [1, 1, 2]\n",
    "comp = 0\n",
    "reduce(lambda x, comp: x > 0, a)"
   ]
  }
 ],
 "metadata": {
  "kernelspec": {
   "display_name": "py3.9.5",
   "language": "python",
   "name": "python3"
  },
  "language_info": {
   "codemirror_mode": {
    "name": "ipython",
    "version": 3
   },
   "file_extension": ".py",
   "mimetype": "text/x-python",
   "name": "python",
   "nbconvert_exporter": "python",
   "pygments_lexer": "ipython3",
   "version": "3.9.5"
  }
 },
 "nbformat": 4,
 "nbformat_minor": 2
}
