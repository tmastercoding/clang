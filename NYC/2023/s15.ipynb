{
 "cells": [
  {
   "cell_type": "code",
   "execution_count": 7,
   "metadata": {},
   "outputs": [],
   "source": [
    "class Road():\n",
    "    def __init__(self, preTown, postTown, getItem, needItemSize, needItem):\n",
    "        self.preTown = int(preTown)\n",
    "        self.postTown = int(postTown)\n",
    "        self.getItem = int(getItem)\n",
    "        self.needItemSize = int(needItemSize)\n",
    "        needItem = list(map(lambda x: int(x), needItem))\n",
    "        self.needItem = needItem\n",
    "    \n",
    "    def printSelf(self):\n",
    "        print(self.preTown, self.postTown, self.getItem, self.needItem)"
   ]
  },
  {
   "cell_type": "code",
   "execution_count": 53,
   "metadata": {},
   "outputs": [
    {
     "name": "stdout",
     "output_type": "stream",
     "text": [
      "1 {1} {1, 5}\n",
      "2 {1, 2} {1, 2, 5}\n",
      "2 {1, 2} {1, 2, 5}\n",
      "2 {1, 2} {1, 2, 5}\n",
      "2 {1, 2} {1, 2, 5}\n",
      "2 {1, 2} {1, 2, 5}\n",
      "2 {1, 2} {1, 2, 5}\n",
      "2 {1, 2} {1, 2, 5}\n",
      "2 {1, 2} {1, 2, 5}\n",
      "1 {1, 2} {1, 2, 5}\n",
      "1 {1, 2} {1, 2, 5}\n",
      "4 {1, 2, 4} {1, 2, 5}\n",
      "4 {1, 2, 4} {1, 2, 5}\n",
      "4 {1, 2, 4} {1, 2, 5}\n",
      "5 {1, 2, 4, 5} {1, 2, 5}\n",
      "6 {1, 2, 4, 5, 6} {1, 2, 5}\n",
      "6 {1, 2, 4, 5, 6} {1, 2, 5}\n",
      "6 {1, 2, 4, 5, 6} {1, 2, 5}\n",
      "6 {1, 2, 4, 5, 6} {1, 2, 5}\n",
      "6 {1, 2, 4, 5, 6} {1, 2, 5}\n",
      "6 {1, 2, 4, 5, 6} {1, 2, 5}\n",
      "6 {1, 2, 4, 5, 6} {1, 2, 5}\n",
      "6 {1, 2, 4, 5, 6} {1, 2, 5}\n",
      "5 {1, 2, 4, 5, 6} {1, 2, 5}\n",
      "5\n"
     ]
    }
   ],
   "source": [
    "# input\n",
    "townSize, roadSize, totItemSize, playerItemSize = (7, 8, 5, 2)\n",
    "text = '5 1'\n",
    "playerItems = set()\n",
    "for num in text.split():\n",
    "    playerItems.add(int(num))\n",
    "\n",
    "text = '''1 2 2 1 1\n",
    "2 3 4 5 2 3 5 1 4\n",
    "1 4 1 2 2 5\n",
    "2 5 3 1 3\n",
    "3 6 4 4 2 1 5 4\n",
    "4 5 5 3 1 2 5\n",
    "5 6 5 1 1\n",
    "7 6 3 5 1 2 3 4 5'''\n",
    "\n",
    "lines = text.split('\\n')\n",
    "roads = []\n",
    "for line in lines:\n",
    "    obj = Road(*(line.split()[0:4]), line.split()[4:])\n",
    "    # obj.printSelf()\n",
    "    roads.append(obj)\n",
    "\n",
    "totItems = list(range(1, totItemSize+1))\n",
    "\n",
    "\n",
    "# problem\n",
    "curTown = 1\n",
    "vistedTowns = {1}\n",
    "\n",
    "\n",
    "preTownCount = 1\n",
    "\n",
    "while True:\n",
    "    for road in roads:\n",
    "        print(curTown, vistedTowns, playerItems)\n",
    "        if road.preTown == curTown:\n",
    "            tempTown = road.postTown\n",
    "        if road.postTown == curTown:\n",
    "            tempTown = road.preTown\n",
    "\n",
    "        if (road.preTown == curTown) or (road.postTown == curTown):\n",
    "            if playerItems.issuperset(road.needItem):\n",
    "                playerItems.add(road.getItem)\n",
    "                vistedTowns.add(tempTown)\n",
    "                curTown = tempTown\n",
    "\n",
    "    if preTownCount == len(vistedTowns):\n",
    "        break\n",
    "    preTownCount = len(vistedTowns)\n",
    "\n",
    "print(preTownCount)"
   ]
  },
  {
   "cell_type": "code",
   "execution_count": 14,
   "metadata": {},
   "outputs": [
    {
     "data": {
      "text/plain": [
       "True"
      ]
     },
     "execution_count": 14,
     "metadata": {},
     "output_type": "execute_result"
    }
   ],
   "source": [
    "# N towns\n",
    "# M roads\n",
    "# K items\n",
    "# start at town 1\n",
    "# \n",
    "\n",
    "post = {1, 2, 3, 4, 5}\n",
    "pre = {1, 2, 3}\n",
    "\n",
    "post.issuperset(pre)"
   ]
  }
 ],
 "metadata": {
  "kernelspec": {
   "display_name": "py3.9.5",
   "language": "python",
   "name": "python3"
  },
  "language_info": {
   "codemirror_mode": {
    "name": "ipython",
    "version": 3
   },
   "file_extension": ".py",
   "mimetype": "text/x-python",
   "name": "python",
   "nbconvert_exporter": "python",
   "pygments_lexer": "ipython3",
   "version": "3.9.5"
  }
 },
 "nbformat": 4,
 "nbformat_minor": 2
}
