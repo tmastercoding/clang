{
 "cells": [
  {
   "cell_type": "code",
   "execution_count": 120,
   "metadata": {},
   "outputs": [
    {
     "name": "stdout",
     "output_type": "stream",
     "text": [
      "5\n",
      "53 16\n",
      "54 -2\n",
      "48 34\n",
      "51 22\n",
      "18 15\n"
     ]
    }
   ],
   "source": [
    "from random import randint\n",
    "def gen_case():\n",
    "    lower = randint(-100, 0)\n",
    "    upper = randint(5, 100)\n",
    "    output = '5\\n'\n",
    "    totList = []\n",
    "    for num in range(lower, upper+1):\n",
    "        totList.append(num)\n",
    "\n",
    "    for idx in range(5):\n",
    "        randX = randint(0, len(totList)-1)\n",
    "        x = totList[randX]\n",
    "        totList.pop(randX)\n",
    "\n",
    "        randY = randint(0, len(totList)-1)\n",
    "        y = totList[randY]\n",
    "        totList.pop(randY)\n",
    "        \n",
    "        output += str(x) + ' ' + str(y)\n",
    "        if idx < 4:\n",
    "            output += '\\n'\n",
    "    \n",
    "    return output\n"
   ]
  },
  {
   "cell_type": "code",
   "execution_count": 1,
   "metadata": {},
   "outputs": [
    {
     "name": "stdout",
     "output_type": "stream",
     "text": [
      "5\n",
      "1 1\n",
      "2 3\n",
      "3 4\n",
      "4 2\n",
      "5 5\n",
      "[[1, 1], [2, 2], [3, 4], [4, 3], [5, 5]]\n",
      "[[1, 1], [2, 2], [3, 3], [4, 4], [5, 5]]\n",
      "[[1, 1], [2, 2], [3, 3], [4, 4], [5, 5]]\n"
     ]
    },
    {
     "data": {
      "text/plain": [
       "2"
      ]
     },
     "execution_count": 1,
     "metadata": {},
     "output_type": "execute_result"
    }
   ],
   "source": [
    "test = '''5\n",
    "1 1\n",
    "2 3\n",
    "3 4\n",
    "4 2\n",
    "5 5'''\n",
    "\n",
    "# test = gen_case()\n",
    "print(test)\n",
    "\n",
    "lines = test.split('\\n')\n",
    "dotSize = int(lines[0])\n",
    "dots = list(map(lambda x: list(map(lambda y: int(y), x.split())),lines[1:]))\n",
    "\n",
    "count = 0\n",
    "\n",
    "low = min(map(lambda x: min(x), dots))\n",
    "high = max(map(lambda x: max(x), dots))\n",
    "\n",
    "while True:\n",
    "    isDone = True\n",
    "    prevX, prevY = (low-1, low-1)\n",
    "    for idx in range(dotSize):\n",
    "        swap = -1\n",
    "        if dots[idx][0] > prevX and dots[idx][1] > prevY:\n",
    "            prevX, prevY = dots[idx][0], dots[idx][1]\n",
    "            # print('success: ', dots)\n",
    "            continue\n",
    "        elif dots[idx][0] > prevX:\n",
    "            swap = 1\n",
    "        else:\n",
    "            swap = 0\n",
    "        \n",
    "        isDone = False\n",
    "        \n",
    "        for jdx in range(dotSize):\n",
    "            if idx == jdx:\n",
    "                continue\n",
    "            \n",
    "            if dots[idx][swap] < dots[jdx][swap]:\n",
    "                # print( dots[idx][swap], dots[jdx][swap])\n",
    "                # print(idx, jdx)\n",
    "                temp = dots[idx][swap]\n",
    "                dots[idx][swap] = dots[jdx][swap]\n",
    "                dots[jdx][swap] = temp\n",
    "                count += 1\n",
    "                break\n",
    "\n",
    "        prevX, prevY = dots[idx][0], dots[idx][1]\n",
    "    print(dots)\n",
    "    if isDone:\n",
    "        break\n",
    "    \n",
    "# print(dots)\n",
    "count"
   ]
  },
  {
   "cell_type": "code",
   "execution_count": 4,
   "metadata": {},
   "outputs": [
    {
     "name": "stdout",
     "output_type": "stream",
     "text": [
      "2\n"
     ]
    }
   ],
   "source": [
    "test = '''5\n",
    "1 1\n",
    "2 3\n",
    "3 4\n",
    "4 2\n",
    "5 5'''\n",
    "\n",
    "# test = gen_case()\n",
    "# print(test)\n",
    "\n",
    "lines = test.split('\\n')\n",
    "dotSize = int(input())\n",
    "dots = []\n",
    "for _ in range(dotSize):\n",
    "    x, y = input().split()\n",
    "    dots.append([int(x), int(y)])\n",
    "\n",
    "count = 0\n",
    "\n",
    "low = min(map(lambda x: min(x), dots))\n",
    "high = max(map(lambda x: max(x), dots))\n",
    "\n",
    "while True:\n",
    "    isDone = True\n",
    "    prevX, prevY = (low-1, low-1)\n",
    "    for idx in range(dotSize):\n",
    "        swap = -1\n",
    "        if dots[idx][0] > prevX and dots[idx][1] > prevY:\n",
    "            prevX, prevY = dots[idx][0], dots[idx][1]\n",
    "            # print('success: ', dots)\n",
    "            continue\n",
    "        elif dots[idx][0] > prevX:\n",
    "            swap = 1\n",
    "        else:\n",
    "            swap = 0\n",
    "        \n",
    "        isDone = False\n",
    "        \n",
    "        for jdx in range(dotSize):\n",
    "            if idx == jdx:\n",
    "                continue\n",
    "            \n",
    "            if dots[idx][swap] < dots[jdx][swap]:\n",
    "                # print( dots[idx][swap], dots[jdx][swap])\n",
    "                # print(idx, jdx)\n",
    "                temp = dots[idx][swap]\n",
    "                dots[idx][swap] = dots[jdx][swap]\n",
    "                dots[jdx][swap] = temp\n",
    "                count += 1\n",
    "                break\n",
    "\n",
    "        prevX, prevY = dots[idx][0], dots[idx][1]\n",
    "    # print(dots)\n",
    "    if isDone:\n",
    "        break\n",
    "    \n",
    "# print(dots)\n",
    "print(count)"
   ]
  },
  {
   "cell_type": "code",
   "execution_count": 209,
   "metadata": {},
   "outputs": [
    {
     "ename": "TypeError",
     "evalue": "unhashable type: 'list'",
     "output_type": "error",
     "traceback": [
      "\u001b[0;31m---------------------------------------------------------------------------\u001b[0m",
      "\u001b[0;31mTypeError\u001b[0m                                 Traceback (most recent call last)",
      "\u001b[0;32m/var/folders/nr/d4ml_tqd4z91nyr3ryvm6xsr0000gn/T/ipykernel_2727/2783299725.py\u001b[0m in \u001b[0;36m<module>\u001b[0;34m\u001b[0m\n\u001b[1;32m     35\u001b[0m             \u001b[0mdots\u001b[0m\u001b[0;34m[\u001b[0m\u001b[0midx\u001b[0m\u001b[0;34m]\u001b[0m\u001b[0;34m[\u001b[0m\u001b[0;36m0\u001b[0m\u001b[0;34m]\u001b[0m \u001b[0;34m=\u001b[0m \u001b[0mtemp\u001b[0m\u001b[0;34m\u001b[0m\u001b[0;34m\u001b[0m\u001b[0m\n\u001b[1;32m     36\u001b[0m             \u001b[0mcnt\u001b[0m \u001b[0;34m+=\u001b[0m \u001b[0;36m1\u001b[0m\u001b[0;34m\u001b[0m\u001b[0;34m\u001b[0m\u001b[0m\n\u001b[0;32m---> 37\u001b[0;31m         \u001b[0mprint\u001b[0m\u001b[0;34m(\u001b[0m\u001b[0mset\u001b[0m\u001b[0;34m(\u001b[0m\u001b[0mdots\u001b[0m\u001b[0;34m)\u001b[0m\u001b[0;34m)\u001b[0m\u001b[0;34m\u001b[0m\u001b[0;34m\u001b[0m\u001b[0m\n\u001b[0m\u001b[1;32m     38\u001b[0m         \u001b[0;32mif\u001b[0m \u001b[0msorted\u001b[0m\u001b[0;34m(\u001b[0m\u001b[0mdots\u001b[0m\u001b[0;34m)\u001b[0m \u001b[0;34m==\u001b[0m \u001b[0mwantDots\u001b[0m\u001b[0;34m:\u001b[0m\u001b[0;34m\u001b[0m\u001b[0;34m\u001b[0m\u001b[0m\n\u001b[1;32m     39\u001b[0m             \u001b[0misDone\u001b[0m \u001b[0;34m=\u001b[0m \u001b[0;32mTrue\u001b[0m\u001b[0;34m\u001b[0m\u001b[0;34m\u001b[0m\u001b[0m\n",
      "\u001b[0;31mTypeError\u001b[0m: unhashable type: 'list'"
     ]
    }
   ],
   "source": [
    "test = '''5\n",
    "1 1\n",
    "2 3\n",
    "3 4\n",
    "4 2\n",
    "5 5'''\n",
    "\n",
    "# test = gen_case()\n",
    "# print(test)\n",
    "\n",
    "lines = test.split('\\n')\n",
    "dotSize = 5\n",
    "dots = []\n",
    "for idx in range(1,dotSize+1):\n",
    "    x, y = lines[idx].split()\n",
    "    dots.append([int(x), int(y)])\n",
    "\n",
    "wantX = sorted(map(lambda dot: dot[0], dots))\n",
    "wantY = sorted(map(lambda dot: dot[1], dots))\n",
    "wantDots = list((zip(wantX, wantY)))\n",
    "for idx in range(dotSize):\n",
    "    wantDots[idx] = list(wantDots[idx])\n",
    "\n",
    "cnt = 0\n",
    "# print(dots)\n",
    "isDone = False\n",
    "while True:\n",
    "    if isDone:\n",
    "        break\n",
    "    for jdx in range(dotSize):\n",
    "        if dots[jdx][1] != wantDots[jdx][1]:\n",
    "            idx = list(map(lambda dot: dot[0], dots)).index(dots[jdx][1])\n",
    "            temp = dots[jdx][0]\n",
    "            dots[jdx][0] = dots[idx][0]\n",
    "            dots[idx][0] = temp\n",
    "            cnt += 1\n",
    "        print(set(dots))\n",
    "        if sorted(dots) == wantDots:\n",
    "            isDone = True\n",
    "            break\n",
    "\n",
    "print(cnt)\n"
   ]
  }
 ],
 "metadata": {
  "kernelspec": {
   "display_name": "py3.9.5",
   "language": "python",
   "name": "python3"
  },
  "language_info": {
   "codemirror_mode": {
    "name": "ipython",
    "version": 3
   },
   "file_extension": ".py",
   "mimetype": "text/x-python",
   "name": "python",
   "nbconvert_exporter": "python",
   "pygments_lexer": "ipython3",
   "version": "3.9.5"
  }
 },
 "nbformat": 4,
 "nbformat_minor": 2
}
