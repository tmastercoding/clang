{
 "cells": [
  {
   "cell_type": "code",
   "execution_count": 9,
   "metadata": {},
   "outputs": [
    {
     "name": "stdout",
     "output_type": "stream",
     "text": [
      "0 )()(()))((\n",
      "2 )())((\n",
      "3 ))((\n",
      "5 )(\n",
      "7 \n",
      "7\n"
     ]
    }
   ],
   "source": [
    "size = 5\n",
    "text = ')()(()))(('\n",
    "\n",
    "# size = int(input())\n",
    "# text = input()\n",
    "\n",
    "cnt = 0\n",
    "\n",
    "print(cnt, text)\n",
    "while text.count('()'):\n",
    "    cnt += text.count('()')\n",
    "    text = text.replace('()', '')\n",
    "    print(cnt, text)\n",
    "\n",
    "\n",
    "while len(text):\n",
    "    cnt += (text.count(')(') * 2)\n",
    "    text = text.replace(')(', '')\n",
    "    print(cnt, text)\n",
    "\n",
    "print(cnt)\n"
   ]
  },
  {
   "cell_type": "code",
   "execution_count": 38,
   "metadata": {},
   "outputs": [
    {
     "name": "stdout",
     "output_type": "stream",
     "text": [
      "2 : [')'] - )\n",
      "2 : [')'] - (\n",
      "4\n"
     ]
    }
   ],
   "source": [
    "\n",
    "# () count += 1\n",
    "# )( count += 2\n",
    "\n",
    "# src = '())()('\n",
    "size = int(input())\n",
    "src = input()\n",
    "\n",
    "# src = list(src)[::-1]\n",
    "swapStack = []\n",
    "count = 0\n",
    "\n",
    "while src.count('()') > 0:\n",
    "    count += src.count('()')\n",
    "    src = src.replace('()', '')\n",
    "\n",
    "for value in src:\n",
    "    if len( swapStack ) != 0:\n",
    "        if swapStack[-1] == '(' and  value == '(':\n",
    "            # print( f'{count} : {swapStack} - {value}')\n",
    "            swapStack.append(value)\n",
    "        elif swapStack[-1] == ')' and  value == '(':\n",
    "            # print( f'{count} : {swapStack} - {value}')\n",
    "            swapStack.pop()\n",
    "            count += 2\n",
    "        elif swapStack[-1] == ')' and  value == ')':\n",
    "            # print( f'{count} : {swapStack} - {value}')\n",
    "            swapStack.append(value)\n",
    "        # else:\n",
    "        #     stack.append(value)\n",
    "        #     print( f'{count} : {stack} - {value}')\n",
    "    else:\n",
    "        swapStack.append(value)\n",
    "        # print( f'{count} : {swapStack} - {value}')\n",
    "\n",
    "print( count )\n"
   ]
  },
  {
   "cell_type": "code",
   "execution_count": null,
   "metadata": {},
   "outputs": [],
   "source": [
    "# () count += 1\n",
    "# )( count += 2\n",
    "\n",
    "src = '())()('\n",
    "\n",
    "size = int(input())\n",
    "src = input()\n",
    "\n",
    "\n",
    "# stack = []\n",
    "count = 0\n",
    "\n",
    "while True:\n",
    "    count += src.count('()')\n",
    "    src = src.replace('()','' )\n",
    "    if len( src ) > 0:\n",
    "        count += src.count(')(')\n",
    "        src = src.replace(')(','()' )\n",
    "    else:\n",
    "        break\n",
    "\n",
    "print( count )\n"
   ]
  },
  {
   "cell_type": "code",
   "execution_count": 41,
   "metadata": {},
   "outputs": [
    {
     "name": "stdout",
     "output_type": "stream",
     "text": [
      "7\n"
     ]
    }
   ],
   "source": [
    "# () count += 1\n",
    "# )( count += 2\n",
    "\n",
    "src = ')()(()))(('\n",
    "\n",
    "# size = int(input())\n",
    "# src = input()\n",
    "\n",
    "# stack = []\n",
    "count = 0\n",
    "add = 0\n",
    "\n",
    "while True:\n",
    "    add = src.count('()')\n",
    "    if add:\n",
    "        count += add\n",
    "        src = src.replace('()','' )\n",
    "    else:\n",
    "        count += src.count(')(')\n",
    "        src = src.replace(')(','()' )\n",
    "\n",
    "    if len( src ) ==  0:\n",
    "        break\n",
    "\n",
    "print( count )\n"
   ]
  },
  {
   "cell_type": "code",
   "execution_count": 221,
   "metadata": {},
   "outputs": [
    {
     "data": {
      "text/plain": [
       "5"
      ]
     },
     "execution_count": 221,
     "metadata": {},
     "output_type": "execute_result"
    }
   ],
   "source": [
    "size = 3\n",
    "text = '()(())(())'\n",
    "# text = ')()(()))(('\n",
    "cnt = 0\n",
    "arr = text.split('()')\n",
    "temp = ''\n",
    "temp = temp.join(arr)\n",
    "cnt += len(arr)-1\n",
    "\n",
    "while True:\n",
    "    arr = temp.split('()')\n",
    "    temp = ''\n",
    "    temp = temp.join(arr)\n",
    "    cnt += len(arr)-1\n",
    "    if not len(temp):\n",
    "        break\n",
    "\n",
    "# arr = text.split(')(')\n",
    "# temp = ''\n",
    "# temp = temp.join(arr)\n",
    "# cnt += len(arr)-1\n",
    "\n",
    "# while True:\n",
    "#     arr = temp.split(')(')\n",
    "#     temp = ''\n",
    "#     temp = temp.join(arr)\n",
    "#     cnt += len(arr)-1\n",
    "#     if not len(temp):\n",
    "#         break\n",
    "\n",
    "cnt"
   ]
  },
  {
   "cell_type": "code",
   "execution_count": 231,
   "metadata": {},
   "outputs": [
    {
     "name": "stdout",
     "output_type": "stream",
     "text": [
      "10\n",
      "9\n",
      "8\n",
      "7\n",
      "6\n",
      "5\n",
      "9\n",
      "17\n",
      "33\n",
      "65\n",
      "129\n",
      "257\n",
      "513\n",
      "1025\n",
      "2049\n",
      "4097\n",
      "8193\n",
      "16385\n",
      "32769\n",
      "65537\n",
      "131073\n",
      "262145\n",
      "524289\n",
      "1048577\n",
      "2097153\n",
      "4194305\n",
      "8388609\n",
      "16777217\n",
      "33554433\n",
      "67108865\n",
      "134217729\n",
      "268435457\n"
     ]
    },
    {
     "ename": "KeyboardInterrupt",
     "evalue": "",
     "output_type": "error",
     "traceback": [
      "\u001b[0;31m---------------------------------------------------------------------------\u001b[0m",
      "\u001b[0;31mKeyboardInterrupt\u001b[0m                         Traceback (most recent call last)",
      "\u001b[0;32m/var/folders/nr/d4ml_tqd4z91nyr3ryvm6xsr0000gn/T/ipykernel_99491/3278866748.py\u001b[0m in \u001b[0;36m<module>\u001b[0;34m\u001b[0m\n\u001b[1;32m      2\u001b[0m \u001b[0;32mwhile\u001b[0m \u001b[0mlen\u001b[0m\u001b[0;34m(\u001b[0m\u001b[0mtext\u001b[0m\u001b[0;34m)\u001b[0m\u001b[0;34m:\u001b[0m\u001b[0;34m\u001b[0m\u001b[0;34m\u001b[0m\u001b[0m\n\u001b[1;32m      3\u001b[0m     \u001b[0mprint\u001b[0m\u001b[0;34m(\u001b[0m\u001b[0mlen\u001b[0m\u001b[0;34m(\u001b[0m\u001b[0mtext\u001b[0m\u001b[0;34m)\u001b[0m\u001b[0;34m)\u001b[0m\u001b[0;34m\u001b[0m\u001b[0;34m\u001b[0m\u001b[0m\n\u001b[0;32m----> 4\u001b[0;31m     \u001b[0midx\u001b[0m \u001b[0;34m=\u001b[0m \u001b[0mtext\u001b[0m\u001b[0;34m.\u001b[0m\u001b[0mfind\u001b[0m\u001b[0;34m(\u001b[0m\u001b[0;34m'()'\u001b[0m\u001b[0;34m)\u001b[0m\u001b[0;34m\u001b[0m\u001b[0;34m\u001b[0m\u001b[0m\n\u001b[0m\u001b[1;32m      5\u001b[0m     \u001b[0mtext\u001b[0m \u001b[0;34m=\u001b[0m \u001b[0mtext\u001b[0m\u001b[0;34m[\u001b[0m\u001b[0;34m:\u001b[0m\u001b[0midx\u001b[0m\u001b[0;34m]\u001b[0m \u001b[0;34m+\u001b[0m \u001b[0mtext\u001b[0m\u001b[0;34m[\u001b[0m\u001b[0midx\u001b[0m\u001b[0;34m+\u001b[0m\u001b[0;36m1\u001b[0m\u001b[0;34m:\u001b[0m\u001b[0;34m]\u001b[0m\u001b[0;34m\u001b[0m\u001b[0;34m\u001b[0m\u001b[0m\n",
      "\u001b[0;31mKeyboardInterrupt\u001b[0m: "
     ]
    }
   ],
   "source": [
    "text = '()(())(())'\n",
    "while len(text):\n",
    "    print(len(text))\n",
    "    idx = text.find('()')\n",
    "    text = text[:idx] + text[idx+1:]"
   ]
  }
 ],
 "metadata": {
  "kernelspec": {
   "display_name": "py3.9.5",
   "language": "python",
   "name": "python3"
  },
  "language_info": {
   "codemirror_mode": {
    "name": "ipython",
    "version": 3
   },
   "file_extension": ".py",
   "mimetype": "text/x-python",
   "name": "python",
   "nbconvert_exporter": "python",
   "pygments_lexer": "ipython3",
   "version": "3.9.5"
  }
 },
 "nbformat": 4,
 "nbformat_minor": 2
}
