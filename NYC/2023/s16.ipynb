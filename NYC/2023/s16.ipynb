{
 "cells": [
  {
   "cell_type": "code",
   "execution_count": 14,
   "metadata": {},
   "outputs": [
    {
     "name": "stdout",
     "output_type": "stream",
     "text": [
      "21\n",
      "2\n",
      "1\n",
      "13\n",
      "0\n"
     ]
    }
   ],
   "source": [
    "size, qSize = (7, 5)\n",
    "text = '2 5 6 5 2 1 7'\n",
    "shops = []\n",
    "for num in text.split():\n",
    "    shops.append(int(num))\n",
    "\n",
    "text = '''1 4 7\n",
    "1 3 4\n",
    "2 3 3\n",
    "4 6 7\n",
    "1 4 6'''\n",
    "queries = []\n",
    "lines = text.split('\\n')\n",
    "for line in lines:\n",
    "    queries.append(list(map(lambda x: int(x), line.split())))\n",
    "\n",
    "# rangeStart, rangeEnd, endShop = queries[0]\n",
    "for rangeStart, rangeEnd, endShop in queries:\n",
    "    maxProfit = 0\n",
    "    for start in range(rangeStart, rangeEnd+1):\n",
    "        profit = 0\n",
    "        for idx in range(start-1, endShop-1):\n",
    "            profit += shops[endShop-1]-shops[idx]\n",
    "        if profit > maxProfit:\n",
    "            maxProfit = profit\n",
    "    print(maxProfit)"
   ]
  }
 ],
 "metadata": {
  "kernelspec": {
   "display_name": "py3.9.5",
   "language": "python",
   "name": "python3"
  },
  "language_info": {
   "codemirror_mode": {
    "name": "ipython",
    "version": 3
   },
   "file_extension": ".py",
   "mimetype": "text/x-python",
   "name": "python",
   "nbconvert_exporter": "python",
   "pygments_lexer": "ipython3",
   "version": "3.9.5"
  }
 },
 "nbformat": 4,
 "nbformat_minor": 2
}
