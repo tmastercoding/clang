{
 "cells": [
  {
   "cell_type": "code",
   "execution_count": 40,
   "metadata": {},
   "outputs": [
    {
     "name": "stdout",
     "output_type": "stream",
     "text": [
      "400\n",
      "dict_values([100, 200, 300, 400])\n",
      "dict_values([100, 200, 300, 400])\n",
      "dict_values([100, 200, 300, 400])\n",
      "0\n"
     ]
    }
   ],
   "source": [
    "size = 4\n",
    "text = '100 200 300 400'\n",
    "\n",
    "size = int(input())\n",
    "text = input()\n",
    "\n",
    "numbers = dict(zip(range(1, size+1), map(lambda x: int(x), text.split())))\n",
    "# print(numbers)\n",
    "# numbers = list(map(lambda x: int(x), text.split()))\n",
    "\n",
    "prev = dict(numbers)\n",
    "\n",
    "callCount = 0\n",
    "\n",
    "while True:\n",
    "    cnt = size+1\n",
    "    comp = numbers[size]\n",
    "    # print(comp)\n",
    "    for idx in range(1, size):\n",
    "        if numbers[idx] > comp:\n",
    "            temp = numbers[idx]\n",
    "            numbers.pop(idx)\n",
    "            numbers.update({cnt: temp})\n",
    "            cnt+=1\n",
    "        # print(numbers.values())\n",
    "    numbers = dict(zip(range(1, size+1), (numbers.values())))\n",
    "    if prev == numbers:\n",
    "        break\n",
    "    callCount+=1\n",
    "    prev = dict(numbers)\n",
    "\n",
    "print(callCount)"
   ]
  }
 ],
 "metadata": {
  "kernelspec": {
   "display_name": "py3.9.5",
   "language": "python",
   "name": "python3"
  },
  "language_info": {
   "codemirror_mode": {
    "name": "ipython",
    "version": 3
   },
   "file_extension": ".py",
   "mimetype": "text/x-python",
   "name": "python",
   "nbconvert_exporter": "python",
   "pygments_lexer": "ipython3",
   "version": "3.9.5"
  }
 },
 "nbformat": 4,
 "nbformat_minor": 2
}
