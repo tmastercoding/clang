{
 "cells": [
  {
   "cell_type": "code",
   "execution_count": 48,
   "metadata": {},
   "outputs": [],
   "source": [
    "test = '''10\n",
    "10 2 9 3 8 4 7 5 6 1'''\n",
    "\n",
    "lines = test.split('\\n')\n",
    "size = int(lines[0])\n",
    "numbers = list(map(lambda x: int(x), lines[1].split()))"
   ]
  },
  {
   "cell_type": "code",
   "execution_count": null,
   "metadata": {},
   "outputs": [],
   "source": [
    "size = int(input())\n",
    "numbers = list(map(lambda x: int(x), input().split()))"
   ]
  },
  {
   "cell_type": "code",
   "execution_count": 39,
   "metadata": {},
   "outputs": [
    {
     "name": "stdout",
     "output_type": "stream",
     "text": [
      "3\n"
     ]
    }
   ],
   "source": [
    "def getComb(totList, size, curSize):\n",
    "    output = []\n",
    "    for idx in range(size-curSize):\n",
    "        output.append(totList[idx: idx+curSize+1])\n",
    "    return output\n",
    "\n",
    "# def isAscending(comb, size):\n",
    "#     prev = comb[0]\n",
    "#     for idx in range(1, size):\n",
    "#         if prev > comb[idx]:\n",
    "#             return False\n",
    "#         prev = comb[idx]\n",
    "#     return True\n",
    "\n",
    "# def isDescending(comb, size):\n",
    "#     prev = comb[0]\n",
    "#     for idx in range(1, size):\n",
    "#         if prev < comb[idx]:\n",
    "#             return False\n",
    "#         prev = comb[idx]\n",
    "#     return True\n",
    "\n",
    "curSize = size\n",
    "isFound = False\n",
    "while curSize > 0:\n",
    "    for comb in getComb(numbers, size, curSize):\n",
    "        odd = comb[::2]\n",
    "        even = comb[1::2]\n",
    "        if isAscending(odd, len(odd)) and isDescending(even, len(even)):\n",
    "            isFound = True\n",
    "            break\n",
    "    if isFound:\n",
    "        break\n",
    "    curSize -= 1\n",
    "\n",
    "print(curSize+1)\n",
    "    "
   ]
  },
  {
   "cell_type": "code",
   "execution_count": 42,
   "metadata": {},
   "outputs": [
    {
     "name": "stdout",
     "output_type": "stream",
     "text": [
      "3\n"
     ]
    }
   ],
   "source": [
    "def getComb(totList, size, curSize):\n",
    "    output = []\n",
    "    for idx in range(size-curSize):\n",
    "        output.append(totList[idx: idx+curSize+1])\n",
    "    return output\n",
    "\n",
    "# def isAscending(comb):\n",
    "#     if comb == sorted(comb):\n",
    "#         return True\n",
    "#     else:\n",
    "#         return False\n",
    "\n",
    "# def isDescending(comb):\n",
    "#     if comb == sorted(comb, reverse = True):\n",
    "#         return True\n",
    "#     else:\n",
    "#         return False\n",
    "    \n",
    "curSize = size\n",
    "isFound = False\n",
    "while curSize > 0:\n",
    "    for comb in getComb(numbers, size, curSize):\n",
    "        odd = comb[::2]\n",
    "        even = comb[1::2]\n",
    "        if (sorted(comb[::2]) == comb[::2]) and (sorted(comb[1::2], reverse = True) == comb[1::2]):\n",
    "            isFound = True\n",
    "            break\n",
    "    if isFound:\n",
    "        break\n",
    "    curSize -= 1\n",
    "\n",
    "print(curSize+1)\n",
    "    "
   ]
  },
  {
   "cell_type": "code",
   "execution_count": 74,
   "metadata": {},
   "outputs": [
    {
     "name": "stdout",
     "output_type": "stream",
     "text": [
      "3\n"
     ]
    }
   ],
   "source": [
    "test = '''4\n",
    "1 2 3 4'''\n",
    "\n",
    "lines = test.split('\\n')\n",
    "size = int(lines[0])\n",
    "numbers = list(map(lambda x: int(x), lines[1].split()))\n",
    "\n",
    "while True:    \n",
    "    odd = numbers[0]\n",
    "    even = numbers[1]\n",
    "    count = 1\n",
    "    # print('odd', odd)\n",
    "    for idx in range(2, len(numbers)):\n",
    "        # print(numbers[idx], end =' ')\n",
    "        if (idx+1) & 1:\n",
    "            if odd > numbers[idx]:\n",
    "                break\n",
    "            else:\n",
    "                odd = numbers[idx]\n",
    "                \n",
    "                count += 1\n",
    "        else:\n",
    "            if even < numbers[idx]:\n",
    "                break\n",
    "            else:\n",
    "                even = numbers[idx]\n",
    "            \n",
    "            \n",
    "    if count > 1:\n",
    "        print(count+1)\n",
    "        break\n",
    "\n",
    "    numbers.remove(numbers[0])\n",
    "    numbers.remove(numbers[1])"
   ]
  },
  {
   "cell_type": "code",
   "execution_count": 44,
   "metadata": {},
   "outputs": [
    {
     "data": {
      "text/plain": [
       "1"
      ]
     },
     "execution_count": 44,
     "metadata": {},
     "output_type": "execute_result"
    }
   ],
   "source": [
    "1 & 1"
   ]
  }
 ],
 "metadata": {
  "kernelspec": {
   "display_name": "py3.9.5",
   "language": "python",
   "name": "python3"
  },
  "language_info": {
   "codemirror_mode": {
    "name": "ipython",
    "version": 3
   },
   "file_extension": ".py",
   "mimetype": "text/x-python",
   "name": "python",
   "nbconvert_exporter": "python",
   "pygments_lexer": "ipython3",
   "version": "3.9.5"
  }
 },
 "nbformat": 4,
 "nbformat_minor": 2
}
