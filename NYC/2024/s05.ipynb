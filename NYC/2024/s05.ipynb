{
 "cells": [
  {
   "cell_type": "code",
   "execution_count": 132,
   "metadata": {},
   "outputs": [],
   "source": [
    "test = '''4\n",
    "1 3 3 1'''\n",
    "lines = test.split('\\n')\n",
    "size = int(lines[0])\n",
    "people = list(map(lambda x: int(x), lines[1].split()))"
   ]
  },
  {
   "cell_type": "code",
   "execution_count": 123,
   "metadata": {},
   "outputs": [
    {
     "ename": "ValueError",
     "evalue": "invalid literal for int() with base 10: ''",
     "output_type": "error",
     "traceback": [
      "\u001b[0;31m---------------------------------------------------------------------------\u001b[0m",
      "\u001b[0;31mValueError\u001b[0m                                Traceback (most recent call last)",
      "\u001b[0;32m/var/folders/nr/d4ml_tqd4z91nyr3ryvm6xsr0000gn/T/ipykernel_52249/375261100.py\u001b[0m in \u001b[0;36m<module>\u001b[0;34m\u001b[0m\n\u001b[0;32m----> 1\u001b[0;31m \u001b[0msize\u001b[0m \u001b[0;34m=\u001b[0m \u001b[0mint\u001b[0m\u001b[0;34m(\u001b[0m\u001b[0minput\u001b[0m\u001b[0;34m(\u001b[0m\u001b[0;34m)\u001b[0m\u001b[0;34m)\u001b[0m\u001b[0;34m\u001b[0m\u001b[0;34m\u001b[0m\u001b[0m\n\u001b[0m\u001b[1;32m      2\u001b[0m \u001b[0mtemp\u001b[0m \u001b[0;34m=\u001b[0m \u001b[0minput\u001b[0m\u001b[0;34m(\u001b[0m\u001b[0;34m)\u001b[0m\u001b[0;34m\u001b[0m\u001b[0;34m\u001b[0m\u001b[0m\n\u001b[1;32m      3\u001b[0m \u001b[0mpeople\u001b[0m \u001b[0;34m=\u001b[0m \u001b[0mlist\u001b[0m\u001b[0;34m(\u001b[0m\u001b[0mmap\u001b[0m\u001b[0;34m(\u001b[0m\u001b[0;32mlambda\u001b[0m \u001b[0mx\u001b[0m\u001b[0;34m:\u001b[0m \u001b[0mint\u001b[0m\u001b[0;34m(\u001b[0m\u001b[0mx\u001b[0m\u001b[0;34m)\u001b[0m\u001b[0;34m,\u001b[0m \u001b[0mtemp\u001b[0m\u001b[0;34m.\u001b[0m\u001b[0msplit\u001b[0m\u001b[0;34m(\u001b[0m\u001b[0;34m)\u001b[0m\u001b[0;34m)\u001b[0m\u001b[0;34m)\u001b[0m\u001b[0;34m\u001b[0m\u001b[0;34m\u001b[0m\u001b[0m\n",
      "\u001b[0;31mValueError\u001b[0m: invalid literal for int() with base 10: ''"
     ]
    }
   ],
   "source": [
    "size = int(input())\n",
    "temp = input()\n",
    "people = list(map(lambda x: int(x), temp.split()))"
   ]
  },
  {
   "cell_type": "code",
   "execution_count": null,
   "metadata": {},
   "outputs": [
    {
     "name": "stdout",
     "output_type": "stream",
     "text": [
      "5\n"
     ]
    }
   ],
   "source": [
    "time = 0\n",
    "isSkip = False\n",
    "for idx in range(size):\n",
    "    if isSkip:\n",
    "        isSkip = False\n",
    "        continue\n",
    "    if idx != size-1:\n",
    "        if people[idx] == people[idx+1]:\n",
    "            time += people[idx]\n",
    "            isSkip = True\n",
    "            continue\n",
    "        if abs(people[idx] - people[idx+1]) < 2:\n",
    "            time += max(people[idx], people[idx+1])\n",
    "            isSkip = True\n",
    "        else:\n",
    "            time += people[idx]\n",
    "    else:\n",
    "        time += people[idx]\n",
    "print(time)\n"
   ]
  },
  {
   "cell_type": "code",
   "execution_count": 135,
   "metadata": {},
   "outputs": [],
   "source": [
    "test = '''4\n",
    "1 3 3 1'''\n",
    "lines = test.split('\\n')\n",
    "size = int(lines[0])\n",
    "people = list(map(lambda x: int(x), lines[1].split()))"
   ]
  },
  {
   "cell_type": "code",
   "execution_count": 138,
   "metadata": {},
   "outputs": [
    {
     "name": "stdout",
     "output_type": "stream",
     "text": [
      "5\n"
     ]
    }
   ],
   "source": [
    "time = 0\n",
    "isSkip = 0\n",
    "for idx in range(size):\n",
    "    if isSkip > 0:\n",
    "        isSkip -=1\n",
    "        continue\n",
    "    if idx < size-3:\n",
    "        case1 = max(people[idx:idx+2]) + max(people[idx+2: idx+4])\n",
    "        case2 = people[idx] + max(people[idx+1:idx+3]) + people[idx+3]\n",
    "        case3 = people[idx] + people[idx+1] + max(people[idx+2: idx+4])\n",
    "        case4 = people[idx] + people[idx+1] + people[idx+2] + people[idx+3]\n",
    "        minimum = min(case1, case2, case3, case4)\n",
    "        isSkip = 3\n",
    "        # print(case1)\n",
    "    elif idx < size-2:\n",
    "        case1 = max(people[idx:idx+2]) + people[idx+2]\n",
    "        case2 = people[idx] + max(people[idx+1:idx+3])\n",
    "        case3 = people[idx] + people[idx+1] + people[idx+2]\n",
    "        minimum = min(case1, case2, case3)\n",
    "        isSkip = 2\n",
    "    elif idx < size-1:\n",
    "        case1 = max(people[idx:idx+2])\n",
    "        case2 = people[idx] + people[idx+1]\n",
    "        minimum = min(case1, case2)\n",
    "        isSkip = 1\n",
    "    else:\n",
    "        time += people[idx]\n",
    "        break\n",
    "    \n",
    "    time += minimum\n",
    "    \n",
    "    \n",
    "print(time)"
   ]
  }
 ],
 "metadata": {
  "kernelspec": {
   "display_name": "py3.9.5",
   "language": "python",
   "name": "python3"
  },
  "language_info": {
   "codemirror_mode": {
    "name": "ipython",
    "version": 3
   },
   "file_extension": ".py",
   "mimetype": "text/x-python",
   "name": "python",
   "nbconvert_exporter": "python",
   "pygments_lexer": "ipython3",
   "version": "3.9.5"
  }
 },
 "nbformat": 4,
 "nbformat_minor": 2
}
