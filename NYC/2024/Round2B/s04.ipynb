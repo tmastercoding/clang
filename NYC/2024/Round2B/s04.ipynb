{
 "cells": [
  {
   "cell_type": "code",
   "execution_count": 15,
   "metadata": {},
   "outputs": [
    {
     "data": {
      "text/plain": [
       "[[3, 'h', 1, 4],\n",
       " [3, 'e', 1, 4],\n",
       " [2, 'h', 1, 3],\n",
       " [3, 'g', 2, 4],\n",
       " [2, 'e', 2, 3]]"
      ]
     },
     "execution_count": 15,
     "metadata": {},
     "output_type": "execute_result"
    }
   ],
   "source": [
    "size = 4\n",
    "qSize = 5\n",
    "text = 'eghg'\n",
    "seats = list(text)\n",
    "text = '''3 h 1 4\n",
    "3 e 1 4\n",
    "2 h 1 3\n",
    "3 g 2 4\n",
    "2 e 2 3'''\n",
    "\n",
    "lines = text.split('\\n')\n",
    "queries = []\n",
    "for line in lines:\n",
    "    data = line.split()\n",
    "    data[0] = int(data[0])\n",
    "    data[2] = int(data[2])\n",
    "    data[3] = int(data[3])\n",
    "    queries.append(data)\n",
    "\n",
    "queries"
   ]
  },
  {
   "cell_type": "code",
   "execution_count": 28,
   "metadata": {},
   "outputs": [
    {
     "name": "stdout",
     "output_type": "stream",
     "text": [
      "1\n",
      "2\n",
      "0\n",
      "0\n",
      "1\n"
     ]
    }
   ],
   "source": [
    "size = 4\n",
    "qSize = 5\n",
    "text = 'eghg'\n",
    "seats = list(text)\n",
    "text = '''3 h 1 4\n",
    "3 e 1 4\n",
    "2 h 1 3\n",
    "3 g 2 4\n",
    "2 e 2 3'''\n",
    "\n",
    "lines = text.split('\\n')\n",
    "queries = []\n",
    "for line in lines:\n",
    "    data = line.split()\n",
    "    data[0] = int(data[0])\n",
    "    data[2] = int(data[2])\n",
    "    data[3] = int(data[3])\n",
    "    queries.append(data)\n",
    "\n",
    "from itertools import combinations\n",
    "for swapPos, swapRace, start, end in queries:\n",
    "    seats[swapPos-1] = swapRace\n",
    "    newSeat = seats[start-1:end]\n",
    "    # print(newSeat)\n",
    "    count = 0\n",
    "    length = len(newSeat)\n",
    "    prev = newSeat[0]\n",
    "    isWork = False\n",
    "    for i in range(length+1):\n",
    "        # isWork = False\n",
    "        if isWork:\n",
    "            break\n",
    "        isWork = False\n",
    "        for comb in combinations(range(length), i):\n",
    "            \n",
    "            temp = list(newSeat)\n",
    "            for num in comb:\n",
    "                temp[num] = 0\n",
    "            # print(temp)\n",
    "            for idx in range(0,length):\n",
    "                if temp[idx] != 0:\n",
    "                    prev = temp[idx]\n",
    "                    break\n",
    "            # print(idx)\n",
    "            \n",
    "            isWork = True\n",
    "            for jdx in range(idx+1,length):\n",
    "                if temp[jdx] == 0:\n",
    "                    continue\n",
    "                if prev == 'e' and temp[jdx] == 'g':\n",
    "                    isWork = False\n",
    "                    break\n",
    "                if prev == 'g' and temp[jdx] == 'e':\n",
    "                    isWork = False\n",
    "                prev = newSeat[idx]\n",
    "            if(isWork):\n",
    "                print(i)\n",
    "                break\n",
    "                \n",
    "    # print(count)"
   ]
  },
  {
   "cell_type": "code",
   "execution_count": 17,
   "metadata": {},
   "outputs": [
    {
     "name": "stdout",
     "output_type": "stream",
     "text": [
      "1\n",
      "2\n",
      "0\n",
      "0\n",
      "1\n"
     ]
    }
   ],
   "source": [
    "text = input()\n",
    "data = text.split()\n",
    "size, qSize = int(data[0]), int(data[1])\n",
    "\n",
    "text = input()\n",
    "seats = list(text)\n",
    "# text = '''3 h 1 4\n",
    "# 3 e 1 4\n",
    "# 2 h 1 3\n",
    "# 3 g 2 4\n",
    "# 2 e 2 3'''\n",
    "\n",
    "# lines = text.split('\\n')\n",
    "queries = []\n",
    "for _ in range(qSize):\n",
    "    line = input()\n",
    "    data = line.split()\n",
    "    data[0] = int(data[0])\n",
    "    data[2] = int(data[2])\n",
    "    data[3] = int(data[3])\n",
    "    queries.append(data)\n",
    "\n",
    "for swapPos, swapRace, start, end in queries:\n",
    "    seats[swapPos-1] = swapRace\n",
    "    newSeat = seats[start-1:end]\n",
    "    # print(newSeat)\n",
    "    count = 0\n",
    "    length = len(newSeat)\n",
    "    prev = newSeat[0]\n",
    "    if length > 1:\n",
    "        for idx in range(1,length):\n",
    "            if prev == 'e' and newSeat[idx] == 'g':\n",
    "                count += 1\n",
    "                continue\n",
    "            if prev == 'g' and newSeat[idx] == 'e':\n",
    "                count += 1\n",
    "                continue\n",
    "            prev = newSeat[idx]\n",
    "    print(count)"
   ]
  },
  {
   "cell_type": "code",
   "execution_count": 16,
   "metadata": {},
   "outputs": [
    {
     "name": "stdout",
     "output_type": "stream",
     "text": [
      "1\n",
      "2\n",
      "0\n",
      "0\n",
      "1\n"
     ]
    }
   ],
   "source": [
    "for swapPos, swapRace, start, end in queries:\n",
    "    seats[swapPos-1] = swapRace\n",
    "    newSeat = seats[start-1:end]\n",
    "    # print(newSeat)\n",
    "    count = 0\n",
    "    length = len(newSeat)\n",
    "    prev = newSeat[0]\n",
    "    if length > 1:\n",
    "        for idx in range(1,length):\n",
    "            if prev == 'e' and newSeat[idx] == 'g':\n",
    "                count += 1\n",
    "                continue\n",
    "            if prev == 'g' and newSeat[idx] == 'e':\n",
    "                count += 1\n",
    "                continue\n",
    "            prev = newSeat[idx]\n",
    "    print(count)"
   ]
  }
 ],
 "metadata": {
  "kernelspec": {
   "display_name": "py3.9.5",
   "language": "python",
   "name": "python3"
  },
  "language_info": {
   "codemirror_mode": {
    "name": "ipython",
    "version": 3
   },
   "file_extension": ".py",
   "mimetype": "text/x-python",
   "name": "python",
   "nbconvert_exporter": "python",
   "pygments_lexer": "ipython3",
   "version": "3.9.5"
  }
 },
 "nbformat": 4,
 "nbformat_minor": 2
}
