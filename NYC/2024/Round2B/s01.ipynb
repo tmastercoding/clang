{
 "cells": [
  {
   "cell_type": "code",
   "execution_count": 227,
   "metadata": {},
   "outputs": [
    {
     "name": "stdout",
     "output_type": "stream",
     "text": [
      "[1, 2, 3, 4]\n",
      "7\n",
      "7\n"
     ]
    }
   ],
   "source": [
    "size = 4\n",
    "values = '2 1 5 5'\n",
    "values = values.split()\n",
    "arr = list(map(lambda x: int(x), values))\n",
    "r_arr = reversed(list(map(lambda x: int(x), values)))\n",
    "r_arr = arr[::-1]\n",
    "\n",
    "seta = set(range( 1, size+1 ))\n",
    "positions = list(range( 1, size+1 ))\n",
    "tot_idx = sum(positions)\n",
    "print( positions)\n",
    "\n",
    "for idx, n in enumerate(r_arr):\n",
    "    if n in seta:\n",
    "        seta.discard(n)\n",
    "        tot_idx -= size-idx\n",
    "        positions.pop(size-1-idx)\n",
    "\n",
    "print(tot_idx)\n",
    "print( sum(positions))"
   ]
  },
  {
   "cell_type": "code",
   "execution_count": 217,
   "metadata": {},
   "outputs": [
    {
     "name": "stdout",
     "output_type": "stream",
     "text": [
      "7\n"
     ]
    }
   ],
   "source": [
    "size = 4\n",
    "text = '2 1 5 5'\n",
    "data = text.split()\n",
    "arr = list(map(lambda x: int(x), data))\n",
    "\n",
    "def getIndexSum( size, arr ):\n",
    "    r_arr = reversed(arr)\n",
    "\n",
    "    seta = set(range( 1, size+1 ))\n",
    "\n",
    "    for n in r_arr:\n",
    "        seta.discard(n)\n",
    "\n",
    "    print(sum(seta))\n",
    "\n",
    "getIndexSum( size, arr )"
   ]
  },
  {
   "cell_type": "code",
   "execution_count": 216,
   "metadata": {},
   "outputs": [
    {
     "name": "stdout",
     "output_type": "stream",
     "text": [
      "10\n"
     ]
    }
   ],
   "source": [
    "size = 5\n",
    "text = '5 5 5 5 5'\n",
    "data = text.split()\n",
    "arr = list(map(lambda x: int(x), data))\n",
    "\n",
    "r_arr = reversed(arr)\n",
    "\n",
    "seta = set(range( 1, size+1 ))\n",
    "\n",
    "for n in r_arr:\n",
    "    seta.discard(n)\n",
    "\n",
    "print(sum(seta))"
   ]
  },
  {
   "cell_type": "code",
   "execution_count": 224,
   "metadata": {},
   "outputs": [],
   "source": [
    "size = 4\n",
    "text = '2 1 5 5'\n",
    "data = text.split()\n",
    "arr = list(map(lambda x: int(x), data))\n",
    "\n",
    "def getCost():\n",
    "    realRange = list(range(1, size+1))\n",
    "    pos = list(range(1, size+1))\n",
    "\n",
    "    print( f'arr : {arr}')\n",
    "    print( f'realRange : {realRange}')\n",
    "    print( f'pos : {pos}')\n",
    "\n",
    "    print( '-- begin --' )\n",
    "    for idx in range(size-1, -1, -1):\n",
    "\n",
    "        try:\n",
    "            realRange.remove(arr[idx])\n",
    "            pos.remove(idx+1)\n",
    "\n",
    "        except:\n",
    "            pass\n",
    "\n",
    "        print( idx, ':', arr[idx], idx+1 )\n",
    "        print( f'realRange : {realRange}')\n",
    "        print( f'pos : {pos}')\n",
    "\n",
    "        # if arr[idx] in realRange:\n",
    "    print( '-- end --' )\n",
    "\n",
    "    print(sum(pos))"
   ]
  },
  {
   "cell_type": "code",
   "execution_count": null,
   "metadata": {},
   "outputs": [],
   "source": [
    "size = 4\n",
    "text = '2 1 5 5'\n",
    "data = text.split()\n",
    "arr = list(map(lambda x: int(x), data))\n",
    "\n",
    "realRange = list(range(1, size+1))\n",
    "pos = list(range(1, size+1))\n",
    "\n",
    "for idx in range(size-1, -1, -1):\n",
    "\n",
    "    if n in \n",
    "        realRange.remove(arr[idx])\n",
    "        pos.remove(idx+1)\n",
    "\n",
    "\n",
    "    print( idx, ':', arr[idx], idx+1 )\n",
    "    print( f'realRange : {realRange}')\n",
    "    print( f'pos : {pos}')\n",
    "\n",
    "    # if arr[idx] in realRange:\n",
    "print( '-- end --' )\n",
    "\n",
    "print(sum(pos))"
   ]
  },
  {
   "cell_type": "code",
   "execution_count": 226,
   "metadata": {},
   "outputs": [
    {
     "name": "stdout",
     "output_type": "stream",
     "text": [
      "7\n"
     ]
    }
   ],
   "source": [
    "size = 4\n",
    "values = '2 1 5 5'\n",
    "values = values.split()\n",
    "arr = list(map(lambda x: int(x), values))\n",
    "r_arr = reversed(list(map(lambda x: int(x), values)))\n",
    "\n",
    "seta = set(range( 1, size+1 ))\n",
    "positions = list(range( 1, size+1 ))\n",
    "# print( positions)\n",
    "\n",
    "for idx, n in enumerate(r_arr):\n",
    "    if n in seta:\n",
    "        seta.discard(n)\n",
    "        if size-idx < len(positions):\n",
    "            positions.pop(size-1-idx)\n",
    "\n",
    "print( sum(positions))"
   ]
  },
  {
   "cell_type": "code",
   "execution_count": 221,
   "metadata": {},
   "outputs": [
    {
     "name": "stdout",
     "output_type": "stream",
     "text": [
      "arr : [2, 1, 5, 5]\n",
      "realRange : [1, 2, 3, 4]\n",
      "pos : [1, 2, 3, 4]\n",
      "-- begin --\n",
      "3 : 5 4\n",
      "realRange : [1, 2, 3, 4]\n",
      "pos : [1, 2, 3, 4]\n",
      "2 : 5 3\n",
      "realRange : [1, 2, 3, 4]\n",
      "pos : [1, 2, 3, 4]\n",
      "1 : 1 2\n",
      "realRange : [2, 3, 4]\n",
      "pos : [1, 3, 4]\n",
      "0 : 2 1\n",
      "realRange : [3, 4]\n",
      "pos : [3, 4]\n",
      "-- end --\n",
      "7\n"
     ]
    }
   ],
   "source": [
    "\n",
    "realRange = list(range(1, size+1))\n",
    "pos = list(range(1, size+1))\n",
    "\n",
    "print( f'arr : {arr}')\n",
    "print( f'realRange : {realRange}')\n",
    "print( f'pos : {pos}')\n",
    "\n",
    "print( '-- begin --' )\n",
    "for idx in range(size-1, -1, -1):\n",
    "\n",
    "    if arr[idx] in realRange:\n",
    "        realRange.remove(arr[idx])\n",
    "        pos.remove(idx+1)\n",
    "\n",
    "\n",
    "    print( idx, ':', arr[idx], idx+1 )\n",
    "    print( f'realRange : {realRange}')\n",
    "    print( f'pos : {pos}')\n",
    "\n",
    "    # if arr[idx] in realRange:\n",
    "print( '-- end --' )\n",
    "print(sum(pos))\n"
   ]
  },
  {
   "cell_type": "code",
   "execution_count": 190,
   "metadata": {},
   "outputs": [
    {
     "name": "stdout",
     "output_type": "stream",
     "text": [
      "[0, 0, 0, 0]\n",
      "[1, 2, 3, 4]\n",
      "[2, 1, 5, 5]\n",
      "[-1, -1, 0, 0]\n",
      "tot : 7\n"
     ]
    }
   ],
   "source": [
    "logList = [0] * size\n",
    "target = list(range(1, size+1))\n",
    "\n",
    "print( logList )\n",
    "print( target )\n",
    "print( arr )\n",
    "\n",
    "for num in arr:\n",
    "    if num in target:\n",
    "        if arr.count(num) == 1:\n",
    "            logList[num-1] = -1\n",
    "\n",
    "print( logList )\n",
    "tot = 0\n",
    "for idx, num in enumerate(logList):\n",
    "    if num == 0:\n",
    "        tot += (idx+1)\n",
    "\n",
    "print( f'tot : {tot}')"
   ]
  },
  {
   "cell_type": "code",
   "execution_count": 201,
   "metadata": {},
   "outputs": [
    {
     "name": "stdout",
     "output_type": "stream",
     "text": [
      "[0, 0, 0, 0, 0]\n",
      "[7, 2, 3, 5, 3]\n",
      "[0, 2, 3, 0, 5]\n",
      "tot : 5\n"
     ]
    }
   ],
   "source": [
    "size = 5\n",
    "text = '7 2 3 5 3'\n",
    "data = text.split()\n",
    "arr = list(map(lambda x: int(x), data))\n",
    "logList = [0] * size\n",
    "\n",
    "print( logList )\n",
    "print( arr )\n",
    "\n",
    "for num in arr:\n",
    "    if num <= size and num not in logList:\n",
    "        logList[num-1] = num\n",
    "\n",
    "print( logList )\n",
    "\n",
    "tot = 0\n",
    "for idx, num in enumerate(logList):\n",
    "    if num == 0:\n",
    "        tot += (idx+1)\n",
    "\n",
    "print( f'tot : {tot}' )"
   ]
  },
  {
   "cell_type": "code",
   "execution_count": 202,
   "metadata": {},
   "outputs": [
    {
     "name": "stdout",
     "output_type": "stream",
     "text": [
      "[0, 0, 0, 0, 0]\n",
      "[4, 2, 1, 5, 5]\n",
      "<list_reverseiterator object at 0x103306640>\n",
      "[1, 2, 0, 4, 5]\n",
      "tot : 3\n"
     ]
    }
   ],
   "source": [
    "size = 5\n",
    "text = '4 2 1 5 5'\n",
    "data = text.split()\n",
    "arr = list(map(lambda x: int(x), data))\n",
    "r_arr = reversed(arr)\n",
    "logList = [0] * size\n",
    "\n",
    "print( logList )\n",
    "print( arr )\n",
    "print( r_arr )\n",
    "\n",
    "for num in r_arr:\n",
    "    if num <= size and num not in logList:\n",
    "        logList[num-1] = num\n",
    "\n",
    "print( logList )\n",
    "\n",
    "tot = 0\n",
    "for idx, num in enumerate(logList):\n",
    "    if num == 0:\n",
    "        tot += (idx+1)\n",
    "\n",
    "print( f'tot : {tot}' )\n"
   ]
  },
  {
   "cell_type": "code",
   "execution_count": 174,
   "metadata": {},
   "outputs": [
    {
     "name": "stdout",
     "output_type": "stream",
     "text": [
      "[0, 0, 0, 0]\n",
      "[2, 1, 5, 5]\n",
      "tot : 7\n"
     ]
    }
   ],
   "source": [
    "logList = [0] * size\n",
    "\n",
    "print( logList )\n",
    "print( arr )\n",
    "\n",
    "for num in arr:\n",
    "    if num <= size:\n",
    "        logList[num-1] = -1\n",
    "\n",
    "tot = 0\n",
    "for idx, num in enumerate(logList):\n",
    "    if num == 0:\n",
    "        tot += (idx+1)\n",
    "\n",
    "print( f'tot : {tot}')"
   ]
  },
  {
   "cell_type": "code",
   "execution_count": 155,
   "metadata": {},
   "outputs": [
    {
     "name": "stdout",
     "output_type": "stream",
     "text": [
      "7\n"
     ]
    }
   ],
   "source": [
    "realRange = list(range(1, size+1))\n",
    "pos = list(range(1, size+1))\n",
    "for idx in range(size-1, -1, -1):\n",
    "    if arr[idx] in realRange:\n",
    "        realRange.remove(arr[idx])\n",
    "        pos.remove(idx+1)\n",
    "\n",
    "print(sum(pos))"
   ]
  },
  {
   "cell_type": "code",
   "execution_count": 99,
   "metadata": {},
   "outputs": [
    {
     "data": {
      "text/plain": [
       "{3, 4}"
      ]
     },
     "execution_count": 99,
     "metadata": {},
     "output_type": "execute_result"
    }
   ],
   "source": [
    "realRange = range(1, size+1)\n",
    "set(realRange) - setArr"
   ]
  },
  {
   "cell_type": "code",
   "execution_count": 156,
   "metadata": {},
   "outputs": [
    {
     "ename": "TypeError",
     "evalue": "'set' object is not subscriptable",
     "output_type": "error",
     "traceback": [
      "\u001b[0;31m---------------------------------------------------------------------------\u001b[0m",
      "\u001b[0;31mTypeError\u001b[0m                                 Traceback (most recent call last)",
      "\u001b[0;32m/var/folders/nr/d4ml_tqd4z91nyr3ryvm6xsr0000gn/T/ipykernel_12321/1080233948.py\u001b[0m in \u001b[0;36m<module>\u001b[0;34m\u001b[0m\n\u001b[1;32m      2\u001b[0m \u001b[0mcost\u001b[0m \u001b[0;34m=\u001b[0m \u001b[0;36m0\u001b[0m\u001b[0;34m\u001b[0m\u001b[0;34m\u001b[0m\u001b[0m\n\u001b[1;32m      3\u001b[0m \u001b[0;32mfor\u001b[0m \u001b[0midx\u001b[0m \u001b[0;32min\u001b[0m \u001b[0mindexes\u001b[0m\u001b[0;34m:\u001b[0m\u001b[0;34m\u001b[0m\u001b[0;34m\u001b[0m\u001b[0m\n\u001b[0;32m----> 4\u001b[0;31m     \u001b[0;32mif\u001b[0m \u001b[0midx\u001b[0m \u001b[0;34m!=\u001b[0m \u001b[0msetArr\u001b[0m\u001b[0;34m[\u001b[0m\u001b[0midx\u001b[0m\u001b[0;34m-\u001b[0m\u001b[0;36m1\u001b[0m\u001b[0;34m]\u001b[0m\u001b[0;34m:\u001b[0m\u001b[0;34m\u001b[0m\u001b[0;34m\u001b[0m\u001b[0m\n\u001b[0m\u001b[1;32m      5\u001b[0m         \u001b[0mcost\u001b[0m \u001b[0;34m+=\u001b[0m \u001b[0midx\u001b[0m\u001b[0;34m\u001b[0m\u001b[0;34m\u001b[0m\u001b[0m\n\u001b[1;32m      6\u001b[0m     \u001b[0mprint\u001b[0m\u001b[0;34m(\u001b[0m\u001b[0midx\u001b[0m\u001b[0;34m,\u001b[0m \u001b[0msetArr\u001b[0m\u001b[0;34m[\u001b[0m\u001b[0midx\u001b[0m\u001b[0;34m-\u001b[0m\u001b[0;36m1\u001b[0m\u001b[0;34m]\u001b[0m\u001b[0;34m)\u001b[0m\u001b[0;34m\u001b[0m\u001b[0;34m\u001b[0m\u001b[0m\n",
      "\u001b[0;31mTypeError\u001b[0m: 'set' object is not subscriptable"
     ]
    }
   ],
   "source": [
    "indexes = range(1, len(setArr) + 1)\n",
    "cost = 0\n",
    "for idx in indexes:\n",
    "    if idx != setArr[idx-1]:\n",
    "        cost += idx\n",
    "    print(idx, setArr[idx-1])\n",
    "\n",
    "realRange = range(len(setArr)+1, size+1)\n",
    "cost += sum(realRange)\n",
    "print(cost)\n"
   ]
  },
  {
   "cell_type": "code",
   "execution_count": 157,
   "metadata": {},
   "outputs": [
    {
     "name": "stdout",
     "output_type": "stream",
     "text": [
      "1\n",
      "2\n",
      "3\n",
      "4\n",
      "10\n"
     ]
    }
   ],
   "source": [
    "indexes = range(1, size+1)\n",
    "\n",
    "cost = 0\n",
    "for idx in indexes:\n",
    "    print(idx)\n",
    "    if arr[idx-1] != idx:\n",
    "        cost += idx\n",
    "\n",
    "print(cost)"
   ]
  }
 ],
 "metadata": {
  "kernelspec": {
   "display_name": "py3.9.5",
   "language": "python",
   "name": "python3"
  },
  "language_info": {
   "codemirror_mode": {
    "name": "ipython",
    "version": 3
   },
   "file_extension": ".py",
   "mimetype": "text/x-python",
   "name": "python",
   "nbconvert_exporter": "python",
   "pygments_lexer": "ipython3",
   "version": "3.9.5"
  }
 },
 "nbformat": 4,
 "nbformat_minor": 2
}
