{
 "cells": [
  {
   "cell_type": "code",
   "execution_count": 78,
   "metadata": {},
   "outputs": [
    {
     "name": "stdout",
     "output_type": "stream",
     "text": [
      "12\n"
     ]
    }
   ],
   "source": [
    "size = 5\n",
    "text = '1 1 3 5 4'\n",
    "data = text.split()\n",
    "numbers = list(map(lambda x: int(x), data))\n",
    "\n",
    "from itertools import combinations\n",
    "from math import factorial\n",
    "cnt = 0\n",
    "if size > 1:\n",
    "    # cnt += len(list(combinations(numbers, 2)))\n",
    "    cnt += int(factorial(size)/(2*factorial(size-2)))\n",
    "if size > 2:\n",
    "    for i in range(3, size+1):\n",
    "        combs = combinations(numbers, i)\n",
    "        for comb in combs:\n",
    "            dif = comb[1] - comb[0]\n",
    "            for jdx in range(2, i):\n",
    "                if comb[jdx] - comb[jdx-1] != dif:\n",
    "                    break\n",
    "            else:\n",
    "                cnt +=1\n",
    "print(cnt)"
   ]
  },
  {
   "cell_type": "code",
   "execution_count": 60,
   "metadata": {},
   "outputs": [
    {
     "name": "stdout",
     "output_type": "stream",
     "text": [
      "[1, 1, 1] [1, 1, 3]\n",
      "[1, 1, 1] [1, 1, 5]\n",
      "[1, 1, 1] [1, 1, 4]\n",
      "[1, 3, 5] [1, 3, 5]\n",
      "[1, 3] [1, 3, 4]\n",
      "[1] [1, 5, 4]\n",
      "[1, 3, 5] [1, 3, 5]\n",
      "[1, 3] [1, 3, 4]\n",
      "[1] [1, 5, 4]\n",
      "[3] [3, 5, 4]\n",
      "[1, 1, 1, 1] [1, 1, 3, 5]\n",
      "[1, 1, 1, 1] [1, 1, 3, 4]\n",
      "[1, 1, 1, 1] [1, 1, 5, 4]\n",
      "[1, 3] [1, 3, 5, 4]\n",
      "[1, 3] [1, 3, 5, 4]\n",
      "[1, 1, 1, 1, 1] [1, 1, 3, 5, 4]\n",
      "12\n"
     ]
    }
   ],
   "source": [
    "size = 5\n",
    "text = '1 1 3 5 4'\n",
    "data = text.split()\n",
    "numbers = list(map(lambda x: int(x), data))\n",
    "\n",
    "from itertools import combinations\n",
    "\n",
    "cnt = 0\n",
    "if size > 1:\n",
    "    cnt += len(list(combinations(numbers, 2)))\n",
    "\n",
    "if size > 2:\n",
    "    for i in range(3, size+1):\n",
    "        for comb in combinations(numbers, i):\n",
    "            dif = comb[1] - comb[0]\n",
    "            if dif != 0:\n",
    "                comp = list(range(comb[0], comb[i-1]+1, dif))\n",
    "            else:\n",
    "                comp = str(comb[0])*i\n",
    "                comp = list(map(lambda x: int(x), comp))\n",
    "            print(comp, list(comb))\n",
    "\n",
    "            if comp == list(comb):\n",
    "                cnt+=1\n",
    "print(cnt)"
   ]
  },
  {
   "cell_type": "code",
   "execution_count": 48,
   "metadata": {},
   "outputs": [
    {
     "data": {
      "text/plain": [
       "'[1, 2, 3, 4, 5]'"
      ]
     },
     "execution_count": 48,
     "metadata": {},
     "output_type": "execute_result"
    }
   ],
   "source": [
    "list('1'*5)\n",
    "str([1, 2, 3, 4, 5])"
   ]
  }
 ],
 "metadata": {
  "kernelspec": {
   "display_name": "py3.9.5",
   "language": "python",
   "name": "python3"
  },
  "language_info": {
   "codemirror_mode": {
    "name": "ipython",
    "version": 3
   },
   "file_extension": ".py",
   "mimetype": "text/x-python",
   "name": "python",
   "nbconvert_exporter": "python",
   "pygments_lexer": "ipython3",
   "version": "3.9.5"
  }
 },
 "nbformat": 4,
 "nbformat_minor": 2
}
