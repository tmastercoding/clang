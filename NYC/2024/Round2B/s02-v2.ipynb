{
 "cells": [
  {
   "cell_type": "markdown",
   "metadata": {},
   "source": [
    "## first try"
   ]
  },
  {
   "cell_type": "code",
   "execution_count": 4,
   "metadata": {},
   "outputs": [
    {
     "name": "stdout",
     "output_type": "stream",
     "text": [
      "12\n"
     ]
    }
   ],
   "source": [
    "# size = int(input())\n",
    "# text = input()\n",
    "# data = text.split()\n",
    "# numbers = list(map(lambda x: int(x), data))\n",
    "size = 5\n",
    "text = '1 1 3 5 4'\n",
    "data = text.split()\n",
    "numbers = list(map(lambda x: int(x), data))\n",
    "import time\n",
    "from itertools import \n",
    "\n",
    "cnt = 0\n",
    "if size == 1:\n",
    "    cnt = 0\n",
    "if size == 2:\n",
    "    cnt += size * ( size-1 ) >> 1\n",
    "\n",
    "if size > 2:\n",
    "    k = 2\n",
    "    if k == 2:\n",
    "        cnt += size * ( size-1 ) >> 1\n",
    "    k+=1\n",
    "    if k > 2:\n",
    "        for i in range(3, size+1):\n",
    "            combs = combinations(numbers, i)\n",
    "            # filter()\n",
    "            for comb in combs:\n",
    "                dif = comb[1] - comb[0]\n",
    "                isSequence = True\n",
    "                for jdx in range(2, i):\n",
    "                    if comb[jdx] - comb[jdx-1] != dif:\n",
    "                        isSequence = False\n",
    "                        break\n",
    "                if isSequence:\n",
    "                    cnt += 1\n",
    "print(cnt)"
   ]
  },
  {
   "cell_type": "markdown",
   "metadata": {},
   "source": [
    "## # check for execution time \n",
    "### # time "
   ]
  },
  {
   "cell_type": "code",
   "execution_count": 9,
   "metadata": {},
   "outputs": [
    {
     "name": "stdout",
     "output_type": "stream",
     "text": [
      "Excuriton time : 0.11584019660949707\n",
      "Execution time: 0 minutes and 0.12 seconds\n"
     ]
    }
   ],
   "source": [
    "import time as t\n",
    "\n",
    "# ㅇㅣㅂㄹㅕㄱㅁㅏㄴ ㅂㅏㄷㄴㅡㄴㅇㅐ\n",
    "\n",
    "start = t.time()\n",
    "\n",
    "# ㅇㅣㅂㄹㅑㄱ ㅂㅏㄷㅇㅏㅅㅓ ㅊㅓㄹㅣㅎㅏㄴㅡㄴㄹㅗㅈㅣㄱ\n",
    "for i in range( 4000000 ):\n",
    "    pass\n",
    "\n",
    "end = t.time()\n",
    "execution_time = end - start\n",
    "print( f'Excuriton time : {execution_time}')\n",
    "minutes, seconds = divmod(execution_time, 60)\n",
    "print(f\"Execution time: {int(minutes)} minutes and {seconds:.2f} seconds\")"
   ]
  },
  {
   "cell_type": "markdown",
   "metadata": {},
   "source": [
    "## # check for execution time \n",
    "> time it "
   ]
  },
  {
   "cell_type": "code",
   "execution_count": 11,
   "metadata": {},
   "outputs": [
    {
     "name": "stdout",
     "output_type": "stream",
     "text": [
      "Excuriton time : 0.06744004200004383\n",
      "Execution time: 0 minutes and 0.07 seconds\n"
     ]
    }
   ],
   "source": [
    "import timeit\n",
    "\n",
    "# ㅇㅣㅂㄹㅑㄱ ㅂㅏㄷㅇㅏㅅㅓ ㅊㅓㄹㅣㅎㅏㄴㅡㄴㄹㅗㅈㅣㄱ\n",
    "def test_fun():\n",
    "    for i in range( 4000000 ):\n",
    "        pass\n",
    "execution_time = timeit.timeit(test_fun, number=1)\n",
    "\n",
    "print( f'Excuriton time : {execution_time}')\n",
    "minutes, seconds = divmod(execution_time, 60)\n",
    "print(f\"Execution time: {int(minutes)} minutes and {seconds:.2f} seconds\")"
   ]
  },
  {
   "cell_type": "markdown",
   "metadata": {},
   "source": [
    "## Second try with time"
   ]
  },
  {
   "cell_type": "code",
   "execution_count": 78,
   "metadata": {},
   "outputs": [
    {
     "name": "stdout",
     "output_type": "stream",
     "text": [
      "3\n",
      "(1, 3, 5)\n",
      "(1, 3, 5)\n",
      "4\n",
      "5\n",
      "Execution time: 0 minutes and 0.000201 seconds\n"
     ]
    }
   ],
   "source": [
    "# size = int(input())\n",
    "# text = input()\n",
    "# data = text.split()\n",
    "# numbers = list(map(lambda x: int(x), data))\n",
    "size = 5\n",
    "text = '1 1 3 5 4'\n",
    "data = text.split()\n",
    "numbers = list(map(lambda x: int(x), data))\n",
    "import timeit\n",
    "from itertools import combinations\n",
    "from functools import reduce\n",
    "\n",
    "\n",
    "def body_code():\n",
    "    cnt = 0\n",
    "    if size == 1:\n",
    "        cnt = 0\n",
    "    if size == 2:\n",
    "        cnt += size * ( size-1 ) >> 1\n",
    "\n",
    "    if size > 2:\n",
    "        k = 2\n",
    "        if k == 2:\n",
    "            cnt += size * ( size-1 ) >> 1\n",
    "        k+=1\n",
    "        if k > 2:\n",
    "            for i in range(3, size+1):\n",
    "                print(i)\n",
    "                combs = combinations(numbers, i)\n",
    "                for comb in combs:\n",
    "                    # print(comb)\n",
    "                    # filter()\n",
    "\n",
    "                    # diff = comb[0] - comb[1]\n",
    "                    # print('diff', diff)\n",
    "                    # reduce(lambda a, b: print(a-b) if (type(a) == int and type(b) == int) else a, comb)\n",
    "\n",
    "                    diff = 0\n",
    "                    flag = False\n",
    "                    for idx in range(len(comb)):\n",
    "                        if idx == 0:\n",
    "                            diff = comb[idx] - comb[idx+1]\n",
    "                        else:\n",
    "                            if  (idx +1 < len(comb)) and (diff != comb[idx] - comb[idx+1]):\n",
    "                                flag = True\n",
    "                                break\n",
    "\n",
    "                    if( not flag ):\n",
    "                        print( comb )\n",
    "                    \n",
    "\n",
    "execution_time = timeit.timeit(body_code, number=1)\n",
    "minutes, seconds = divmod(execution_time, 60)\n",
    "print(f\"Execution time: {int(minutes)} minutes and {seconds:.6f} seconds\")"
   ]
  },
  {
   "cell_type": "code",
   "execution_count": 85,
   "metadata": {},
   "outputs": [
    {
     "name": "stdout",
     "output_type": "stream",
     "text": [
      "12\n",
      "Execution time: 0 minutes and 0.000254 seconds\n"
     ]
    }
   ],
   "source": [
    "size = 5\n",
    "text = '1 1 3 5 4'\n",
    "numbers = list(map(int, text.split()))\n",
    "\n",
    "def has_constant_difference(combo):\n",
    "    diffs = [combo[i] - combo[i - 1] for i in range(1, len(combo))]\n",
    "    return len(set(diffs)) == 1\n",
    "\n",
    "def body_code():\n",
    "    cnt = 0\n",
    "    if size == 2:\n",
    "        cnt = size * (size - 1) >> 1\n",
    "    elif size > 2:\n",
    "        cnt += size * (size - 1) >> 1\n",
    "        for i in range(3, size + 1):\n",
    "            combs = combinations(numbers, i)\n",
    "            valid_combinations = filter(has_constant_difference, combs)\n",
    "            cnt += len( list(valid_combinations) )\n",
    "\n",
    "    print( cnt )\n",
    "\n",
    "import timeit\n",
    "execution_time = timeit.timeit(body_code, number=1)\n",
    "minutes, seconds = divmod(execution_time, 60)\n",
    "print(f\"Execution time: {int(minutes)} minutes and {seconds:.6f} seconds\")"
   ]
  },
  {
   "cell_type": "code",
   "execution_count": 71,
   "metadata": {},
   "outputs": [
    {
     "name": "stdout",
     "output_type": "stream",
     "text": [
      "12\n"
     ]
    }
   ],
   "source": [
    "from itertools import combinations\n",
    "def has_constant_difference(combo):\n",
    "    diffs = [combo[i] - combo[i - 1] for i in range(1, len(combo))]\n",
    "    return len(set(diffs)) == 1\n",
    "\n",
    "def body_code(numbers, size ):\n",
    "    cnt = 0\n",
    "    if size == 2:\n",
    "        cnt = size * (size - 1) >> 1\n",
    "    elif size > 2:\n",
    "        cnt += size * (size - 1) >> 1\n",
    "        for i in range(3, size + 1):\n",
    "            combs = combinations(numbers, i)\n",
    "            valid_combinations = filter(has_constant_difference, combs)\n",
    "            cnt += len( list(valid_combinations) )\n",
    "\n",
    "    print( cnt )\n",
    "\n",
    "size = int(input())\n",
    "text = input()\n",
    "data = text.split()\n",
    "numbers = list(map(lambda x: int(x), data))\n",
    "\n",
    "body_code( numbers, size )"
   ]
  },
  {
   "cell_type": "code",
   "execution_count": 61,
   "metadata": {},
   "outputs": [
    {
     "data": {
      "text/plain": [
       "True"
      ]
     },
     "execution_count": 61,
     "metadata": {},
     "output_type": "execute_result"
    }
   ],
   "source": [
    "num = 2\n",
    "\n",
    "int == type(num)"
   ]
  },
  {
   "cell_type": "code",
   "execution_count": 102,
   "metadata": {},
   "outputs": [
    {
     "name": "stdout",
     "output_type": "stream",
     "text": [
      "[1, 2, 3, 4, 5]\n",
      "1 2 3\n",
      "1 2 4\n",
      "1 2 5\n",
      "1 3 4\n",
      "1 3 5\n",
      "1 4 5\n",
      "[2, 3, 4, 5]\n",
      "2 3 4\n",
      "2 3 5\n",
      "2 4 5\n",
      "[3, 4, 5]\n",
      "3 4 5\n",
      "[4, 5]\n",
      "[5]\n"
     ]
    }
   ],
   "source": [
    "data = [1, 2, 3, 4, 5]\n",
    "\n",
    "# peek 2\n",
    "# rst_data = list(data)\n",
    "# for datum in data:\n",
    "#     rst_data.remove(datum)\n",
    "#     print( rst_data )\n",
    "#     for value in rst_data:\n",
    "#         print(datum, value)\n",
    "\n",
    "# peek k..\n",
    "rst_data = list(data)\n",
    "for datum in data:\n",
    "    print( rst_data )\n",
    "    rst_data.remove(datum)\n",
    "    cpy_rst_data = list(rst_data)\n",
    "\n",
    "    for value in rst_data:\n",
    "        cpy_rst_data.remove(value)\n",
    "\n",
    "        for num in cpy_rst_data:\n",
    "            print(datum, value, num)\n",
    "\n",
    "\n",
    "def pick(src, pickNum):\n",
    "        \n",
    "    rst_src = list(src)\n",
    "    for value in src:\n",
    "        rst_src.remove(value)\n",
    "        pick(rst_src, pickNum-1)"
   ]
  },
  {
   "cell_type": "code",
   "execution_count": 68,
   "metadata": {},
   "outputs": [
    {
     "data": {
      "text/plain": [
       "[[1, 2, 3],\n",
       " [1, 2, 4],\n",
       " [1, 2, 5],\n",
       " [1, 3, 4],\n",
       " [1, 3, 5],\n",
       " [1, 4, 5],\n",
       " [2, 3, 4],\n",
       " [2, 3, 5],\n",
       " [2, 4, 5],\n",
       " [3, 4, 5]]"
      ]
     },
     "execution_count": 68,
     "metadata": {},
     "output_type": "execute_result"
    }
   ],
   "source": [
    "data = [1, 2, 3, 4, 5]\n",
    "# ohTaiCombinations( [], data, 3 )\n",
    "def ohTaiCombinations( result, piece, data, k, start=0, idx=0 ):\n",
    "    if idx == k:\n",
    "        # print(piece)\n",
    "        result.append(list(piece))\n",
    "        return piece\n",
    "    else: \n",
    "        # i = index of whole data\n",
    "        # idx = index of piece\n",
    "        # k = choose \n",
    "        for i in range(start, len(data)):\n",
    "            # checks if enough room in piece\n",
    "            if (len(data)-i) < (k - idx):\n",
    "                # print(i, idx)\n",
    "                break\n",
    "            piece[idx] = data[i]\n",
    "            # print(piece)\n",
    "\n",
    "            ohTaiCombinations(result, piece, data, k,  i+1, idx+1)\n",
    "            \n",
    "\n",
    "result = []\n",
    "ohTaiCombinations(result, [0, 0, 0], data, 3)\n"
   ]
  },
  {
   "cell_type": "code",
   "execution_count": 91,
   "metadata": {},
   "outputs": [
    {
     "data": {
      "text/plain": [
       "[[1, 3, 5], [1, 3, 5]]"
      ]
     },
     "execution_count": 91,
     "metadata": {},
     "output_type": "execute_result"
    }
   ],
   "source": [
    "data = [1, 1, 3, 5, 4]\n",
    "def sequenceComb( result, piece, data, k, start=0, idx=0 ):\n",
    "    if idx == k:\n",
    "        # print(piece)\n",
    "        result.append(list(piece))\n",
    "        return piece\n",
    "    else: \n",
    "        # i = index of whole data\n",
    "        # idx = index of piece\n",
    "        # k = choose \n",
    "        for i in range(start, len(data)):\n",
    "            # checks if enough room in piece\n",
    "            if (len(data)-i) < (k - idx):\n",
    "                # print(i, idx)\n",
    "                break\n",
    "            piece[idx] = data[i]\n",
    "            # print(piece)\n",
    "            if idx > 1:\n",
    "                if (piece[idx]-piece[idx-1]) != (piece[idx-1]-piece[idx-2]):\n",
    "                    break\n",
    "\n",
    "            sequenceComb(result, piece, data, k,  i+1, idx+1)\n",
    "\n",
    "result = []\n",
    "sequenceComb(result, [0, 0, 0], data, 3)\n",
    "result"
   ]
  },
  {
   "cell_type": "code",
   "execution_count": 97,
   "metadata": {},
   "outputs": [
    {
     "ename": "ValueError",
     "evalue": "invalid literal for int() with base 10: '1 1 3 5 4'",
     "output_type": "error",
     "traceback": [
      "\u001b[0;31m---------------------------------------------------------------------------\u001b[0m",
      "\u001b[0;31mValueError\u001b[0m                                Traceback (most recent call last)",
      "\u001b[0;32m/var/folders/nr/d4ml_tqd4z91nyr3ryvm6xsr0000gn/T/ipykernel_1192/2769500801.py\u001b[0m in \u001b[0;36m<module>\u001b[0;34m\u001b[0m\n\u001b[1;32m     35\u001b[0m     \u001b[0mprint\u001b[0m\u001b[0;34m(\u001b[0m \u001b[0mcnt\u001b[0m \u001b[0;34m)\u001b[0m\u001b[0;34m\u001b[0m\u001b[0;34m\u001b[0m\u001b[0m\n\u001b[1;32m     36\u001b[0m \u001b[0;34m\u001b[0m\u001b[0m\n\u001b[0;32m---> 37\u001b[0;31m \u001b[0msize\u001b[0m \u001b[0;34m=\u001b[0m \u001b[0mint\u001b[0m\u001b[0;34m(\u001b[0m\u001b[0minput\u001b[0m\u001b[0;34m(\u001b[0m\u001b[0;34m)\u001b[0m\u001b[0;34m)\u001b[0m\u001b[0;34m\u001b[0m\u001b[0;34m\u001b[0m\u001b[0m\n\u001b[0m\u001b[1;32m     38\u001b[0m \u001b[0mtext\u001b[0m \u001b[0;34m=\u001b[0m \u001b[0minput\u001b[0m\u001b[0;34m(\u001b[0m\u001b[0;34m)\u001b[0m\u001b[0;34m\u001b[0m\u001b[0;34m\u001b[0m\u001b[0m\n\u001b[1;32m     39\u001b[0m \u001b[0mdata\u001b[0m \u001b[0;34m=\u001b[0m \u001b[0mtext\u001b[0m\u001b[0;34m.\u001b[0m\u001b[0msplit\u001b[0m\u001b[0;34m(\u001b[0m\u001b[0;34m)\u001b[0m\u001b[0;34m\u001b[0m\u001b[0;34m\u001b[0m\u001b[0m\n",
      "\u001b[0;31mValueError\u001b[0m: invalid literal for int() with base 10: '1 1 3 5 4'"
     ]
    }
   ],
   "source": [
    "def sequenceComb( result, piece, data, k, start=0, idx=0 ):\n",
    "    if idx == k:\n",
    "        # print(piece)\n",
    "        result.append(list(piece))\n",
    "        return piece\n",
    "    else: \n",
    "        # i = index of whole data\n",
    "        # idx = index of piece\n",
    "        # k = choose \n",
    "        for i in range(start, len(data)):\n",
    "            # checks if enough room in piece\n",
    "            if (len(data)-i) < (k - idx):\n",
    "                # print(i, idx)\n",
    "                break\n",
    "            piece[idx] = data[i]\n",
    "            # print(piece)\n",
    "            if idx > 1:\n",
    "                if (piece[idx]-piece[idx-1]) != (piece[idx-1]-piece[idx-2]):\n",
    "                    break\n",
    "\n",
    "            sequenceComb(result, piece, data, k,  i+1, idx+1)\n",
    "\n",
    "def body_code(numbers, size ):\n",
    "    cnt = 0\n",
    "    if size == 2:\n",
    "        cnt = size * (size - 1) >> 1\n",
    "    elif size > 2:\n",
    "        cnt += size * (size - 1) >> 1\n",
    "        for i in range(3, size + 1):\n",
    "            combs = []\n",
    "            sequenceComb(combs, [0]*i, numbers, i)\n",
    "            print(combs)\n",
    "            cnt += len( combs )\n",
    "\n",
    "    print( cnt )\n",
    "\n",
    "size = int(input())\n",
    "text = input()\n",
    "data = text.split()\n",
    "numbers = list(map(lambda x: int(x), data))\n",
    "\n",
    "body_code( numbers, size )"
   ]
  },
  {
   "cell_type": "code",
   "execution_count": 105,
   "metadata": {},
   "outputs": [],
   "source": [
    "## Create combinations func\n",
    "    # recursive\n",
    "    # or \n",
    "    # for loop\n"
   ]
  }
 ],
 "metadata": {
  "kernelspec": {
   "display_name": "py3.9.5",
   "language": "python",
   "name": "python3"
  },
  "language_info": {
   "codemirror_mode": {
    "name": "ipython",
    "version": 3
   },
   "file_extension": ".py",
   "mimetype": "text/x-python",
   "name": "python",
   "nbconvert_exporter": "python",
   "pygments_lexer": "ipython3",
   "version": "3.9.5"
  }
 },
 "nbformat": 4,
 "nbformat_minor": 2
}
