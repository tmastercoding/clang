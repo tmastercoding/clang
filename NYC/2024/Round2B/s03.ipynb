{
 "cells": [
  {
   "cell_type": "code",
   "execution_count": 86,
   "metadata": {},
   "outputs": [],
   "source": [
    "size = 4\n",
    "text = '''1 2\n",
    "2 1\n",
    "2 2\n",
    "1 1'''\n",
    "lines = text.split('\\n')\n",
    "\n",
    "dots = []\n",
    "for line in lines:\n",
    "    data = line.split()\n",
    "    dots.append([int(data[0]), int(data[1])])"
   ]
  },
  {
   "cell_type": "code",
   "execution_count": 89,
   "metadata": {},
   "outputs": [
    {
     "name": "stdout",
     "output_type": "stream",
     "text": [
      "4\n",
      "1 2\n",
      "3 4\n"
     ]
    }
   ],
   "source": [
    "idxRange = range(0, size)\n",
    "\n",
    "pairSize = size >> 1\n",
    "\n",
    "from itertools import combinations\n",
    "pairs = combinations(idxRange, 2)\n",
    "combs = combinations(pairs, pairSize)\n",
    "realCombs = []\n",
    "\n",
    "for comb in combs:\n",
    "    # print(comb)\n",
    "    cur = set(comb[0])\n",
    "\n",
    "    isValid = True\n",
    "    for idx in range(1, pairSize):\n",
    "        if len(cur - set(comb[idx])) != pairSize:\n",
    "            isValid = False\n",
    "            break\n",
    "        cur = set(comb[idx])\n",
    "    \n",
    "    if isValid:\n",
    "        realCombs.append(comb)\n",
    "\n",
    "\n",
    "maxScore = 0\n",
    "maxComb = []\n",
    "for comb in realCombs:\n",
    "    score = 0\n",
    "    for pair in comb:\n",
    "        i = dots[pair[0]]\n",
    "        j = dots[pair[1]]\n",
    "        score += abs(i[0]-j[0]) + abs(i[1]-j[1])\n",
    "    if score > maxScore:\n",
    "        maxScore = score\n",
    "        maxComb = comb\n",
    "\n",
    "print(maxScore)\n",
    "for pair in maxComb:\n",
    "    print(pair[0]+1, pair[1]+1)"
   ]
  },
  {
   "cell_type": "code",
   "execution_count": 87,
   "metadata": {},
   "outputs": [
    {
     "name": "stdout",
     "output_type": "stream",
     "text": [
      "((0, 1), (2, 3))\n",
      "((0, 2), (1, 3))\n",
      "((0, 3), (1, 2))\n"
     ]
    }
   ],
   "source": [
    "idxRange = range(0, size)\n",
    "\n",
    "pairSize = size >> 1\n",
    "\n",
    "from itertools import combinations\n",
    "pairs = combinations(idxRange, 2)\n",
    "combs = combinations(pairs, pairSize)\n",
    "realCombs = []\n",
    "\n",
    "for comb in combs:\n",
    "    # print(comb)\n",
    "    cur = set(comb[0])\n",
    "\n",
    "    isValid = True\n",
    "    for idx in range(1, pairSize):\n",
    "        if len(cur - set(comb[idx])) != pairSize:\n",
    "            isValid = False\n",
    "            break\n",
    "        cur = set(comb[idx])\n",
    "    \n",
    "    if isValid:\n",
    "        realCombs.append(comb)\n",
    "\n",
    "for comb in realCombs:\n",
    "    print(comb)"
   ]
  }
 ],
 "metadata": {
  "kernelspec": {
   "display_name": "Python 3",
   "language": "python",
   "name": "python3"
  },
  "language_info": {
   "codemirror_mode": {
    "name": "ipython",
    "version": 3
   },
   "file_extension": ".py",
   "mimetype": "text/x-python",
   "name": "python",
   "nbconvert_exporter": "python",
   "pygments_lexer": "ipython3",
   "version": "3.9.5"
  }
 },
 "nbformat": 4,
 "nbformat_minor": 2
}
