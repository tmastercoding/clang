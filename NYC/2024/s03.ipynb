{
 "cells": [
  {
   "cell_type": "code",
   "execution_count": 30,
   "metadata": {},
   "outputs": [
    {
     "data": {
      "text/plain": [
       "[[2, 2], [5, 2], [5, 1]]"
      ]
     },
     "execution_count": 30,
     "metadata": {},
     "output_type": "execute_result"
    }
   ],
   "source": [
    "# Input\n",
    "\n",
    "size = int(input())\n",
    "fish = []\n",
    "\n",
    "for _ in range(1, size+1):\n",
    "    temp = list(map(lambda x: int(x), input().split()))\n",
    "    fish.append(temp)"
   ]
  },
  {
   "cell_type": "code",
   "execution_count": 51,
   "metadata": {},
   "outputs": [],
   "source": [
    "# Input\n",
    "\n",
    "test = '''3\n",
    "9 2\n",
    "7 6\n",
    "7 7'''\n",
    "\n",
    "lines = test.split('\\n')\n",
    "size = int(lines[0])\n",
    "fish = []\n",
    "\n",
    "for idx in range(1, size+1):\n",
    "    temp = list(map(lambda x: int(x), lines[idx].split()))\n",
    "    fish.append(temp)"
   ]
  },
  {
   "cell_type": "code",
   "execution_count": 56,
   "metadata": {},
   "outputs": [
    {
     "name": "stdout",
     "output_type": "stream",
     "text": [
      "-1\n",
      "4\n",
      "4\n"
     ]
    }
   ],
   "source": [
    "from math import ceil\n",
    "for puff, grape in fish:\n",
    "    # boxCount = 0\n",
    "    tot = puff + grape\n",
    "    output = ceil(tot/4)\n",
    "    if tot > 4:\n",
    "        if (puff/output < 1) or (grape/output < 1):\n",
    "            print(-1)\n",
    "            continue\n",
    "    print(output)\n",
    "   \n",
    "    # while tot > 4:\n",
    "    #     print('pre', puff, grape)\n",
    "    #     if puff > grape:\n",
    "    #         if puff > 3:\n",
    "    #             puff -= 3\n",
    "    #             grape -= 1\n",
    "    #         else:\n",
    "    #             puff -= 2\n",
    "    #             grape -= 2\n",
    "    #     elif grape > puff:\n",
    "    #         if grape > 3:\n",
    "    #             grape -= 3\n",
    "    #             puff -= 1\n",
    "    #         else:\n",
    "    #             grape -= 2\n",
    "    #             puff -= 2\n",
    "    #     else:\n",
    "    #         grape -= 2\n",
    "    #         puff -=2\n",
    "    #     boxCount +=1\n",
    "    #     tot = puff + grape\n",
    "    #     print('post', puff, grape)\n",
    "\n",
    "    # if (puff > 0) and (grape > 0):\n",
    "    #     boxCount += 1\n",
    "    # else:\n",
    "    #     boxCount = -1\n",
    "    # print(boxCount)"
   ]
  }
 ],
 "metadata": {
  "kernelspec": {
   "display_name": "py3.9.5",
   "language": "python",
   "name": "python3"
  },
  "language_info": {
   "codemirror_mode": {
    "name": "ipython",
    "version": 3
   },
   "file_extension": ".py",
   "mimetype": "text/x-python",
   "name": "python",
   "nbconvert_exporter": "python",
   "pygments_lexer": "ipython3",
   "version": "3.9.5"
  }
 },
 "nbformat": 4,
 "nbformat_minor": 2
}
