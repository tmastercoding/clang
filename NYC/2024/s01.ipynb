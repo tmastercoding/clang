{
 "cells": [
  {
   "cell_type": "code",
   "execution_count": 14,
   "metadata": {},
   "outputs": [],
   "source": [
    "# input\n",
    "\n",
    "\n",
    "# test = '''2\n",
    "# Hero\n",
    "# Paladin\n",
    "# 1\n",
    "# Hero'''\n",
    "\n",
    "# lines = test.split('\\n')\n",
    "# tot_size = int(lines[0])\n",
    "# tot_hero = set(lines[1:1+tot_size])\n",
    "# user_size = int(lines[tot_size+1])\n",
    "# user_hero = set(lines[tot_size+2:])\n",
    "\n",
    "tot_size = int(input())\n",
    "tot_hero = set()\n",
    "for _ in range(tot_size):\n",
    "    tot_hero.add(input())\n",
    "    \n",
    "user_size = int(input())\n",
    "user_hero = set()\n",
    "for _ in range(user_size):\n",
    "    user_hero.add(input())"
   ]
  },
  {
   "cell_type": "code",
   "execution_count": 15,
   "metadata": {},
   "outputs": [
    {
     "name": "stdout",
     "output_type": "stream",
     "text": [
      "1\n",
      "Paladin\n"
     ]
    }
   ],
   "source": [
    "output = tot_hero ^ user_hero\n",
    "print(len(output))\n",
    "for hero in output:\n",
    "    print(hero)"
   ]
  }
 ],
 "metadata": {
  "kernelspec": {
   "display_name": "py3.9.5",
   "language": "python",
   "name": "python3"
  },
  "language_info": {
   "codemirror_mode": {
    "name": "ipython",
    "version": 3
   },
   "file_extension": ".py",
   "mimetype": "text/x-python",
   "name": "python",
   "nbconvert_exporter": "python",
   "pygments_lexer": "ipython3",
   "version": "3.9.5"
  }
 },
 "nbformat": 4,
 "nbformat_minor": 2
}
