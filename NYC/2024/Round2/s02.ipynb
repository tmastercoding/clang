{
 "cells": [
  {
   "cell_type": "code",
   "execution_count": 78,
   "metadata": {},
   "outputs": [
    {
     "name": "stdout",
     "output_type": "stream",
     "text": [
      "[1, 0] [0, 2]\n",
      "1.0 x + -2.0\n",
      "-1.0\n",
      "-1.0 x + 3.0\n",
      "2.0\n",
      "0.0 x + 3.0\n",
      "3.0\n"
     ]
    }
   ],
   "source": [
    "test = '''5 3 2\n",
    "3 1 5 3\n",
    "4 1 1 4\n",
    "1 4 5 4\n",
    "2 1 1 3\n",
    "3 3 2 2'''\n",
    "lines = test.split('\\n')\n",
    "length, lSize, qSize = map(lambda x: int(x), lines[0].split())\n",
    "\n",
    "lasers = []\n",
    "queries = []\n",
    "\n",
    "for idx in range(1, 1+lSize):\n",
    "    lasers.append(list(map(lambda x: int(x)-1, lines[idx].split())))\n",
    "for idx in range(1+lSize, 1+lSize+qSize):\n",
    "    queries.append(list(map(lambda x: int(x)-1, lines[idx].split())))\n",
    "\n",
    "preDot = queries[0][:2]\n",
    "postDot = queries[0][2:]\n",
    "print(preDot, postDot)\n",
    "flag = True\n",
    "for preX, preY, postX, postY in lasers:\n",
    "    slope = (postY-preY)/(postX-preX)\n",
    "    intercept = preY - preX * slope\n",
    "    print(slope, 'x +', intercept)\n",
    "\n",
    "    hypoPre = slope * preDot[0] + intercept\n",
    "    hypoPost = slope * postDot[0] + intercept\n",
    "    if preDot[1] > hypoPre and postDot[1] > hypoPre:\n",
    "        \n",
    "    "
   ]
  }
 ],
 "metadata": {
  "kernelspec": {
   "display_name": "py3.9.5",
   "language": "python",
   "name": "python3"
  },
  "language_info": {
   "codemirror_mode": {
    "name": "ipython",
    "version": 3
   },
   "file_extension": ".py",
   "mimetype": "text/x-python",
   "name": "python",
   "nbconvert_exporter": "python",
   "pygments_lexer": "ipython3",
   "version": "3.9.5"
  }
 },
 "nbformat": 4,
 "nbformat_minor": 2
}
