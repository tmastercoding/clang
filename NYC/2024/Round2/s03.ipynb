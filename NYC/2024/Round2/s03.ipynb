{
 "cells": [
  {
   "cell_type": "code",
   "execution_count": 28,
   "metadata": {},
   "outputs": [
    {
     "name": "stdout",
     "output_type": "stream",
     "text": [
      "10\n",
      "24\n",
      "-1\n"
     ]
    }
   ],
   "source": [
    "sSize, tSize, dest, qSize = map(lambda x: int(x), input().split())\n",
    "\n",
    "trains = []\n",
    "for _ in range(tSize):\n",
    "    trains.append(list(map(lambda x: int(x), input().split())))\n",
    "\n",
    "queries = []\n",
    "for _ in range(qSize):\n",
    "    queries.append(list(map(lambda x: int(x), input().split())))\n",
    "\n",
    "station, time  = queries[2]\n",
    "\n",
    "for station, time in queries:\n",
    "    minTime = 99999999\n",
    "    minSta = 0\n",
    "    while True:\n",
    "        for preSta, preTime, postSta, postTime in trains:\n",
    "            if station == preSta and time <= preTime:\n",
    "                if postTime < minTime:\n",
    "                    minTime = postTime\n",
    "                    minSta = postSta\n",
    "        if minSta:\n",
    "            time = minTime\n",
    "            station = minSta\n",
    "            minTime = 99999999\n",
    "            minSta = 0\n",
    "        else:\n",
    "            print(-1)\n",
    "            break\n",
    "\n",
    "\n",
    "        if station == dest:\n",
    "            print(time)\n",
    "            break"
   ]
  },
  {
   "cell_type": "code",
   "execution_count": 27,
   "metadata": {},
   "outputs": [
    {
     "name": "stdout",
     "output_type": "stream",
     "text": [
      "10\n",
      "24\n",
      "-1\n"
     ]
    }
   ],
   "source": [
    "sSize, tSize, dest, qSize = (4, 5, 4, 3)\n",
    "\n",
    "test = '''1 1 2 5\n",
    "2 5 4 10\n",
    "1 5 3 12\n",
    "3 14 4 25\n",
    "3 15 4 24'''\n",
    "\n",
    "trains = []\n",
    "for line in test.split('\\n'):\n",
    "    trains.append(list(map(lambda x: int(x), line.split())))\n",
    "\n",
    "test = '''1 1\n",
    "1 4\n",
    "1 7'''\n",
    "\n",
    "queries = []\n",
    "for line in test.split('\\n'):\n",
    "    queries.append(list(map(lambda x: int(x), line.split())))\n",
    "\n",
    "station, time  = queries[2]\n",
    "\n",
    "for station, time in queries:\n",
    "    minTime = 99999999\n",
    "    minSta = 0\n",
    "    while True:\n",
    "        for preSta, preTime, postSta, postTime in trains:\n",
    "            if station == preSta and time <= preTime:\n",
    "                if postTime < minTime:\n",
    "                    minTime = postTime\n",
    "                    minSta = postSta\n",
    "        if minSta:\n",
    "            time = minTime\n",
    "            station = minSta\n",
    "            minTime = 99999999\n",
    "            minSta = 0\n",
    "        else:\n",
    "            print(-1)\n",
    "            break\n",
    "\n",
    "\n",
    "        if station == dest:\n",
    "            print(time)\n",
    "            break"
   ]
  }
 ],
 "metadata": {
  "kernelspec": {
   "display_name": "py3.9.5",
   "language": "python",
   "name": "python3"
  },
  "language_info": {
   "codemirror_mode": {
    "name": "ipython",
    "version": 3
   },
   "file_extension": ".py",
   "mimetype": "text/x-python",
   "name": "python",
   "nbconvert_exporter": "python",
   "pygments_lexer": "ipython3",
   "version": "3.9.5"
  }
 },
 "nbformat": 4,
 "nbformat_minor": 2
}
