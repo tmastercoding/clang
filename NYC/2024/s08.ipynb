{
 "cells": [
  {
   "cell_type": "code",
   "execution_count": 49,
   "metadata": {},
   "outputs": [],
   "source": [
    "length = 5\n",
    "size = 3\n",
    "temp = '''2 2 4\n",
    "3 5 4\n",
    "4 3 4'''\n",
    "lines = temp.split('\\n')\n",
    "balloons = list(map(lambda x: list(map(lambda y: int(y), x.split())), lines))"
   ]
  },
  {
   "cell_type": "code",
   "execution_count": 28,
   "metadata": {},
   "outputs": [
    {
     "data": {
      "text/plain": [
       "[[2, 2, 4], [3, 5, 4], [4, 3, 4]]"
      ]
     },
     "execution_count": 28,
     "metadata": {},
     "output_type": "execute_result"
    }
   ],
   "source": [
    "length, size = map(lambda x: int(x), input().split())\n",
    "balloons = []\n",
    "for _ in range(size):\n",
    "    balloons.append(list(map(lambda x: int(x), input().split())))\n",
    "\n",
    "balloons"
   ]
  },
  {
   "cell_type": "code",
   "execution_count": 27,
   "metadata": {},
   "outputs": [
    {
     "name": "stdout",
     "output_type": "stream",
     "text": [
      "4\n"
     ]
    }
   ],
   "source": [
    "grid = []\n",
    "\n",
    "for idx in range(length):\n",
    "    row = []\n",
    "    for jdx in range(length):\n",
    "        row.append(False)\n",
    "    grid.append(row)\n",
    "\n",
    "for x, y, power in balloons:\n",
    "    # horizontal\n",
    "    x-=1\n",
    "    y-=1\n",
    "    xStart = x-power\n",
    "    if xStart < 0:\n",
    "        xStart = 0\n",
    "    xEnd = x+power\n",
    "    if xEnd > length-1:\n",
    "        xEnd = length - 1\n",
    "    \n",
    "    for idx in range(xStart, xEnd+1):\n",
    "        grid[idx][y] = True\n",
    "        \n",
    "    # vertiacl\n",
    "    yStart = y-power\n",
    "    if yStart < 0:\n",
    "        yStart = 0\n",
    "    yEnd = y+power\n",
    "    if yEnd > length-1:\n",
    "        yEnd = length - 1\n",
    "    \n",
    "    for idx in range(yStart, yEnd+1):\n",
    "        grid[x][idx] = True\n",
    "\n",
    "cnt = 0\n",
    "\n",
    "for idx in range(length):\n",
    "    cnt += grid[idx].count(False)\n",
    "print(cnt)"
   ]
  },
  {
   "cell_type": "code",
   "execution_count": 66,
   "metadata": {},
   "outputs": [
    {
     "name": "stdout",
     "output_type": "stream",
     "text": [
      "14\n"
     ]
    }
   ],
   "source": [
    "# grid = set()\n",
    "\n",
    "# for idx in range(1, length+1):\n",
    "#     for jdx in range(1, length+1):\n",
    "#         grid.add((idx, jdx))\n",
    "notSet = set()\n",
    "\n",
    "for x, y, power in balloons:\n",
    "    # horizontal\n",
    "    xStart = x-power\n",
    "    if xStart < 1:\n",
    "        xStart = 1\n",
    "    xEnd = x+power\n",
    "    if xEnd > length:\n",
    "        xEnd = length\n",
    "\n",
    "    yStart = y-power\n",
    "    if yStart < 1:\n",
    "        yStart = 1\n",
    "    yEnd = y+power\n",
    "    if yEnd > length:\n",
    "        yEnd = length \n",
    "    \n",
    "    notSet.update(set(map(lambda idx: (idx, y), range(xStart, xEnd+1))))\n",
    "    notSet.update(set(map(lambda idx: (x, idx), range(yStart, yEnd+1))))\n",
    "\n",
    "print((length*length) - len(notSet))\n",
    "# notSet"
   ]
  },
  {
   "cell_type": "code",
   "execution_count": 19,
   "metadata": {},
   "outputs": [
    {
     "ename": "ValueError",
     "evalue": "not enough values to unpack (expected 3, got 0)",
     "output_type": "error",
     "traceback": [
      "\u001b[0;31m---------------------------------------------------------------------------\u001b[0m",
      "\u001b[0;31mValueError\u001b[0m                                Traceback (most recent call last)",
      "\u001b[0;32m/var/folders/nr/d4ml_tqd4z91nyr3ryvm6xsr0000gn/T/ipykernel_21756/3990857067.py\u001b[0m in \u001b[0;36m<module>\u001b[0;34m\u001b[0m\n\u001b[1;32m      8\u001b[0m \u001b[0;34m\u001b[0m\u001b[0m\n\u001b[1;32m      9\u001b[0m \u001b[0;32mfor\u001b[0m \u001b[0m_\u001b[0m \u001b[0;32min\u001b[0m \u001b[0mrange\u001b[0m\u001b[0;34m(\u001b[0m\u001b[0msize\u001b[0m\u001b[0;34m)\u001b[0m\u001b[0;34m:\u001b[0m\u001b[0;34m\u001b[0m\u001b[0;34m\u001b[0m\u001b[0m\n\u001b[0;32m---> 10\u001b[0;31m     \u001b[0mx\u001b[0m\u001b[0;34m,\u001b[0m \u001b[0my\u001b[0m\u001b[0;34m,\u001b[0m \u001b[0mpower\u001b[0m \u001b[0;34m=\u001b[0m \u001b[0mlist\u001b[0m\u001b[0;34m(\u001b[0m\u001b[0mmap\u001b[0m\u001b[0;34m(\u001b[0m\u001b[0;32mlambda\u001b[0m \u001b[0mx\u001b[0m\u001b[0;34m:\u001b[0m \u001b[0mint\u001b[0m\u001b[0;34m(\u001b[0m\u001b[0mx\u001b[0m\u001b[0;34m)\u001b[0m\u001b[0;34m,\u001b[0m \u001b[0minput\u001b[0m\u001b[0;34m(\u001b[0m\u001b[0;34m)\u001b[0m\u001b[0;34m.\u001b[0m\u001b[0msplit\u001b[0m\u001b[0;34m(\u001b[0m\u001b[0;34m)\u001b[0m\u001b[0;34m)\u001b[0m\u001b[0;34m)\u001b[0m\u001b[0;34m\u001b[0m\u001b[0;34m\u001b[0m\u001b[0m\n\u001b[0m\u001b[1;32m     11\u001b[0m     \u001b[0mxStart\u001b[0m \u001b[0;34m=\u001b[0m \u001b[0mx\u001b[0m\u001b[0;34m-\u001b[0m\u001b[0mpower\u001b[0m\u001b[0;34m\u001b[0m\u001b[0;34m\u001b[0m\u001b[0m\n\u001b[1;32m     12\u001b[0m     \u001b[0;32mif\u001b[0m \u001b[0mxStart\u001b[0m \u001b[0;34m<\u001b[0m \u001b[0;36m1\u001b[0m\u001b[0;34m:\u001b[0m\u001b[0;34m\u001b[0m\u001b[0;34m\u001b[0m\u001b[0m\n",
      "\u001b[0;31mValueError\u001b[0m: not enough values to unpack (expected 3, got 0)"
     ]
    }
   ],
   "source": [
    "length, size = map(lambda x: int(x), input().split())\n",
    "notSet = set()\n",
    "for _ in range(size):\n",
    "    x, y, power = list(map(lambda x: int(x), input().split()))\n",
    "    xStart = x-power\n",
    "    if xStart < 1:\n",
    "        xStart = 1\n",
    "    xEnd = x+power\n",
    "    if xEnd > length:\n",
    "        xEnd = length\n",
    "\n",
    "    yStart = y-power\n",
    "    if yStart < 1:\n",
    "        yStart = 1\n",
    "    yEnd = y+power\n",
    "    if yEnd > length:\n",
    "        yEnd = length \n",
    "    \n",
    "    notSet.update(set(map(lambda idx: (idx, y), range(xStart, xEnd+1))))\n",
    "    notSet.update(set(map(lambda idx: (x, idx), range(yStart, yEnd+1))))\n",
    "\n",
    "print((length*length) - len(notSet))"
   ]
  },
  {
   "cell_type": "code",
   "execution_count": 17,
   "metadata": {},
   "outputs": [
    {
     "name": "stdout",
     "output_type": "stream",
     "text": [
      "1 1\n",
      "4 2\n",
      "2 3\n",
      "4\n"
     ]
    }
   ],
   "source": [
    "# length, size = map(lambda x: int(x), input().split())\n",
    "\n",
    "# balloons = []\n",
    "# for _ in range(size):\n",
    "#     balloons.append(list(map(lambda x: int(x), input().split())))\n",
    "\n",
    "length = 5\n",
    "size = 3\n",
    "temp = '''2 2 4\n",
    "5 3 4\n",
    "3 4 4'''\n",
    "\n",
    "lines = temp.split('\\n')\n",
    "balloons = list(map(lambda x: list(map(lambda y: int(y), x.split())), lines))\n",
    "grid = set()\n",
    "for idx in range(0, length):\n",
    "    for jdx in range(0, length):\n",
    "        grid.add((idx, jdx))\n",
    "\n",
    "# totSet = set()\n",
    "for x, y, power in balloons:\n",
    "    x -= 1\n",
    "    y -= 1\n",
    "\n",
    "    # horizontal\n",
    "    xStart = x-power\n",
    "    if xStart < 0:\n",
    "        xStart = 0\n",
    "    xEnd = x+power\n",
    "    if xEnd > (length-1):\n",
    "        xEnd = length-1\n",
    "\n",
    "    yStart = y-power\n",
    "    if yStart < 0:\n",
    "        yStart = 0\n",
    "    yEnd = y+power\n",
    "    if yEnd > (length-1):\n",
    "        yEnd = length-1 \n",
    "    # print(set(map(lambda idx: (idx, y), range(xStart, xEnd+1))))\n",
    "    # print(set(map(lambda idx: (x, idx), range(yStart, yEnd+1))))\n",
    "    if 0 <= y < length:\n",
    "        grid -= set(map(lambda idx: (idx, y), range(xStart, xEnd+1)))\n",
    "    if 0 <= x < length:\n",
    "        grid -= set(map(lambda idx: (x, idx), range(yStart, yEnd+1)))\n",
    "print(len(grid))\n",
    "\n",
    "# print((length*length) - len(totSet))"
   ]
  },
  {
   "cell_type": "code",
   "execution_count": 46,
   "metadata": {},
   "outputs": [
    {
     "name": "stdout",
     "output_type": "stream",
     "text": [
      "0 4\n",
      "0 4\n",
      "0 4\n",
      "{(4, 0), (4, 3), (3, 1), (0, 2), (2, 2), (1, 0), (1, 3), (4, 2), (3, 3), (0, 1), (2, 4), (1, 2), (2, 1), (3, 2), (4, 1), (4, 4), (1, 1), (0, 3), (2, 0), (1, 4), (2, 3)}\n",
      "4\n"
     ]
    }
   ],
   "source": [
    "length = 5\n",
    "size = 3\n",
    "temp = '''2 2 4\n",
    "5 3 4\n",
    "3 4 4'''\n",
    "\n",
    "lines = temp.split('\\n')\n",
    "balloons = list(map(lambda x: list(map(lambda y: int(y), x.split())), lines))\n",
    "\n",
    "notSet = set()\n",
    "for x, y, power in balloons:\n",
    "    x-=1\n",
    "    y-=1\n",
    "    xStart = x-power\n",
    "    if xStart < 0:\n",
    "        xStart = 0\n",
    "    \n",
    "    xEnd = x+power\n",
    "    if xEnd > (length-1):\n",
    "        xEnd = (length-1)\n",
    "    \n",
    "    for idx in range(xStart, xEnd+1):\n",
    "        notSet.add((idx, y))\n",
    "\n",
    "    yStart = y-power\n",
    "    if yStart < 0:\n",
    "        yStart = 0\n",
    "    \n",
    "    yEnd = y+power\n",
    "    if yEnd > (length-1):\n",
    "        yEnd = length-1\n",
    "    \n",
    "    for idx in range(yStart, yEnd+1):\n",
    "        notSet.add((x, idx))\n",
    "    \n",
    "print(notSet)\n",
    "print(length*length - len(notSet))"
   ]
  }
 ],
 "metadata": {
  "kernelspec": {
   "display_name": "py3.9.5",
   "language": "python",
   "name": "python3"
  },
  "language_info": {
   "codemirror_mode": {
    "name": "ipython",
    "version": 3
   },
   "file_extension": ".py",
   "mimetype": "text/x-python",
   "name": "python",
   "nbconvert_exporter": "python",
   "pygments_lexer": "ipython3",
   "version": "3.9.5"
  }
 },
 "nbformat": 4,
 "nbformat_minor": 2
}
