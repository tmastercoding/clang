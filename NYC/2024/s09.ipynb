{
 "cells": [
  {
   "cell_type": "code",
   "execution_count": 35,
   "metadata": {},
   "outputs": [
    {
     "data": {
      "text/plain": [
       "[[1, 10], [2, 8], [9, 9], [1, 2]]"
      ]
     },
     "execution_count": 35,
     "metadata": {},
     "output_type": "execute_result"
    }
   ],
   "source": [
    "size = 10\n",
    "text = '1 1 5 7 6 6 5 8 9 10'\n",
    "rangeSize = 4\n",
    "\n",
    "test = '''1 10\n",
    "2 8\n",
    "9 9\n",
    "1 2'''\n",
    "\n",
    "numbers = list(map(lambda x: int(x), text.split()))\n",
    "lines = test.split('\\n')\n",
    "ranges = list(map(lambda x: list(map(lambda y: int(y), x.split())), lines))\n",
    "ranges"
   ]
  },
  {
   "cell_type": "code",
   "execution_count": 43,
   "metadata": {},
   "outputs": [
    {
     "ename": "ValueError",
     "evalue": "invalid literal for int() with base 10: ''",
     "output_type": "error",
     "traceback": [
      "\u001b[0;31m---------------------------------------------------------------------------\u001b[0m",
      "\u001b[0;31mValueError\u001b[0m                                Traceback (most recent call last)",
      "\u001b[0;32m/var/folders/nr/d4ml_tqd4z91nyr3ryvm6xsr0000gn/T/ipykernel_64579/1298633632.py\u001b[0m in \u001b[0;36m<module>\u001b[0;34m\u001b[0m\n\u001b[0;32m----> 1\u001b[0;31m \u001b[0msize\u001b[0m \u001b[0;34m=\u001b[0m \u001b[0mint\u001b[0m\u001b[0;34m(\u001b[0m\u001b[0minput\u001b[0m\u001b[0;34m(\u001b[0m\u001b[0;34m)\u001b[0m\u001b[0;34m)\u001b[0m\u001b[0;34m\u001b[0m\u001b[0;34m\u001b[0m\u001b[0m\n\u001b[0m\u001b[1;32m      2\u001b[0m \u001b[0mtext\u001b[0m \u001b[0;34m=\u001b[0m \u001b[0minput\u001b[0m\u001b[0;34m(\u001b[0m\u001b[0;34m)\u001b[0m\u001b[0;34m\u001b[0m\u001b[0;34m\u001b[0m\u001b[0m\n\u001b[1;32m      3\u001b[0m \u001b[0mrangeSize\u001b[0m \u001b[0;34m=\u001b[0m \u001b[0mint\u001b[0m\u001b[0;34m(\u001b[0m\u001b[0minput\u001b[0m\u001b[0;34m(\u001b[0m\u001b[0;34m)\u001b[0m\u001b[0;34m)\u001b[0m\u001b[0;34m\u001b[0m\u001b[0;34m\u001b[0m\u001b[0m\n\u001b[1;32m      4\u001b[0m \u001b[0mranges\u001b[0m \u001b[0;34m=\u001b[0m \u001b[0;34m[\u001b[0m\u001b[0;34m]\u001b[0m\u001b[0;34m\u001b[0m\u001b[0;34m\u001b[0m\u001b[0m\n\u001b[1;32m      5\u001b[0m \u001b[0mnumbers\u001b[0m \u001b[0;34m=\u001b[0m \u001b[0mlist\u001b[0m\u001b[0;34m(\u001b[0m\u001b[0mmap\u001b[0m\u001b[0;34m(\u001b[0m\u001b[0;32mlambda\u001b[0m \u001b[0mx\u001b[0m\u001b[0;34m:\u001b[0m \u001b[0mint\u001b[0m\u001b[0;34m(\u001b[0m\u001b[0mx\u001b[0m\u001b[0;34m)\u001b[0m\u001b[0;34m,\u001b[0m \u001b[0mtext\u001b[0m\u001b[0;34m.\u001b[0m\u001b[0msplit\u001b[0m\u001b[0;34m(\u001b[0m\u001b[0;34m)\u001b[0m\u001b[0;34m)\u001b[0m\u001b[0;34m)\u001b[0m\u001b[0;34m\u001b[0m\u001b[0;34m\u001b[0m\u001b[0m\n",
      "\u001b[0;31mValueError\u001b[0m: invalid literal for int() with base 10: ''"
     ]
    }
   ],
   "source": [
    "size = int(input())\n",
    "text = input()\n",
    "rangeSize = int(input())\n",
    "ranges = []\n",
    "numbers = list(map(lambda x: int(x), text.split()))\n",
    "for _ in range(rangeSize):\n",
    "    ranges.append(list(map(lambda x: int(x), input().split())))\n",
    "\n",
    "# print(size, numbers, rangeSize, ranges)"
   ]
  },
  {
   "cell_type": "code",
   "execution_count": 48,
   "metadata": {},
   "outputs": [
    {
     "name": "stdout",
     "output_type": "stream",
     "text": [
      "7\n",
      "1\n",
      "9\n",
      "0\n"
     ]
    }
   ],
   "source": [
    "for start, end in ranges:\n",
    "    temp = numbers[start-1:end]\n",
    "    isFound = 0\n",
    "    for num in sorted(set(temp)):\n",
    "        if(temp.count(num) == 1):\n",
    "            isFound = num\n",
    "            break  \n",
    "        else:\n",
    "            isFound = 0\n",
    "    print(isFound)"
   ]
  },
  {
   "cell_type": "code",
   "execution_count": 45,
   "metadata": {},
   "outputs": [],
   "source": [
    "for start, end in ranges:\n",
    "    temp = sorted(numbers[start-1:end])\n",
    "    isFound = 0\n",
    "    prev = temp[0]\n",
    "    for num in range(1, len(temp)):\n",
    "        prev = temp[num]\n",
    "\n",
    "    # print(temp, newList)\n",
    "        \n",
    "    # for num in sorted(set(temp)):\n",
    "    #     if(temp.count(num) == 1):\n",
    "    #         isFound = num\n",
    "    #         break  \n",
    "    # print(isFound)"
   ]
  },
  {
   "cell_type": "code",
   "execution_count": 46,
   "metadata": {},
   "outputs": [
    {
     "ename": "ValueError",
     "evalue": "invalid literal for int() with base 10: ''",
     "output_type": "error",
     "traceback": [
      "\u001b[0;31m---------------------------------------------------------------------------\u001b[0m",
      "\u001b[0;31mValueError\u001b[0m                                Traceback (most recent call last)",
      "\u001b[0;32m/var/folders/nr/d4ml_tqd4z91nyr3ryvm6xsr0000gn/T/ipykernel_21766/1874851414.py\u001b[0m in \u001b[0;36m<module>\u001b[0;34m\u001b[0m\n\u001b[0;32m----> 1\u001b[0;31m \u001b[0msize\u001b[0m \u001b[0;34m=\u001b[0m \u001b[0mint\u001b[0m\u001b[0;34m(\u001b[0m\u001b[0minput\u001b[0m\u001b[0;34m(\u001b[0m\u001b[0;34m)\u001b[0m\u001b[0;34m)\u001b[0m\u001b[0;34m\u001b[0m\u001b[0;34m\u001b[0m\u001b[0m\n\u001b[0m\u001b[1;32m      2\u001b[0m \u001b[0mtext\u001b[0m \u001b[0;34m=\u001b[0m \u001b[0minput\u001b[0m\u001b[0;34m(\u001b[0m\u001b[0;34m)\u001b[0m\u001b[0;34m\u001b[0m\u001b[0;34m\u001b[0m\u001b[0m\n\u001b[1;32m      3\u001b[0m \u001b[0mrangeSize\u001b[0m \u001b[0;34m=\u001b[0m \u001b[0mint\u001b[0m\u001b[0;34m(\u001b[0m\u001b[0minput\u001b[0m\u001b[0;34m(\u001b[0m\u001b[0;34m)\u001b[0m\u001b[0;34m)\u001b[0m\u001b[0;34m\u001b[0m\u001b[0;34m\u001b[0m\u001b[0m\n\u001b[1;32m      4\u001b[0m \u001b[0mnumbers\u001b[0m \u001b[0;34m=\u001b[0m \u001b[0mlist\u001b[0m\u001b[0;34m(\u001b[0m\u001b[0mmap\u001b[0m\u001b[0;34m(\u001b[0m\u001b[0;32mlambda\u001b[0m \u001b[0mx\u001b[0m\u001b[0;34m:\u001b[0m \u001b[0mint\u001b[0m\u001b[0;34m(\u001b[0m\u001b[0mx\u001b[0m\u001b[0;34m)\u001b[0m\u001b[0;34m,\u001b[0m \u001b[0mtext\u001b[0m\u001b[0;34m.\u001b[0m\u001b[0msplit\u001b[0m\u001b[0;34m(\u001b[0m\u001b[0;34m)\u001b[0m\u001b[0;34m)\u001b[0m\u001b[0;34m)\u001b[0m\u001b[0;34m\u001b[0m\u001b[0;34m\u001b[0m\u001b[0m\n\u001b[1;32m      5\u001b[0m \u001b[0;32mfor\u001b[0m \u001b[0m_\u001b[0m \u001b[0;32min\u001b[0m \u001b[0mrange\u001b[0m\u001b[0;34m(\u001b[0m\u001b[0mrangeSize\u001b[0m\u001b[0;34m)\u001b[0m\u001b[0;34m:\u001b[0m\u001b[0;34m\u001b[0m\u001b[0;34m\u001b[0m\u001b[0m\n",
      "\u001b[0;31mValueError\u001b[0m: invalid literal for int() with base 10: ''"
     ]
    }
   ],
   "source": [
    "size = int(input())\n",
    "text = input()\n",
    "rangeSize = int(input())\n",
    "numbers = list(map(lambda x: int(x), text.split()))\n",
    "for _ in range(rangeSize):\n",
    "    start, end = list(map(lambda x: int(x), input().split()))\n",
    "\n",
    "    temp = numbers[start-1:end]\n",
    "    isFound = 0 \n",
    "    for num in sorted(set(temp)):\n",
    "        if(temp.count(num) == 1):\n",
    "            isFound = num\n",
    "            break  \n",
    "    print(isFound)"
   ]
  },
  {
   "cell_type": "code",
   "execution_count": 95,
   "metadata": {},
   "outputs": [
    {
     "name": "stdout",
     "output_type": "stream",
     "text": [
      "7\n",
      "7\n",
      "9\n",
      "0\n"
     ]
    }
   ],
   "source": [
    "size = 10\n",
    "text = '1 1 5 7 6 6 5 8 9 10'\n",
    "rangeSize = 4\n",
    "\n",
    "test = '''1 10\n",
    "2 8\n",
    "9 9\n",
    "1 2'''\n",
    "\n",
    "numbers = list(map(lambda x: int(x), text.split()))\n",
    "lines = test.split('\\n')\n",
    "ranges = list(map(lambda x: list(map(lambda y: int(y), x.split())), lines))\n",
    "numberDict = dict(map(lambda x: (x, numbers[x]), range(size)))\n",
    "\n",
    "noOverlap = dict()\n",
    "for key, val in numberDict.items():\n",
    "    isFound = False\n",
    "    for key2, val2 in noOverlap.items():\n",
    "        if val == val2:\n",
    "            noOverlap.pop(key2)\n",
    "            isFound = True\n",
    "            break\n",
    "    if not isFound:\n",
    "        noOverlap.update({key: val})\n",
    "noOverlap\n",
    "\n",
    "\n",
    "for start, end in ranges:\n",
    "    # temp = dict(map(lambda key,val: (key, val) if (start <= key+1) and (key+1 >= end) else None, noOverlap.keys(), noOverlap.values()))     \n",
    "    temp = []\n",
    "    for key, val in noOverlap.items():\n",
    "        if (start <= key+1) and (key+1 <= end):\n",
    "            temp.append(val)\n",
    "    if len(temp) < 1:\n",
    "        print(0)\n",
    "    else:\n",
    "        print(min(temp))"
   ]
  },
  {
   "cell_type": "code",
   "execution_count": 151,
   "metadata": {},
   "outputs": [
    {
     "name": "stdout",
     "output_type": "stream",
     "text": [
      "{1, 5, 6, 7, 8, 9, 10} {1, 5, 6}\n",
      "{7, 8, 9, 10}\n",
      "7\n",
      "{1, 5, 6, 7, 8} {5, 6}\n",
      "{1, 7, 8}\n",
      "1\n",
      "{9} set()\n",
      "{9}\n",
      "9\n",
      "{1} {1}\n",
      "set()\n",
      "0\n"
     ]
    }
   ],
   "source": [
    "size = 10\n",
    "text = '1 1 5 7 6 6 5 8 9 10'\n",
    "rangeSize = 4\n",
    "\n",
    "test = '''1 10\n",
    "2 8\n",
    "9 9\n",
    "1 2'''\n",
    "\n",
    "numbers = list(map(lambda x: int(x), text.split()))\n",
    "lines = test.split('\\n')\n",
    "ranges = list(map(lambda x: list(map(lambda y: int(y), x.split())), lines))\n",
    "\n",
    "for start, end in ranges:\n",
    "    numberCopy = numbers[start-1:end]\n",
    "    noOverlap = set()\n",
    "    removeSet = set()\n",
    "    for val in numberCopy:\n",
    "        if val in noOverlap:\n",
    "            removeSet.add(val)\n",
    "        else:\n",
    "            noOverlap.add(val)\n",
    "    print(noOverlap, removeSet)\n",
    "    noOverlap -= removeSet\n",
    "    print(noOverlap)\n",
    "    if len(noOverlap) < 1:\n",
    "        print(0)\n",
    "    else:\n",
    "        print(min(noOverlap))"
   ]
  },
  {
   "cell_type": "code",
   "execution_count": 161,
   "metadata": {},
   "outputs": [
    {
     "name": "stdout",
     "output_type": "stream",
     "text": [
      "7\n",
      "1\n",
      "9\n",
      "0\n"
     ]
    }
   ],
   "source": [
    "size = 10\n",
    "text = '1 1 5 7 6 6 5 8 9 10'\n",
    "rangeSize = 4\n",
    "\n",
    "test = '''1 10\n",
    "2 8\n",
    "9 9\n",
    "1 2'''\n",
    "\n",
    "numbers = list(map(lambda x: int(x), text.split()))\n",
    "lines = test.split('\\n')\n",
    "ranges = list(map(lambda x: list(map(lambda y: int(y), x.split())), lines))\n",
    "\n",
    "for start, end in ranges:\n",
    "    numberCopy =numbers[start-1:end]\n",
    "    temp = sorted(list(set(numberCopy)))\n",
    "    # print(numberCopy)\n",
    "\n",
    "    cnt = 0\n",
    "    for val in temp:\n",
    "        if numberCopy.count(val) ==1:\n",
    "            print(val)\n",
    "            cnt += 1\n",
    "            break\n",
    "    if not cnt:\n",
    "        print(0)\n",
    "    # print(noOverlap, removeSet)\n",
    "    # noOverlap -= removeSet\n",
    "    # print(noOverlap)\n",
    "    # if len(noOverlap) < 1:\n",
    "    #     print(0)\n",
    "    # else:\n",
    "    #     print(min(noOverlap))"
   ]
  },
  {
   "cell_type": "code",
   "execution_count": 211,
   "metadata": {},
   "outputs": [
    {
     "data": {
      "text/plain": [
       "7"
      ]
     },
     "execution_count": 211,
     "metadata": {},
     "output_type": "execute_result"
    }
   ],
   "source": [
    "pre = [1, 1, 5, 7, 6, 6, 5, 8, 9, 10]\n",
    "post = list(set(pre))\n",
    "\n",
    "from collections import Counter\n",
    "pre = Counter(pre)\n",
    "post = Counter(post)\n",
    "\n",
    "temp =  pre - (pre - post) -(pre - post)\n",
    "min(temp)"
   ]
  },
  {
   "cell_type": "code",
   "execution_count": 217,
   "metadata": {},
   "outputs": [
    {
     "name": "stdout",
     "output_type": "stream",
     "text": [
      "Counter({7: 1, 8: 1, 9: 1, 10: 1})\n",
      "7\n",
      "Counter({1: 1, 7: 1, 8: 1})\n",
      "1\n",
      "Counter({9: 1})\n",
      "9\n",
      "Counter()\n",
      "0\n"
     ]
    }
   ],
   "source": [
    "size = 10\n",
    "text = '1 1 5 7 6 6 5 8 9 10'\n",
    "rangeSize = 4\n",
    "\n",
    "test = '''1 10\n",
    "2 8\n",
    "9 9\n",
    "1 2'''\n",
    "\n",
    "numbers = list(map(lambda x: int(x), text.split()))\n",
    "lines = test.split('\\n')\n",
    "ranges = list(map(lambda x: list(map(lambda y: int(y), x.split())), lines))\n",
    "\n",
    "from collections import Counter\n",
    "for start, end in ranges:\n",
    "    pre = numbers[start-1:end]\n",
    "    post = set(pre)\n",
    "    pre = Counter(pre)\n",
    "    post = Counter(post)\n",
    "    temp = pre - (pre - post) - (pre - post)\n",
    "    if len(temp):\n",
    "        print(min(temp))\n",
    "    else:\n",
    "        print(0)\n",
    "\n"
   ]
  },
  {
   "cell_type": "code",
   "execution_count": 213,
   "metadata": {},
   "outputs": [
    {
     "ename": "ValueError",
     "evalue": "invalid literal for int() with base 10: ''",
     "output_type": "error",
     "traceback": [
      "\u001b[0;31m---------------------------------------------------------------------------\u001b[0m",
      "\u001b[0;31mValueError\u001b[0m                                Traceback (most recent call last)",
      "\u001b[0;32m/var/folders/nr/d4ml_tqd4z91nyr3ryvm6xsr0000gn/T/ipykernel_62025/2417144640.py\u001b[0m in \u001b[0;36m<module>\u001b[0;34m\u001b[0m\n\u001b[0;32m----> 1\u001b[0;31m \u001b[0msize\u001b[0m \u001b[0;34m=\u001b[0m \u001b[0mint\u001b[0m\u001b[0;34m(\u001b[0m\u001b[0minput\u001b[0m\u001b[0;34m(\u001b[0m\u001b[0;34m)\u001b[0m\u001b[0;34m)\u001b[0m\u001b[0;34m\u001b[0m\u001b[0;34m\u001b[0m\u001b[0m\n\u001b[0m\u001b[1;32m      2\u001b[0m \u001b[0mtext\u001b[0m \u001b[0;34m=\u001b[0m \u001b[0minput\u001b[0m\u001b[0;34m(\u001b[0m\u001b[0;34m)\u001b[0m\u001b[0;34m\u001b[0m\u001b[0;34m\u001b[0m\u001b[0m\n\u001b[1;32m      3\u001b[0m \u001b[0mrangeSize\u001b[0m \u001b[0;34m=\u001b[0m \u001b[0mint\u001b[0m\u001b[0;34m(\u001b[0m\u001b[0minput\u001b[0m\u001b[0;34m(\u001b[0m\u001b[0;34m)\u001b[0m\u001b[0;34m)\u001b[0m\u001b[0;34m\u001b[0m\u001b[0;34m\u001b[0m\u001b[0m\n\u001b[1;32m      4\u001b[0m \u001b[0mranges\u001b[0m \u001b[0;34m=\u001b[0m \u001b[0;34m[\u001b[0m\u001b[0;34m]\u001b[0m\u001b[0;34m\u001b[0m\u001b[0;34m\u001b[0m\u001b[0m\n\u001b[1;32m      5\u001b[0m \u001b[0mnumbers\u001b[0m \u001b[0;34m=\u001b[0m \u001b[0mlist\u001b[0m\u001b[0;34m(\u001b[0m\u001b[0mmap\u001b[0m\u001b[0;34m(\u001b[0m\u001b[0;32mlambda\u001b[0m \u001b[0mx\u001b[0m\u001b[0;34m:\u001b[0m \u001b[0mint\u001b[0m\u001b[0;34m(\u001b[0m\u001b[0mx\u001b[0m\u001b[0;34m)\u001b[0m\u001b[0;34m,\u001b[0m \u001b[0mtext\u001b[0m\u001b[0;34m.\u001b[0m\u001b[0msplit\u001b[0m\u001b[0;34m(\u001b[0m\u001b[0;34m)\u001b[0m\u001b[0;34m)\u001b[0m\u001b[0;34m)\u001b[0m\u001b[0;34m\u001b[0m\u001b[0;34m\u001b[0m\u001b[0m\n",
      "\u001b[0;31mValueError\u001b[0m: invalid literal for int() with base 10: ''"
     ]
    }
   ],
   "source": [
    "size = int(input())\n",
    "text = input()\n",
    "rangeSize = int(input())\n",
    "ranges = []\n",
    "numbers = list(map(lambda x: int(x), text.split()))\n",
    "for _ in range(rangeSize):\n",
    "    ranges.append(list(map(lambda x: int(x), input().split())))\n",
    "    \n",
    "from collections import Counter\n",
    "for start, end in ranges:\n",
    "    pre = numbers[start-1:end]\n",
    "    post = set(pre)\n",
    "    pre = Counter(pre)\n",
    "    post = Counter(post)\n",
    "    temp = pre - (pre - post) - (pre - post)\n",
    "    if len(temp):\n",
    "        print(min(temp))\n",
    "    else:\n",
    "        print(0)"
   ]
  }
 ],
 "metadata": {
  "kernelspec": {
   "display_name": "py3.9.5",
   "language": "python",
   "name": "python3"
  },
  "language_info": {
   "codemirror_mode": {
    "name": "ipython",
    "version": 3
   },
   "file_extension": ".py",
   "mimetype": "text/x-python",
   "name": "python",
   "nbconvert_exporter": "python",
   "pygments_lexer": "ipython3",
   "version": "3.9.5"
  }
 },
 "nbformat": 4,
 "nbformat_minor": 2
}
