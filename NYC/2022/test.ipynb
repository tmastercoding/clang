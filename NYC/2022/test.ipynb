{
 "cells": [
  {
   "cell_type": "code",
   "execution_count": 18,
   "metadata": {},
   "outputs": [],
   "source": [
    "def readLogFile( filename ):\n",
    "    with open( f'./data/{filename}') as f:\n",
    "        header = tuple(f.readline().split())\n",
    "        logs = f.readlines()\n",
    "\n",
    "    data = list()\n",
    "    for log in logs:\n",
    "        # print( log.replace('\\n','').split() )\n",
    "        # data.append( tuple(log.replace('\\n','').split()) )\n",
    "\n",
    "        data.append(tuple(map( lambda x: int(x), log.replace('\\n','').split()))) \n",
    "\n",
    "    return header, tuple(data)"
   ]
  },
  {
   "cell_type": "code",
   "execution_count": 20,
   "metadata": {},
   "outputs": [
    {
     "data": {
      "text/plain": [
       "[{'filename': 'log_01.log',\n",
       "  'header': ('3', '6'),\n",
       "  'logs': ((100, 1, 0),\n",
       "   (200, 3, 0),\n",
       "   (300, 2, 0),\n",
       "   (400, 1, 1),\n",
       "   (500, 2, 1),\n",
       "   (600, 3, 1))},\n",
       " {'filename': 'log_02.log',\n",
       "  'header': ('1', '3'),\n",
       "  'logs': ((1023, 1, 0), (1102, 1, 0), (1296, 1, 1))},\n",
       " {'filename': 'log_03.log',\n",
       "  'header': ('1', '3'),\n",
       "  'logs': ((7624, 1, 0), (7700, 1, 1), (7791, 1, 1))},\n",
       " {'filename': 'log_04.log',\n",
       "  'header': ('1', '2'),\n",
       "  'logs': ((10, 1, 0), (47, 1, 1))},\n",
       " {'filename': 'log_05.log', 'header': ('1', '1'), 'logs': ((37, 1, 0),)}]"
      ]
     },
     "execution_count": 20,
     "metadata": {},
     "output_type": "execute_result"
    }
   ],
   "source": [
    "filenames = (\n",
    "    'log_01.log',\n",
    "    'log_02.log',\n",
    "    'log_03.log',\n",
    "    'log_04.log',\n",
    "    'log_05.log',\n",
    ")\n",
    "\n",
    "files = list()\n",
    "for filename in filenames:\n",
    "    files.append({\n",
    "        'filename': filename,\n",
    "        'header': readLogFile(filename)[0],\n",
    "        'logs': readLogFile(filename)[1]\n",
    "        })\n",
    "\n",
    "files"
   ]
  },
  {
   "cell_type": "code",
   "execution_count": 5,
   "metadata": {},
   "outputs": [
    {
     "data": {
      "text/plain": [
       "((100, 1, 0), (200, 3, 0), (300, 2, 0), (400, 1, 1), (500, 2, 1), (600, 3, 1))"
      ]
     },
     "execution_count": 5,
     "metadata": {},
     "output_type": "execute_result"
    }
   ],
   "source": [
    "file_1 = files[0].get('logs')\n",
    "file_1"
   ]
  },
  {
   "cell_type": "code",
   "execution_count": 6,
   "metadata": {},
   "outputs": [
    {
     "name": "stdout",
     "output_type": "stream",
     "text": [
      "100 1 0\n",
      "400 1 1\n",
      "==============\n",
      "300 2 0\n",
      "500 2 1\n",
      "==============\n",
      "200 3 0\n",
      "600 3 1\n",
      "==============\n"
     ]
    }
   ],
   "source": [
    "players = []\n",
    "header = files[0].get('header')\n",
    "num_of_player = int(header[0])\n",
    "\n",
    "for player in range(1, num_of_player+1):\n",
    "    list()\n",
    "    for line in file_1:\n",
    "        if line[1] == player:\n",
    "            startend.append(line)\n",
    "            print( line[0], line[1], line[2])\n",
    "    print(\"==============\")\n",
    "    \n"
   ]
  },
  {
   "cell_type": "code",
   "execution_count": 13,
   "metadata": {},
   "outputs": [
    {
     "name": "stdout",
     "output_type": "stream",
     "text": [
      "inner 1 : NO\n",
      "[(100, 1, 0), (200, 3, 0)]\n",
      "(200, 3, 0)\n",
      "inner 2 : NO\n",
      "[(100, 1, 0), (200, 3, 0), (300, 2, 0), (300, 2, 0)]\n",
      "(300, 2, 0)\n",
      "inner 3 : NO\n",
      "[(100, 1, 0), (200, 3, 0), (300, 2, 0), (300, 2, 0)]\n",
      "(300, 2, 0)\n",
      "inner 4 : NO\n",
      "[(100, 1, 0), (200, 3, 0), (300, 2, 0), (300, 2, 0), (400, 1, 1), (400, 1, 1), (400, 1, 1)]\n",
      "(400, 1, 1)\n",
      "inner 5 : NO\n",
      "[(100, 1, 0), (200, 3, 0), (300, 2, 0), (300, 2, 0), (400, 1, 1), (400, 1, 1), (400, 1, 1)]\n",
      "(400, 1, 1)\n",
      "inner 6 : NO\n",
      "[(100, 1, 0), (200, 3, 0), (300, 2, 0), (300, 2, 0), (400, 1, 1), (400, 1, 1), (400, 1, 1)]\n",
      "(400, 1, 1)\n",
      "inner 7 : NO\n",
      "[(100, 1, 0), (200, 3, 0), (300, 2, 0), (300, 2, 0), (400, 1, 1), (400, 1, 1), (400, 1, 1), (500, 2, 1), (500, 2, 1)]\n",
      "(500, 2, 1)\n",
      "inner 8 : NO\n",
      "[(100, 1, 0), (200, 3, 0), (300, 2, 0), (300, 2, 0), (400, 1, 1), (400, 1, 1), (400, 1, 1), (500, 2, 1), (500, 2, 1)]\n",
      "(500, 2, 1)\n",
      "inner 9 : NO\n",
      "[(100, 1, 0), (200, 3, 0), (300, 2, 0), (300, 2, 0), (400, 1, 1), (400, 1, 1), (400, 1, 1), (500, 2, 1), (500, 2, 1), (600, 3, 1), (600, 3, 1), (600, 3, 1)]\n",
      "(600, 3, 1)\n",
      "inner 10 : NO\n",
      "[(100, 1, 0), (200, 3, 0), (300, 2, 0), (300, 2, 0), (400, 1, 1), (400, 1, 1), (400, 1, 1), (500, 2, 1), (500, 2, 1), (600, 3, 1), (600, 3, 1), (600, 3, 1)]\n",
      "(600, 3, 1)\n",
      "inner 11 : NO\n",
      "[(100, 1, 0), (200, 3, 0), (300, 2, 0), (300, 2, 0), (400, 1, 1), (400, 1, 1), (400, 1, 1), (500, 2, 1), (500, 2, 1), (600, 3, 1), (600, 3, 1), (600, 3, 1)]\n",
      "(600, 3, 1)\n"
     ]
    },
    {
     "data": {
      "text/plain": [
       "[(100, 1, 0),\n",
       " (200, 3, 0),\n",
       " (300, 2, 0),\n",
       " (300, 2, 0),\n",
       " (400, 1, 1),\n",
       " (400, 1, 1),\n",
       " (400, 1, 1),\n",
       " (500, 2, 1),\n",
       " (500, 2, 1),\n",
       " (600, 3, 1),\n",
       " (600, 3, 1),\n",
       " (600, 3, 1)]"
      ]
     },
     "execution_count": 13,
     "metadata": {},
     "output_type": "execute_result"
    }
   ],
   "source": [
    "unique = []\n",
    "flag = False\n",
    "for idx, data in enumerate(file_1):\n",
    "\n",
    "    # 1. if there is no start info of player\n",
    "    # 2. if the time between start and end is below 60 sec\n",
    "    # 3. if there is an extra end\n",
    "    # 4. if there is start without end\n",
    "\n",
    "    # - len(unique) && data[2] == 0 \n",
    "    # - len(unique) && data[2] == 1 --> 'no'\n",
    "\n",
    "    if flag:\n",
    "        flag = True\n",
    "\n",
    "    if len(unique) == 0:\n",
    "        if data[2] == 0:\n",
    "            unique.append(data)\n",
    "        else:\n",
    "            print(f\"outer {idx} : NO\")\n",
    "            flag = True\n",
    "\n",
    "    else:\n",
    "        for jdx, u_data in enumerate(unique):\n",
    "            if u_data[1] == data[1]:\n",
    "                if data[0] - u_data[0] < 60:\n",
    "                    print(f\"inner {jdx} : NO\")\n",
    "                    print(unique)\n",
    "                    print(data)\n",
    "                    flag = True\n",
    "                elif u_data[2] == data[2]:\n",
    "                    print(f\"inner {jdx} : NO\")\n",
    "                    print(unique)\n",
    "                    print(data)\n",
    "                    flag = True\n",
    "            elif u_data[2] == 0:\n",
    "                unique.append(data)\n",
    "\n",
    "unique"
   ]
  },
  {
   "cell_type": "code",
   "execution_count": null,
   "metadata": {},
   "outputs": [],
   "source": [
    "key = player\n",
    "val = players"
   ]
  },
  {
   "cell_type": "code",
   "execution_count": null,
   "metadata": {},
   "outputs": [],
   "source": [
    "{\n",
    "   1 : [\n",
    "       [100, 1, 0],\n",
    "       [400, 1, 1]\n",
    "   ],   \n",
    "   2 : [\n",
    "       [100, 1, 0],\n",
    "       [400, 1, 1]\n",
    "   ],   \n",
    "   3 : [\n",
    "       [100, 1, 0],\n",
    "       [400, 1, 1]\n",
    "   ]   \n",
    "}"
   ]
  },
  {
   "cell_type": "code",
   "execution_count": 31,
   "metadata": {},
   "outputs": [
    {
     "ename": "AttributeError",
     "evalue": "'NoneType' object has no attribute 'append'",
     "output_type": "error",
     "traceback": [
      "\u001b[0;31m---------------------------------------------------------------------------\u001b[0m",
      "\u001b[0;31mAttributeError\u001b[0m                            Traceback (most recent call last)",
      "\u001b[0;32m/var/folders/nr/d4ml_tqd4z91nyr3ryvm6xsr0000gn/T/ipykernel_6592/2546975286.py\u001b[0m in \u001b[0;36m<module>\u001b[0;34m\u001b[0m\n\u001b[1;32m      3\u001b[0m \u001b[0;32mfor\u001b[0m \u001b[0mline\u001b[0m \u001b[0;32min\u001b[0m \u001b[0mfile_1\u001b[0m\u001b[0;34m:\u001b[0m\u001b[0;34m\u001b[0m\u001b[0;34m\u001b[0m\u001b[0m\n\u001b[1;32m      4\u001b[0m     \u001b[0;32mif\u001b[0m \u001b[0mline\u001b[0m\u001b[0;34m[\u001b[0m\u001b[0;36m1\u001b[0m\u001b[0;34m]\u001b[0m \u001b[0;32min\u001b[0m \u001b[0md\u001b[0m\u001b[0;34m.\u001b[0m\u001b[0mkeys\u001b[0m\u001b[0;34m(\u001b[0m\u001b[0;34m)\u001b[0m\u001b[0;34m:\u001b[0m\u001b[0;34m\u001b[0m\u001b[0;34m\u001b[0m\u001b[0m\n\u001b[0;32m----> 5\u001b[0;31m         \u001b[0;34m(\u001b[0m\u001b[0md\u001b[0m\u001b[0;34m.\u001b[0m\u001b[0mget\u001b[0m\u001b[0;34m(\u001b[0m\u001b[0mline\u001b[0m\u001b[0;34m[\u001b[0m\u001b[0;36m1\u001b[0m\u001b[0;34m]\u001b[0m\u001b[0;34m)\u001b[0m\u001b[0;34m)\u001b[0m\u001b[0;34m.\u001b[0m\u001b[0mappend\u001b[0m\u001b[0;34m(\u001b[0m\u001b[0mline\u001b[0m\u001b[0;34m)\u001b[0m\u001b[0;34m\u001b[0m\u001b[0;34m\u001b[0m\u001b[0m\n\u001b[0m\u001b[1;32m      6\u001b[0m     \u001b[0;32melse\u001b[0m\u001b[0;34m:\u001b[0m\u001b[0;34m\u001b[0m\u001b[0;34m\u001b[0m\u001b[0m\n\u001b[1;32m      7\u001b[0m         d.update(\n",
      "\u001b[0;31mAttributeError\u001b[0m: 'NoneType' object has no attribute 'append'"
     ]
    }
   ],
   "source": [
    "file_1 = files[0].get('logs')\n",
    "d = dict()\n",
    "for line in file_1:\n",
    "    if line[1] in d.keys():\n",
    "        (d.get(line[1])).append(line)\n",
    "    else:\n",
    "        d.update(\n",
    "            {\n",
    "                line[1] : list().append(line)\n",
    "            } \n",
    "        )"
   ]
  }
 ],
 "metadata": {
  "kernelspec": {
   "display_name": "py3.9.5",
   "language": "python",
   "name": "python3"
  },
  "language_info": {
   "codemirror_mode": {
    "name": "ipython",
    "version": 3
   },
   "file_extension": ".py",
   "mimetype": "text/x-python",
   "name": "python",
   "nbconvert_exporter": "python",
   "pygments_lexer": "ipython3",
   "version": "3.9.5"
  },
  "orig_nbformat": 4
 },
 "nbformat": 4,
 "nbformat_minor": 2
}
