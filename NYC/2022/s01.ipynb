{
 "cells": [
  {
   "cell_type": "code",
   "execution_count": 170,
   "metadata": {},
   "outputs": [],
   "source": [
    "size = 7\n",
    "text = '1 1 1 1 1 1 1'\n",
    "\n",
    "structs = list(map(lambda x: int(x), text.split()))"
   ]
  },
  {
   "cell_type": "code",
   "execution_count": 67,
   "metadata": {},
   "outputs": [
    {
     "data": {
      "text/plain": [
       "False"
      ]
     },
     "execution_count": 67,
     "metadata": {},
     "output_type": "execute_result"
    }
   ],
   "source": [
    "test = [1, 1, 2, 3]\n",
    "\n",
    "list(set(test)) == test"
   ]
  },
  {
   "cell_type": "code",
   "execution_count": 195,
   "metadata": {},
   "outputs": [
    {
     "name": "stdout",
     "output_type": "stream",
     "text": [
      "5\n"
     ]
    }
   ],
   "source": [
    "cnts = []\n",
    "\n",
    "for start in range(size):\n",
    "    for end in range(size, start, -1):\n",
    "        temp = sorted(structs[start: end])\n",
    "        length = len(temp)\n",
    "        if list(set(temp)) == temp:\n",
    "            cnts.append(length)\n",
    "            break\n",
    "\n",
    "print(max(cnts))"
   ]
  },
  {
   "cell_type": "code",
   "execution_count": null,
   "metadata": {},
   "outputs": [],
   "source": []
  },
  {
   "cell_type": "code",
   "execution_count": 191,
   "metadata": {},
   "outputs": [],
   "source": [
    "size = 7\n",
    "text = '3 1 4 1 5 9 2'\n",
    "\n",
    "structs = list(map(lambda x: int(x), text.split()))"
   ]
  },
  {
   "cell_type": "code",
   "execution_count": 194,
   "metadata": {},
   "outputs": [
    {
     "name": "stdout",
     "output_type": "stream",
     "text": [
      "5\n"
     ]
    }
   ],
   "source": [
    "prev = []\n",
    "for idx in range(size):\n",
    "    if structs[idx] in prev:\n",
    "        prev = prev[prev.index(structs[idx])+1:]\n",
    "    prev.append(structs[idx])\n",
    "print(len(prev))"
   ]
  },
  {
   "cell_type": "code",
   "execution_count": 137,
   "metadata": {},
   "outputs": [
    {
     "name": "stdout",
     "output_type": "stream",
     "text": [
      "5\n"
     ]
    }
   ],
   "source": [
    "maxCnt = 1\n",
    "for start in range(size):\n",
    "    if maxCnt+start > size:\n",
    "        break\n",
    "    for end in range(size, start, -1):\n",
    "        temp = sorted(structs[start: end])\n",
    "        length = len(temp)\n",
    "        if list(set(temp)) == temp:\n",
    "            if len(temp) > maxCnt:\n",
    "                maxCnt = len(temp)\n",
    "                break\n",
    "\n",
    "print(maxCnt)"
   ]
  },
  {
   "cell_type": "code",
   "execution_count": 52,
   "metadata": {},
   "outputs": [
    {
     "name": "stdout",
     "output_type": "stream",
     "text": [
      "5\n"
     ]
    }
   ],
   "source": [
    "maxCnt = 1\n",
    "for start in range(size):\n",
    "    cnt = 0\n",
    "    temp = []\n",
    "    if maxCnt + start > size:\n",
    "        break\n",
    "    for idx in range(start, size):\n",
    "        if not temp.count(structs[idx]):\n",
    "            temp.append(structs[idx])\n",
    "        else:\n",
    "            break\n",
    "        cnt +=1\n",
    "    if cnt > maxCnt:\n",
    "        maxCnt = cnt\n",
    "\n",
    "print(maxCnt)"
   ]
  },
  {
   "cell_type": "code",
   "execution_count": null,
   "metadata": {},
   "outputs": [],
   "source": [
    "size = int(input())\n",
    "text = input()"
   ]
  },
  {
   "cell_type": "code",
   "execution_count": 49,
   "metadata": {},
   "outputs": [
    {
     "data": {
      "text/plain": [
       "5"
      ]
     },
     "execution_count": 49,
     "metadata": {},
     "output_type": "execute_result"
    }
   ],
   "source": [
    "maxSize = 1\n",
    "\n",
    "for start in range(size):\n",
    "    count = 0\n",
    "    temp = structs[start:]\n",
    "    for num in temp:\n",
    "        if temp.count(num) != 1:\n",
    "            break\n",
    "        count+=1\n",
    "    else:\n",
    "        if count > maxSize:\n",
    "            maxSize = count\n",
    "        \n",
    "maxSize"
   ]
  },
  {
   "cell_type": "code",
   "execution_count": null,
   "metadata": {},
   "outputs": [],
   "source": []
  }
 ],
 "metadata": {
  "kernelspec": {
   "display_name": "py3.9.5",
   "language": "python",
   "name": "python3"
  },
  "language_info": {
   "codemirror_mode": {
    "name": "ipython",
    "version": 3
   },
   "file_extension": ".py",
   "mimetype": "text/x-python",
   "name": "python",
   "nbconvert_exporter": "python",
   "pygments_lexer": "ipython3",
   "version": "3.9.5"
  }
 },
 "nbformat": 4,
 "nbformat_minor": 2
}
